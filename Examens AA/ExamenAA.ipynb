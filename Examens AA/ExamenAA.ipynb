{
 "cells": [
  {
   "cell_type": "markdown",
   "metadata": {},
   "source": [
    "<div style=\"padding:30px; color: white; background-color: #0071CD\">\n",
    "<center>\n",
    "<p>\n",
    "<h1>Algorítimica Avançada</h1>\n",
    "<h2>Exámen práctico II - NQueens </h2>\n",
    "</center>\n",
    "</p>\n",
    "</div>"
   ]
  },
  {
   "cell_type": "markdown",
   "metadata": {},
   "source": [
    "<div class=\"alert alert-danger\">\n",
    "<center>\n",
    "  <h1>ATENCIÓN!</h1>\n",
    "  \n",
    "  Para realizar la entrega, hay que subir únicamente este fichero renombrado como: __EP21\\_*apellidos*\\_*nombre*.ipynb__\n",
    "</center>\n",
    "</div>"
   ]
  },
  {
   "cell_type": "markdown",
   "metadata": {},
   "source": [
    "<div class=\"alert alert-info\">\n",
    "<center>\n",
    "  <h1>Introducción</h1>\n",
    "</center>\n",
    "</div>"
   ]
  },
  {
   "cell_type": "markdown",
   "metadata": {},
   "source": [
    "El objetivo de este examen es solucionar el problema de las N-Reinas que consiste en colocar $N$ reinas de ajedrez en un tablero de dimensión $N$x$N$ de tal forma que no se amenazen entre ellas. En el siguiente ejemplo se ve el problema resuelto en un tablero de dimensión 4x4."
   ]
  },
  {
   "cell_type": "code",
   "execution_count": 3,
   "metadata": {},
   "outputs": [
    {
     "name": "stdout",
     "output_type": "stream",
     "text": [
      "+---+---+---+---+\n",
      "|   |   | Q |   |\n",
      "+---+---+---+---+\n",
      "| Q |   |   |   |\n",
      "+---+---+---+---+\n",
      "|   |   |   | Q |\n",
      "+---+---+---+---+\n",
      "|   | Q |   |   |\n",
      "+---+---+---+---+\n",
      "\n"
     ]
    }
   ],
   "source": [
    "from queens import Queens\n",
    "\n",
    "b1 = Queens(n=4)\n",
    "b2 = b1.add_queen((1,0))\n",
    "b3 = b2.add_queen((3,1))\n",
    "b4 = b3.add_queen((0,2))\n",
    "b5 = b4.add_queen((2,3))\n",
    "print(b5)"
   ]
  },
  {
   "cell_type": "markdown",
   "metadata": {},
   "source": [
    "Para simplificar el problema se os ofrece la clase `Queens` que contiene las utilidades necesarias para trabajar con el tablero. Hemos visto en el bloque anterior como construimos un tablero de dimensión 4 `Queens(n=4)` y como añadimos reinas utilizando `Queens.add_queen(pos)`. Cada vez que añadimos una reina, la función nos devuelve una nueva instancia de la clase Queens modificada.\n",
    "\n",
    "También tenemos el atributo `Queens.available` que nos devolverá una lista de posiciones en las que es legal añadir una reina."
   ]
  },
  {
   "cell_type": "code",
   "execution_count": 2,
   "metadata": {},
   "outputs": [
    {
     "name": "stdout",
     "output_type": "stream",
     "text": [
      "En el siguiente tablero:\n",
      "+---+---+---+\n",
      "|   |   |   |\n",
      "+---+---+---+\n",
      "| Q |   |   |\n",
      "+---+---+---+\n",
      "|   |   |   |\n",
      "+---+---+---+\n",
      "\n",
      "Las posiciones en las cuales podemos introducir reinas son:\n",
      "[(0, 2), (2, 2)]\n"
     ]
    }
   ],
   "source": [
    "b1 = Queens(n=3)\n",
    "b2 = b1.add_queen((1,0))\n",
    "print(\"En el siguiente tablero:\")\n",
    "print(b2)\n",
    "print(\"Las posiciones en las cuales podemos introducir reinas son:\")\n",
    "print(b2.available)"
   ]
  },
  {
   "cell_type": "markdown",
   "metadata": {},
   "source": [
    "Además tenemos la función `Queens.state()` que nos indicará si ya hemos acabado `True` o todavía no `False`."
   ]
  },
  {
   "cell_type": "code",
   "execution_count": 3,
   "metadata": {},
   "outputs": [
    {
     "name": "stdout",
     "output_type": "stream",
     "text": [
      "El estado de b2 es: False\n",
      "+---+---+---+\n",
      "|   |   |   |\n",
      "+---+---+---+\n",
      "| Q |   |   |\n",
      "+---+---+---+\n",
      "|   |   |   |\n",
      "+---+---+---+\n",
      "\n",
      "El estado de b5 es: True\n",
      "+---+---+---+---+\n",
      "|   |   | Q |   |\n",
      "+---+---+---+---+\n",
      "| Q |   |   |   |\n",
      "+---+---+---+---+\n",
      "|   |   |   | Q |\n",
      "+---+---+---+---+\n",
      "|   | Q |   |   |\n",
      "+---+---+---+---+\n",
      "\n"
     ]
    }
   ],
   "source": [
    "print(\"El estado de b2 es: %s\" % str(b2.state()))\n",
    "print(b2)\n",
    "print(\"El estado de b5 es: %s\" % str(b5.state()))\n",
    "print(b5)\n"
   ]
  },
  {
   "cell_type": "markdown",
   "metadata": {},
   "source": [
    "# Importante!\n",
    "\n",
    "_Haced las pruebas mínimo con n=4, ya que para n=3 y n=2 no existe solución_"
   ]
  },
  {
   "cell_type": "code",
   "execution_count": 254,
   "metadata": {},
   "outputs": [],
   "source": [
    "def backtracking(tablero):\n",
    "    \n",
    "    if tablero.state(): return tablero\n",
    "    \n",
    "    if len(tablero.available) == 0: return False\n",
    "    \n",
    "    for jugada in tablero.available:\n",
    "        solucion = backtracking(tablero.add_queen(jugada))\n",
    "        if solucion:\n",
    "            return solucion\n",
    "    \n",
    "    return solucion"
   ]
  },
  {
   "cell_type": "code",
   "execution_count": 364,
   "metadata": {},
   "outputs": [
    {
     "name": "stdout",
     "output_type": "stream",
     "text": [
      "+---+---+---+---+\n",
      "|   | Q |   |   |\n",
      "+---+---+---+---+\n",
      "|   |   |   | Q |\n",
      "+---+---+---+---+\n",
      "| Q |   |   |   |\n",
      "+---+---+---+---+\n",
      "|   |   | Q |   |\n",
      "+---+---+---+---+\n",
      "\n"
     ]
    }
   ],
   "source": [
    "b1 = Queens(n=4)\n",
    "print(backtracking(b1))"
   ]
  },
  {
   "cell_type": "code",
   "execution_count": 220,
   "metadata": {},
   "outputs": [
    {
     "name": "stdout",
     "output_type": "stream",
     "text": [
      "En el siguiente tablero:\n",
      "+---+---+---+\n",
      "|   |   |   |\n",
      "+---+---+---+\n",
      "| Q |   |   |\n",
      "+---+---+---+\n",
      "|   |   |   |\n",
      "+---+---+---+\n",
      "\n",
      "Las posiciones en las cuales podemos introducir reinas son:\n",
      "[(0, 2), (2, 2)]\n"
     ]
    }
   ],
   "source": [
    "b1 = Queens(n=3)\n",
    "b2 = b1.add_queen((1,0))\n",
    "print(\"En el siguiente tablero:\")\n",
    "print(b2)\n",
    "print(\"Las posiciones en las cuales podemos introducir reinas son:\")\n",
    "print(b2.available)"
   ]
  },
  {
   "cell_type": "markdown",
   "metadata": {},
   "source": [
    "<div class=\"alert alert-info\">\n",
    "<center>\n",
    "  <h1>Introducción</h1>\n",
    "</center>"
   ]
  },
  {
   "cell_type": "markdown",
   "metadata": {},
   "source": [
    "\n",
    "<div class=\"alert alert-success\" style=\"width:90%; margin:0 auto;\">\n",
    "\n",
    "  <p>\n",
    "  Implementar una función que resuelva el problema de las NQueens, es decir, que consiga situar N reinas en un tablero de NxN, utilizando una estrategia de _Backtracking_. **Es obligatorio implementarlo de forma recursiva**.\n",
    "  </p>\n",
    "\n",
    "  <p>\n",
    "    </div>"
   ]
  },
  {
   "cell_type": "code",
   "execution_count": 7,
   "metadata": {
    "collapsed": true
   },
   "outputs": [],
   "source": [
    "def backtracking(queens):\n",
    "    final = queens\n",
    "    if queens.state():        \n",
    "        return queens \n",
    "    for x in queens.available:\n",
    "        final = backtracking(queens.add_queen(x))\n",
    "        if final.state():\n",
    "            break\n",
    "    return final"
   ]
  },
  {
   "cell_type": "code",
   "execution_count": 18,
   "metadata": {},
   "outputs": [],
   "source": [
    "def back(queens):\n",
    "    \n",
    "    pila = [queens]\n",
    "    while not queens.state():\n",
    "        queens = pila.pop(-1)\n",
    "        for jugada in queens.available:\n",
    "            pila.append(queens.add_queen(jugada))\n",
    "                \n",
    "    return queens\n",
    "                "
   ]
  },
  {
   "cell_type": "code",
   "execution_count": 19,
   "metadata": {},
   "outputs": [
    {
     "name": "stdout",
     "output_type": "stream",
     "text": [
      "+---+---+---+---+---+---+---+---+---+\n",
      "|   |   |   |   | Q |   |   |   |   |\n",
      "+---+---+---+---+---+---+---+---+---+\n",
      "|   |   | Q |   |   |   |   |   |   |\n",
      "+---+---+---+---+---+---+---+---+---+\n",
      "| Q |   |   |   |   |   |   |   |   |\n",
      "+---+---+---+---+---+---+---+---+---+\n",
      "|   |   |   |   |   | Q |   |   |   |\n",
      "+---+---+---+---+---+---+---+---+---+\n",
      "|   |   |   |   |   |   |   | Q |   |\n",
      "+---+---+---+---+---+---+---+---+---+\n",
      "|   | Q |   |   |   |   |   |   |   |\n",
      "+---+---+---+---+---+---+---+---+---+\n",
      "|   |   |   | Q |   |   |   |   |   |\n",
      "+---+---+---+---+---+---+---+---+---+\n",
      "|   |   |   |   |   |   | Q |   |   |\n",
      "+---+---+---+---+---+---+---+---+---+\n",
      "|   |   |   |   |   |   |   |   | Q |\n",
      "+---+---+---+---+---+---+---+---+---+\n",
      "\n"
     ]
    }
   ],
   "source": [
    "print(back(Queens(n=9)))"
   ]
  },
  {
   "cell_type": "code",
   "execution_count": 14,
   "metadata": {},
   "outputs": [
    {
     "name": "stdout",
     "output_type": "stream",
     "text": [
      "1 loop, best of 3: 669 ms per loop\n",
      "+---+---+---+---+---+---+---+---+---+\n",
      "| Q |   |   |   |   |   |   |   |   |\n",
      "+---+---+---+---+---+---+---+---+---+\n",
      "|   |   | Q |   |   |   |   |   |   |\n",
      "+---+---+---+---+---+---+---+---+---+\n",
      "|   |   |   |   |   | Q |   |   |   |\n",
      "+---+---+---+---+---+---+---+---+---+\n",
      "|   |   |   |   |   |   |   | Q |   |\n",
      "+---+---+---+---+---+---+---+---+---+\n",
      "|   | Q |   |   |   |   |   |   |   |\n",
      "+---+---+---+---+---+---+---+---+---+\n",
      "|   |   |   | Q |   |   |   |   |   |\n",
      "+---+---+---+---+---+---+---+---+---+\n",
      "|   |   |   |   |   |   |   |   | Q |\n",
      "+---+---+---+---+---+---+---+---+---+\n",
      "|   |   |   |   |   |   | Q |   |   |\n",
      "+---+---+---+---+---+---+---+---+---+\n",
      "|   |   |   |   | Q |   |   |   |   |\n",
      "+---+---+---+---+---+---+---+---+---+\n",
      "\n"
     ]
    }
   ],
   "source": [
    "c = Queens(n=9)\n",
    "%timeit backtracking(c)\n",
    "print(backtracking(c))"
   ]
  },
  {
   "cell_type": "code",
   "execution_count": 6,
   "metadata": {},
   "outputs": [
    {
     "name": "stdout",
     "output_type": "stream",
     "text": [
      "+---+---+---+---+\n",
      "|   | Q |   |   |\n",
      "+---+---+---+---+\n",
      "|   |   |   | Q |\n",
      "+---+---+---+---+\n",
      "| Q |   |   |   |\n",
      "+---+---+---+---+\n",
      "|   |   | Q |   |\n",
      "+---+---+---+---+\n",
      "\n"
     ]
    }
   ],
   "source": [
    "c = Queens(n=4)\n",
    "print(backtracking(c))"
   ]
  },
  {
   "cell_type": "code",
   "execution_count": 7,
   "metadata": {},
   "outputs": [
    {
     "name": "stdout",
     "output_type": "stream",
     "text": [
      "+---+---+---+---+---+---+\n",
      "|   | Q |   |   |   |   |\n",
      "+---+---+---+---+---+---+\n",
      "|   |   |   | Q |   |   |\n",
      "+---+---+---+---+---+---+\n",
      "|   |   |   |   |   | Q |\n",
      "+---+---+---+---+---+---+\n",
      "| Q |   |   |   |   |   |\n",
      "+---+---+---+---+---+---+\n",
      "|   |   | Q |   |   |   |\n",
      "+---+---+---+---+---+---+\n",
      "|   |   |   |   | Q |   |\n",
      "+---+---+---+---+---+---+\n",
      "\n"
     ]
    }
   ],
   "source": [
    "c = Queens(n=6)\n",
    "print(backtracking(c))"
   ]
  },
  {
   "cell_type": "markdown",
   "metadata": {},
   "source": [
    "<div class=\"alert alert-info\">\n",
    "<center>\n",
    "  <h1>Preguntas</h1>\n",
    "</center>\n",
    "</div>"
   ]
  },
  {
   "cell_type": "markdown",
   "metadata": {},
   "source": [
    "### 1. Como has implementado el algoritmo?\n",
    "\n",
    "Mediante un algoritmo recursivo. Recorro todas las posiciones posibles donde puedo colocar la reina, y llamo a la función de forma recursiva, añadiendo en el parametro la reina en una posición permitida. La condición de que sea\n",
    "solución, se encuentra al principio, y si lo es, me retornarà el tablero con todas las reinas. Por último, si al acabar\n",
    "la llamada recursiva el tablero final està completo, sabiendo que cumple las condiciones deseadas, paro la iteración \n",
    "con un break y retorno este tablero final.\n",
    "\n",
    "\n",
    "### 2. Realiza un análisis de complejidad del algoritmo\n",
    "\n",
    "_CONTESTAR AQUÍ_"
   ]
  },
  {
   "cell_type": "code",
   "execution_count": 338,
   "metadata": {},
   "outputs": [],
   "source": [
    "def empresas(matrix): # iterativo\n",
    "    \n",
    "    objetos = []\n",
    "    colaPrioritaria = []\n",
    "    cotaMaxima = 0\n",
    "    i=0\n",
    "    for x in matrix.keys():\n",
    "        cotaMaxima += matrix[x][i][0]\n",
    "        i+=1\n",
    "    costeActual = 0\n",
    "    empresasPendientes = list(matrix.keys())\n",
    "    elementosPendientes = ['A', 'B', 'C', 'D']\n",
    "    elementosActuales = []\n",
    "    nodo = (costeActual, empresasPendientes, list(elementosActuales), list(elementosPendientes))\n",
    "    colaPrioritaria.append(nodo)\n",
    "    \n",
    "    while len(colaPrioritaria) > 0:\n",
    "        \n",
    "        nodo = min(colaPrioritaria)\n",
    "        colaPrioritaria.remove(nodo)\n",
    "        \n",
    "        if cotaMaxima < nodo[0]:\n",
    "            continue\n",
    "        \n",
    "        for elemento in nodo[3]:\n",
    "            if len(nodo[1]) > 0:\n",
    "                for empresa in nodo[1]:\n",
    "                    \n",
    "                    if elemento not in nodo[2]:\n",
    "                    objeto = findObject(matrix[empresa], elemento)\n",
    "                    siguienteCoste = nodo[0] + objeto[0]\n",
    "                    \n",
    "                    siguientesEmpresas = list(nodo[1])\n",
    "                    siguientesEmpresas.remove(empresa)\n",
    "                    \n",
    "                    sigElAct = list(nodo[2])\n",
    "                    sigElAct.append((objeto, empresa))\n",
    "                    \n",
    "                    sigElPend = list(nodo)\n",
    "                    \n",
    "                    nodo = ()\n",
    "                \n",
    "        # Si no quedan empresas pendientes, es solución, si supera\n",
    "        # la cota maxima se actualizan los valores\n",
    "        if len(nodo[1]) == 0 and cotaMaxima > nodo[0]:\n",
    "            cotaMaxima = nodo[0]\n",
    "            items = nodo[2]\n",
    "                \n",
    "    return (items, cotaMaxima)\n",
    "\n",
    "\n",
    "# Minimo de una lista de tuplas\n",
    "def minimoObjeto(lista):\n",
    "    \n",
    "    coste = 999999999999999\n",
    "    objeto = \"\"\n",
    "    for elem in lista:\n",
    "        if coste > elem[0]:\n",
    "            coste = elem[0]\n",
    "            objeto = elem[1]\n",
    "    \n",
    "    return (coste, objeto)\n",
    "\n",
    "def findObject(lista, elemento):\n",
    "\n",
    "    for obj in lista:\n",
    "        if obj[1] == elemento:\n",
    "            return obj\n",
    "        \n",
    "def isInElementos(lista, elemento):\n",
    "    \n",
    "    l = []\n",
    "    for elem in lista:\n",
    "        if elem != elemento:\n",
    "            l.append(elem)\n",
    "    \n",
    "    return l"
   ]
  },
  {
   "cell_type": "code",
   "execution_count": 339,
   "metadata": {},
   "outputs": [],
   "source": [
    "matrix = {\n",
    "    \"a\": [(11,\"A\"), (12,\"B\"), (18,\"C\"), (40,\"D\")],\n",
    "    \"b\": [(14,\"A\"), (15,\"B\"), (13,\"C\"), (22,\"D\")],\n",
    "    \"c\": [(11,\"A\"), (17,\"B\"), (19,\"C\"), (23,\"D\")],\n",
    "    \"d\": [(17,\"A\"), (14,\"B\"), (20,\"C\"), (28,\"D\")]\n",
    "}\n",
    "\n",
    "matrix2 = {\n",
    "    \"A\": [(11,\"a\"), (14,\"b\"), (11,\"c\"), (17,\"d\")],\n",
    "    \"B\": [(12,\"a\"), (15,\"b\"), (17,\"c\"), (14,\"d\")],\n",
    "    \"C\": [(18,\"a\"), (13,\"b\"), (19,\"c\"), (20,\"d\")],\n",
    "    \"D\": [(40,\"a\"), (22,\"c\"), (23,\"d\"), (28,\"d\")]\n",
    "}"
   ]
  },
  {
   "cell_type": "code",
   "execution_count": 340,
   "metadata": {},
   "outputs": [
    {
     "name": "stdout",
     "output_type": "stream",
     "text": [
      "A\n",
      "['A', 'B', 'C', 'D']\n",
      "C\n",
      "['A', 'B', 'C', 'D']\n",
      "A\n",
      "['A', 'B', 'C', 'D']\n",
      "B\n",
      "['A', 'B', 'C', 'D']\n",
      "A\n",
      "['B', 'C', 'D']\n"
     ]
    },
    {
     "ename": "ValueError",
     "evalue": "list.remove(x): x not in list",
     "output_type": "error",
     "traceback": [
      "\u001b[0;31m---------------------------------------------------------------------------\u001b[0m",
      "\u001b[0;31mValueError\u001b[0m                                Traceback (most recent call last)",
      "\u001b[0;32m<ipython-input-340-6efa1795cd61>\u001b[0m in \u001b[0;36m<module>\u001b[0;34m()\u001b[0m\n\u001b[0;32m----> 1\u001b[0;31m \u001b[0mempresas\u001b[0m\u001b[0;34m(\u001b[0m\u001b[0mmatrix\u001b[0m\u001b[0;34m)\u001b[0m\u001b[0;34m\u001b[0m\u001b[0m\n\u001b[0m",
      "\u001b[0;32m<ipython-input-338-87d7c038f80e>\u001b[0m in \u001b[0;36mempresas\u001b[0;34m(matrix)\u001b[0m\n\u001b[1;32m     33\u001b[0m                 \u001b[0mprint\u001b[0m\u001b[0;34m(\u001b[0m\u001b[0mminimo\u001b[0m\u001b[0;34m[\u001b[0m\u001b[0;36m1\u001b[0m\u001b[0;34m]\u001b[0m\u001b[0;34m)\u001b[0m\u001b[0;34m\u001b[0m\u001b[0m\n\u001b[1;32m     34\u001b[0m                 \u001b[0mprint\u001b[0m\u001b[0;34m(\u001b[0m\u001b[0melemsAux3\u001b[0m\u001b[0;34m)\u001b[0m\u001b[0;34m\u001b[0m\u001b[0m\n\u001b[0;32m---> 35\u001b[0;31m                 \u001b[0melemsAux3\u001b[0m\u001b[0;34m.\u001b[0m\u001b[0mremove\u001b[0m\u001b[0;34m(\u001b[0m\u001b[0mminimo\u001b[0m\u001b[0;34m[\u001b[0m\u001b[0;36m1\u001b[0m\u001b[0;34m]\u001b[0m\u001b[0;34m)\u001b[0m\u001b[0;34m\u001b[0m\u001b[0m\n\u001b[0m\u001b[1;32m     36\u001b[0m \u001b[0;34m\u001b[0m\u001b[0m\n\u001b[1;32m     37\u001b[0m                 \u001b[0mnuevoNodo\u001b[0m \u001b[0;34m=\u001b[0m \u001b[0;34m(\u001b[0m\u001b[0msiguienteCosto\u001b[0m\u001b[0;34m,\u001b[0m \u001b[0melemsAux\u001b[0m\u001b[0;34m,\u001b[0m \u001b[0melemsAux2\u001b[0m\u001b[0;34m,\u001b[0m \u001b[0melemsAux3\u001b[0m\u001b[0;34m)\u001b[0m\u001b[0;34m\u001b[0m\u001b[0m\n",
      "\u001b[0;31mValueError\u001b[0m: list.remove(x): x not in list"
     ]
    }
   ],
   "source": [
    "empresas(matrix)"
   ]
  },
  {
   "cell_type": "code",
   "execution_count": null,
   "metadata": {
    "collapsed": true
   },
   "outputs": [],
   "source": []
  }
 ],
 "metadata": {
  "kernelspec": {
   "display_name": "Python 3",
   "language": "python",
   "name": "python3"
  },
  "language_info": {
   "codemirror_mode": {
    "name": "ipython",
    "version": 3
   },
   "file_extension": ".py",
   "mimetype": "text/x-python",
   "name": "python",
   "nbconvert_exporter": "python",
   "pygments_lexer": "ipython3",
   "version": "3.6.1"
  }
 },
 "nbformat": 4,
 "nbformat_minor": 2
}
