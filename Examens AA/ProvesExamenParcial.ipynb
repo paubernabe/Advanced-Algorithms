{
 "cells": [
  {
   "cell_type": "code",
   "execution_count": 3,
   "metadata": {},
   "outputs": [
    {
     "name": "stderr",
     "output_type": "stream",
     "text": [
      "C:\\Anaconda\\lib\\site-packages\\networkx\\drawing\\nx_pylab.py:126: MatplotlibDeprecationWarning: pyplot.hold is deprecated.\n",
      "    Future behavior will be consistent with the long-time default:\n",
      "    plot commands add elements without first clearing the\n",
      "    Axes and/or Figure.\n",
      "  b = plt.ishold()\n",
      "C:\\Anaconda\\lib\\site-packages\\networkx\\drawing\\nx_pylab.py:138: MatplotlibDeprecationWarning: pyplot.hold is deprecated.\n",
      "    Future behavior will be consistent with the long-time default:\n",
      "    plot commands add elements without first clearing the\n",
      "    Axes and/or Figure.\n",
      "  plt.hold(b)\n",
      "C:\\Anaconda\\lib\\site-packages\\matplotlib\\__init__.py:917: UserWarning: axes.hold is deprecated. Please remove it from your matplotlibrc and/or style files.\n",
      "  warnings.warn(self.msg_depr_set % key)\n",
      "C:\\Anaconda\\lib\\site-packages\\matplotlib\\rcsetup.py:152: UserWarning: axes.hold is deprecated, will be removed in 3.0\n",
      "  warnings.warn(\"axes.hold is deprecated, will be removed in 3.0\")\n"
     ]
    },
    {
     "data": {
      "image/png": "[encoded data removed]",
      "text/plain": [
       "<matplotlib.figure.Figure at 0x17bad4b3c18>"
      ]
     },
     "metadata": {},
     "output_type": "display_data"
    }
   ],
   "source": [
    "%matplotlib inline\n",
    "import networkx as nx\n",
    "import random\n",
    "G=nx.Graph()\n",
    "\n",
    "\n",
    "G.add_nodes_from([1,2,3,4,5,6,7])\n",
    "G.add_edge(1,2)\n",
    "G.add_edge(1,3)\n",
    "G.add_edge(2,4)\n",
    "G.add_edge(4,3)\n",
    "G.add_edge(4,5)\n",
    "G.add_edge(5,6)\n",
    "G.add_edge(6,3)\n",
    "G.add_edge(3,5)\n",
    "G.add_edge(1,7)\n",
    "G.add_edge(7,3)\n",
    "G.add_edge(7,6)\n",
    "\n",
    "\n",
    "nx.draw_circular((G),with_labels=True)\n"
   ]
  },
  {
   "cell_type": "markdown",
   "metadata": {},
   "source": [
    "## BFS"
   ]
  },
  {
   "cell_type": "code",
   "execution_count": 2,
   "metadata": {
    "collapsed": true
   },
   "outputs": [],
   "source": [
    "def bfs(G, origen, destino):\n",
    "    \n",
    "    cua=[]\n",
    "    visitats=[]\n",
    "    extended=0\n",
    "    \n",
    "    prev={}\n",
    "    for i in G.node:\n",
    "        prev[i]=None\n",
    "    \n",
    "    \n",
    "    cua.append(origen)\n",
    "    \n",
    "    while len(cua)!=0:\n",
    "        subtree=cua.pop(0)\n",
    "        extended+=1\n",
    "\n",
    "        if destino==subtree:\n",
    "            return construct_path(prev,subtree,extended,origen)\n",
    "        \n",
    "        for i in G.neighbors(subtree):\n",
    "            if i in visitats:\n",
    "                continue\n",
    "            \n",
    "            if i not in visitats:\n",
    "                prev[i]=(subtree)\n",
    "                cua.append(i)\n",
    "        \n",
    "                visitats.append(i)\n",
    "        \n",
    "        \n",
    "        \n",
    "\n",
    "def construct_path(prev,destino,extended,origen):\n",
    "    path=[]\n",
    "    u=destino\n",
    "    \n",
    "    while u!=origen:\n",
    "        path.append(u)\n",
    "        \n",
    "        u=prev[u]\n",
    "    path.append(origen)\n",
    "        \n",
    "    path.reverse()\n",
    "    \n",
    "    return path , extended\n",
    "    \n",
    "    \n",
    "            "
   ]
  },
  {
   "cell_type": "code",
   "execution_count": 3,
   "metadata": {},
   "outputs": [
    {
     "data": {
      "text/plain": [
       "([1, 3, 5], 8)"
      ]
     },
     "execution_count": 3,
     "metadata": {},
     "output_type": "execute_result"
    }
   ],
   "source": [
    "bfs(G,1,5)"
   ]
  },
  {
   "cell_type": "code",
   "execution_count": 4,
   "metadata": {
    "collapsed": true
   },
   "outputs": [],
   "source": [
    "def recBFS(G,origen,destino):\n",
    "    \n",
    "    prev={}\n",
    "    visited=[origen]\n",
    "    cua=[origen]\n",
    "    for i in G.node:\n",
    "        prev[i]=None\n",
    "        \n",
    "    \n",
    "    BFS(G,origen,destino,prev,visited,cua)\n",
    "    \n",
    "    return construct_path(prev,destino,origen)\n",
    "        \n",
    "def BFS(G,origen,destino,prev,visited,cua):\n",
    "    origen=cua.pop(0)\n",
    "    if len(visited)!=len(G.nodes()):\n",
    "        for i in G.neighbors(origen):\n",
    "            if i not in visited:\n",
    "                visited.append(i)\n",
    "                prev[i]=origen\n",
    "                cua.append(i)\n",
    "\n",
    "                \n",
    "\n",
    "        BFS(G,cua[0],destino,prev,visited,cua)\n",
    "    \n",
    "    \n",
    "    \n",
    "\n",
    "def construct_path(prev,destino,origen):\n",
    "    path=[]\n",
    "    u=destino\n",
    "    \n",
    "    while u!=origen:\n",
    "        path.append(u)\n",
    "        \n",
    "        u=prev[u]\n",
    "    path.append(origen)\n",
    "        \n",
    "    path.reverse()\n",
    "    \n",
    "    return path\n",
    "    \n",
    "    \n",
    "    \n",
    "    \n",
    "    \n",
    "    "
   ]
  },
  {
   "cell_type": "code",
   "execution_count": 5,
   "metadata": {},
   "outputs": [
    {
     "data": {
      "text/plain": [
       "[1, 3, 5]"
      ]
     },
     "execution_count": 5,
     "metadata": {},
     "output_type": "execute_result"
    }
   ],
   "source": [
    "recBFS(G,1,5)"
   ]
  },
  {
   "cell_type": "code",
   "execution_count": 6,
   "metadata": {
    "collapsed": true
   },
   "outputs": [],
   "source": [
    "def BFS_recursivo(G,origen):\n",
    "    visited = {origen:None}\n",
    "    queue = []\n",
    "    queue.append(origen)\n",
    "    \n",
    "    bfs_rec2(visited,queue)\n",
    "    \n",
    "    return visited\n",
    "    \n",
    "\n",
    "def bfs_rec2(visited, queue):\n",
    "    if len(queue) > 0:\n",
    "        node = queue.pop(0)\n",
    "        \n",
    "        for neighbor in G.neighbors(node):\n",
    "            if not neighbor in visited.keys():\n",
    "                queue.append(neighbor)\n",
    "                visited[neighbor]=node\n",
    "                \n",
    "        bfs_rec2(visited,queue)"
   ]
  },
  {
   "cell_type": "code",
   "execution_count": 7,
   "metadata": {},
   "outputs": [
    {
     "data": {
      "text/plain": [
       "{1: None, 2: 1, 3: 1, 4: 2, 5: 3, 6: 3, 7: 1}"
      ]
     },
     "execution_count": 7,
     "metadata": {},
     "output_type": "execute_result"
    }
   ],
   "source": [
    "BFS_recursivo(G,1)\n"
   ]
  },
  {
   "cell_type": "markdown",
   "metadata": {},
   "source": [
    "## DFS ITERATIVO"
   ]
  },
  {
   "cell_type": "code",
   "execution_count": 8,
   "metadata": {
    "collapsed": true
   },
   "outputs": [],
   "source": [
    "def dfs(G, origen, destino, depth=0):\n",
    "    \n",
    "    pila=[origen]\n",
    "    visited=[origen]\n",
    "    prev={}\n",
    "    expanded=0\n",
    "    \n",
    "    for i in G.node:\n",
    "        prev[i]=None\n",
    "    \n",
    "    \n",
    "    \n",
    "    while len(pila)!=0:\n",
    "        \n",
    "        current=pila.pop(-1)\n",
    "        \n",
    "        if current==destino:\n",
    "            return construct_path(prev,destino,origen,expanded)\n",
    "        \n",
    "        for i in G.neighbors(current):\n",
    "            if i not in visited:\n",
    "                pila.append(i)\n",
    "                prev[i]=current\n",
    "        visited.append(current)\n",
    "        expanded+=1\n",
    "        \n",
    "    \n",
    "    \n",
    "    \n",
    "def construct_path(prev,destino,origen,expanded):\n",
    "    path=[]\n",
    "    aux=destino\n",
    "    \n",
    "    \n",
    "    while prev[aux]!=origen:\n",
    "        path.append(aux)\n",
    "        \n",
    "        aux=prev[aux]\n",
    "    path.append(aux)\n",
    "    path.append(origen)\n",
    "    \n",
    "    path.reverse()\n",
    "    \n",
    "    return path, expanded"
   ]
  },
  {
   "cell_type": "code",
   "execution_count": 9,
   "metadata": {},
   "outputs": [
    {
     "data": {
      "text/plain": [
       "([1, 7, 6, 3, 5], 4)"
      ]
     },
     "execution_count": 9,
     "metadata": {},
     "output_type": "execute_result"
    }
   ],
   "source": [
    "dfs(G,1,5)"
   ]
  },
  {
   "cell_type": "markdown",
   "metadata": {},
   "source": [
    "## DFS recursivo con origen-destino"
   ]
  },
  {
   "cell_type": "code",
   "execution_count": 10,
   "metadata": {
    "collapsed": true
   },
   "outputs": [],
   "source": [
    "def dfsMainRec(G, origen, destino):\n",
    "    visited, prev = [], {}\n",
    "    dfsRec(G, origen, destino, visited, prev)\n",
    "    return {\n",
    "        'path' : construct_path(prev, destino, origen) ,\n",
    "        'expanded' : len(visited)\n",
    "        }\n",
    "\n",
    "def dfsRec(G, nodo, destino, visited, prev):\n",
    "    if destino not in visited:\n",
    "        visited.append(nodo)\n",
    "        for v in G.neighbors(nodo):\n",
    "            if not v in visited:\n",
    "                prev[v] = nodo\n",
    "                dfsRec(G,v,destino,visited,prev)\n",
    "                \n",
    "def construct_path(prev, destino, origen):\n",
    "    path = []\n",
    "    u = destino\n",
    "    while u != origen:\n",
    "        path.append(u)\n",
    "        u = prev[u]\n",
    "    path.append(origen)\n",
    "    path.reverse()\n",
    "    return path"
   ]
  },
  {
   "cell_type": "code",
   "execution_count": 11,
   "metadata": {},
   "outputs": [
    {
     "data": {
      "text/plain": [
       "{'expanded': 6, 'path': [1, 2, 4, 3, 6, 5]}"
      ]
     },
     "execution_count": 11,
     "metadata": {},
     "output_type": "execute_result"
    }
   ],
   "source": [
    "dfsMainRec(G,1,5)"
   ]
  },
  {
   "cell_type": "markdown",
   "metadata": {},
   "source": [
    "## DFS solo con origen"
   ]
  },
  {
   "cell_type": "code",
   "execution_count": 12,
   "metadata": {
    "collapsed": true
   },
   "outputs": [],
   "source": [
    "def recDFS2(G,origen):\n",
    "    visited=[]\n",
    "    prev={}\n",
    "    \n",
    "    for i in G.nodes():\n",
    "        prev[i]=None\n",
    "    \n",
    "    recDFS2_aux(G,origen,prev,visited)\n",
    "    \n",
    "    return prev\n",
    "    \n",
    "def recDFS2_aux(G,origen,prev,visited):\n",
    "    \n",
    "    if len(visited)!=len(G.nodes()):\n",
    "        visited.append(origen)\n",
    "        \n",
    "        for i in G.neighbors(origen):\n",
    "            if i not in visited:\n",
    "                prev[i]=origen\n",
    "                recDFS2_aux(G,i,prev,visited)\n",
    "    \n",
    "    "
   ]
  },
  {
   "cell_type": "code",
   "execution_count": 13,
   "metadata": {},
   "outputs": [
    {
     "data": {
      "text/plain": [
       "{1: None, 2: 1, 3: 4, 4: 2, 5: 6, 6: 3, 7: 6}"
      ]
     },
     "execution_count": 13,
     "metadata": {},
     "output_type": "execute_result"
    }
   ],
   "source": [
    "recDFS2(G,1)"
   ]
  },
  {
   "cell_type": "code",
   "execution_count": 14,
   "metadata": {
    "collapsed": true
   },
   "outputs": [],
   "source": [
    "def DFS_iterativo(G,origen):\n",
    "    visitados = []\n",
    "    stack = []\n",
    "    prev = {}\n",
    "    \n",
    "    for nodes in G.nodes():\n",
    "        prev[nodes] = None\n",
    "    \n",
    "    stack.append(origen)\n",
    "    \n",
    "    while len(stack) > 0:\n",
    "        minimun = stack.pop()\n",
    "        if minimun not in visitados:\n",
    "            visitados.append(minimun)\n",
    "            for v in range(-1,-len(G.neighbors(minimun))-1,-1):\n",
    "                n = G.neighbors(minimun)[v]\n",
    "                if n not in visitados:\n",
    "                    prev[n]=minimun\n",
    "                    stack.append(n)\n",
    "    \n",
    "    return visitados"
   ]
  },
  {
   "cell_type": "code",
   "execution_count": 15,
   "metadata": {},
   "outputs": [
    {
     "ename": "TypeError",
     "evalue": "object of type 'dict_keyiterator' has no len()",
     "output_type": "error",
     "traceback": [
      "\u001b[0;31m---------------------------------------------------------------------------\u001b[0m",
      "\u001b[0;31mTypeError\u001b[0m                                 Traceback (most recent call last)",
      "\u001b[0;32m<ipython-input-15-b78ec98fdf1f>\u001b[0m in \u001b[0;36m<module>\u001b[0;34m()\u001b[0m\n\u001b[0;32m----> 1\u001b[0;31m \u001b[0mDFS_iterativo\u001b[0m\u001b[0;34m(\u001b[0m\u001b[0mG\u001b[0m\u001b[0;34m,\u001b[0m\u001b[0;36m1\u001b[0m\u001b[0;34m)\u001b[0m\u001b[0;34m\u001b[0m\u001b[0m\n\u001b[0m",
      "\u001b[0;32m<ipython-input-14-694dd2ef454f>\u001b[0m in \u001b[0;36mDFS_iterativo\u001b[0;34m(G, origen)\u001b[0m\n\u001b[1;32m     13\u001b[0m         \u001b[0;32mif\u001b[0m \u001b[0mminimun\u001b[0m \u001b[0;32mnot\u001b[0m \u001b[0;32min\u001b[0m \u001b[0mvisitados\u001b[0m\u001b[0;34m:\u001b[0m\u001b[0;34m\u001b[0m\u001b[0m\n\u001b[1;32m     14\u001b[0m             \u001b[0mvisitados\u001b[0m\u001b[0;34m.\u001b[0m\u001b[0mappend\u001b[0m\u001b[0;34m(\u001b[0m\u001b[0mminimun\u001b[0m\u001b[0;34m)\u001b[0m\u001b[0;34m\u001b[0m\u001b[0m\n\u001b[0;32m---> 15\u001b[0;31m             \u001b[0;32mfor\u001b[0m \u001b[0mv\u001b[0m \u001b[0;32min\u001b[0m \u001b[0mrange\u001b[0m\u001b[0;34m(\u001b[0m\u001b[0;34m-\u001b[0m\u001b[0;36m1\u001b[0m\u001b[0;34m,\u001b[0m\u001b[0;34m-\u001b[0m\u001b[0mlen\u001b[0m\u001b[0;34m(\u001b[0m\u001b[0mG\u001b[0m\u001b[0;34m.\u001b[0m\u001b[0mneighbors\u001b[0m\u001b[0;34m(\u001b[0m\u001b[0mminimun\u001b[0m\u001b[0;34m)\u001b[0m\u001b[0;34m)\u001b[0m\u001b[0;34m-\u001b[0m\u001b[0;36m1\u001b[0m\u001b[0;34m,\u001b[0m\u001b[0;34m-\u001b[0m\u001b[0;36m1\u001b[0m\u001b[0;34m)\u001b[0m\u001b[0;34m:\u001b[0m\u001b[0;34m\u001b[0m\u001b[0m\n\u001b[0m\u001b[1;32m     16\u001b[0m                 \u001b[0mn\u001b[0m \u001b[0;34m=\u001b[0m \u001b[0mG\u001b[0m\u001b[0;34m.\u001b[0m\u001b[0mneighbors\u001b[0m\u001b[0;34m(\u001b[0m\u001b[0mminimun\u001b[0m\u001b[0;34m)\u001b[0m\u001b[0;34m[\u001b[0m\u001b[0mv\u001b[0m\u001b[0;34m]\u001b[0m\u001b[0;34m\u001b[0m\u001b[0m\n\u001b[1;32m     17\u001b[0m                 \u001b[0;32mif\u001b[0m \u001b[0mn\u001b[0m \u001b[0;32mnot\u001b[0m \u001b[0;32min\u001b[0m \u001b[0mvisitados\u001b[0m\u001b[0;34m:\u001b[0m\u001b[0;34m\u001b[0m\u001b[0m\n",
      "\u001b[0;31mTypeError\u001b[0m: object of type 'dict_keyiterator' has no len()"
     ]
    }
   ],
   "source": [
    "DFS_iterativo(G,1)"
   ]
  },
  {
   "cell_type": "markdown",
   "metadata": {},
   "source": [
    "## Linealizar"
   ]
  },
  {
   "cell_type": "code",
   "execution_count": 16,
   "metadata": {},
   "outputs": [
    {
     "data": {
      "text/plain": [
       "{'A': 'S', 'B': 'A', 'C': 'B', 'D': 'S', 'E': 'D', 'S': 'A'}"
      ]
     },
     "execution_count": 16,
     "metadata": {},
     "output_type": "execute_result"
    }
   ],
   "source": [
    "def dfs_rec_try(G):\n",
    "    visited ={}\n",
    "    previ = {}\n",
    "    for node in G.nodes():\n",
    "        visited[node]=False\n",
    "        previ[node]= None\n",
    "    for node in G.nodes():\n",
    "        if visited[node]==False:\n",
    "            explore(G,node,visited,previ)\n",
    "    return previ\n",
    "            \n",
    "def explore(G,node,visited,previ):\n",
    "    if(visited[node]==True):\n",
    "        return\n",
    "    else:\n",
    "        visited[node]=True\n",
    "        for vei in G.neighbors(node):\n",
    "            previ[vei] = node\n",
    "            explore(G,vei,visited,previ)\n",
    "UG = nx.Graph()\n",
    "UG.add_edges_from((('S','E'),('S','D'),('S','C'),('S','A'),('D','E'),('B','A'),('C','B')))\n",
    "dfs_rec_try(UG)"
   ]
  },
  {
   "cell_type": "markdown",
   "metadata": {},
   "source": [
    "## Bellman-Ford"
   ]
  },
  {
   "cell_type": "code",
   "execution_count": 17,
   "metadata": {},
   "outputs": [
    {
     "data": {
      "image/png": "[encoded data removed]",
      "text/plain": [
       "<matplotlib.figure.Figure at 0x7fbf9b8e7dd8>"
      ]
     },
     "metadata": {},
     "output_type": "display_data"
    }
   ],
   "source": [
    "'''\n",
    "Bellman ford\n",
    "'''\n",
    "G2=nx.DiGraph()\n",
    "\n",
    "G2.add_nodes_from(['S','A','B','C','D','E','F','G'])\n",
    "\n",
    "G2.add_edge('S','A',weight=10)\n",
    "G2.add_edge('S','G',weight=8)\n",
    "G2.add_edge('G','F',weight=1)\n",
    "G2.add_edge('F','E',weight=-1)\n",
    "G2.add_edge('D','E',weight=-1)\n",
    "G2.add_edge('C','D',weight=3)\n",
    "G2.add_edge('B','C',weight=1)\n",
    "G2.add_edge('B','A',weight=1)\n",
    "G2.add_edge('F','A',weight=-4)\n",
    "G2.add_edge('A','E',weight=2)\n",
    "G2.add_edge('E','B',weight=-2)\n",
    "\n",
    "\n",
    "G6=nx.DiGraph()\n",
    "\n",
    "G6.add_nodes_from(['S','A','B','C','D','E','F','G','H','I'])\n",
    "\n",
    "G6.add_edge('S','A',weight=7)\n",
    "G6.add_edge('A','C',weight=-2)\n",
    "G6.add_edge('A','B',weight=4)\n",
    "\n",
    "G6.add_edge('S','C',weight=6)\n",
    "G6.add_edge('S','F',weight=5)\n",
    "G6.add_edge('S','E',weight=6)\n",
    "\n",
    "G6.add_edge('C','D',weight=2)\n",
    "G6.add_edge('C','F',weight=1)\n",
    "G6.add_edge('B','G',weight=-2)\n",
    "\n",
    "G6.add_edge('B','H',weight=-4)\n",
    "G6.add_edge('H','G',weight=1)\n",
    "G6.add_edge('G','I',weight=-1)\n",
    "\n",
    "G6.add_edge('I','H',weight=1)\n",
    "G6.add_edge('E','H',weight=3)\n",
    "G6.add_edge('F','D',weight=3)\n",
    "\n",
    "\n",
    "\n",
    "\n",
    "\n",
    "\n",
    "\n",
    "nx.draw_circular((G6),with_labels=True)\n"
   ]
  },
  {
   "cell_type": "code",
   "execution_count": 18,
   "metadata": {
    "collapsed": true
   },
   "outputs": [],
   "source": [
    "def bellman_ford(G2,origen,infinity=float('inf')):\n",
    "    \n",
    "    prev,dist={},{}\n",
    "    for i in G2.node:\n",
    "        prev[i]=None\n",
    "        dist[i]=infinity\n",
    "    dist[origen]=0\n",
    "    \n",
    "    \n",
    "    \n",
    "    for i in range(len(G2.nodes())-1):\n",
    "        for u,v in G2.edges():\n",
    "            if dist[v]>dist[u]+G2[u][v]['weight']:\n",
    "                dist[v]=dist[u]+G2[u][v]['weight']\n",
    "                prev[v]=u\n",
    "\n",
    "        \n",
    "    for u,v in G2.edges():\n",
    "        if dist[v]>dist[u]+G2[u][v]['weight']:\n",
    "            return dist,(\"hay ciclos negativos\")\n",
    "\n",
    "        else:\n",
    "            return dist,(\"no hay ciclos negativos\")\n",
    "        \n",
    "            \n",
    "            \n",
    "        \n",
    "        \n",
    "    "
   ]
  },
  {
   "cell_type": "code",
   "execution_count": 19,
   "metadata": {},
   "outputs": [
    {
     "data": {
      "text/plain": [
       "({'A': 5, 'B': 5, 'C': 6, 'D': 9, 'E': 7, 'F': 9, 'G': 8, 'S': 0},\n",
       " 'no hay ciclos negativos')"
      ]
     },
     "execution_count": 19,
     "metadata": {},
     "output_type": "execute_result"
    }
   ],
   "source": [
    "bellman_ford(G2,'S')"
   ]
  },
  {
   "cell_type": "markdown",
   "metadata": {},
   "source": [
    "## Conexos"
   ]
  },
  {
   "cell_type": "code",
   "execution_count": 20,
   "metadata": {
    "collapsed": true
   },
   "outputs": [],
   "source": [
    "def DFS_iterativo(G,origen):\n",
    "    visitados = []\n",
    "    stack = []\n",
    "    prev = {}\n",
    "    \n",
    "    for nodes in G.nodes():\n",
    "        prev[nodes] = None\n",
    "    \n",
    "    stack.append(origen)\n",
    "    \n",
    "    while len(stack) > 0:\n",
    "        minimun = stack.pop(-1)\n",
    "        if minimun not in visitados:\n",
    "            visitados.append(minimun)\n",
    "            for v in G.neighbors(minimun):\n",
    "                if v not in visitados:\n",
    "                    prev[v]=minimun\n",
    "                    stack.append(v)\n",
    "    \n",
    "    return visitados"
   ]
  },
  {
   "cell_type": "code",
   "execution_count": 21,
   "metadata": {
    "collapsed": true
   },
   "outputs": [],
   "source": [
    "def BFS_iterativo(G,origen):\n",
    "    visitados=[]\n",
    "    cua=[origen]\n",
    "    prev={}\n",
    "    \n",
    "    for i in G.nodes():\n",
    "        prev[i]=None\n",
    "    \n",
    "    while len(cua)!=0:\n",
    "        minim=cua.pop()\n",
    "        for i in G.neighbors(minim):\n",
    "            if i not in visitados:\n",
    "                prev[i]=minim\n",
    "                cua.append(i)\n",
    "                visitados.append(i)\n",
    "    return visitados"
   ]
  },
  {
   "cell_type": "code",
   "execution_count": 22,
   "metadata": {
    "collapsed": true
   },
   "outputs": [],
   "source": [
    "G20=nx.Graph()\n",
    "\n",
    "G20.add_nodes_from([1,2,3,4,5])\n",
    "\n",
    "G20.add_edge(1,2)\n",
    "G20.add_edge(2,3)\n",
    "G20.add_edge(4,5)\n",
    "G20.add_edge(9,10)\n"
   ]
  },
  {
   "cell_type": "code",
   "execution_count": 23,
   "metadata": {
    "collapsed": true
   },
   "outputs": [],
   "source": [
    "def conexos(G):\n",
    "    lista = []\n",
    "    arbol = []\n",
    "    \n",
    "    for node in G.nodes():\n",
    "        lista.append(node)\n",
    "    \n",
    "    while len(lista)>0:\n",
    "        \n",
    "        node = lista[0]\n",
    "        subarbol = BFS_iterativo(G,node)\n",
    "        #subarbol = DFS_iterativo(G,node)\n",
    "        \n",
    "        arbol.append(subarbol)\n",
    "        \n",
    "        for node in subarbol:\n",
    "            if node in lista:\n",
    "                lista.remove(node)\n",
    "    \n",
    "    return arbol"
   ]
  },
  {
   "cell_type": "code",
   "execution_count": 24,
   "metadata": {},
   "outputs": [
    {
     "data": {
      "text/plain": [
       "[[2, 1, 3], [5, 4], [10, 9]]"
      ]
     },
     "execution_count": 24,
     "metadata": {},
     "output_type": "execute_result"
    }
   ],
   "source": [
    "conexos(G20)"
   ]
  },
  {
   "cell_type": "markdown",
   "metadata": {},
   "source": [
    "## Euler"
   ]
  },
  {
   "cell_type": "code",
   "execution_count": 25,
   "metadata": {
    "collapsed": true
   },
   "outputs": [],
   "source": [
    "G21=nx.Graph()\n",
    "G21.add_nodes_from([1,2,3,4,5,6,7,8,9,10])\n",
    "G21.add_edges_from(((1,2),(1,7),(2,3),(2,6),(2,10),(2,9),(2,8),(3,4),(3,6),(3,7),(4,5),(5,6),(6,7),(7,8),(7,9),(7,10)))"
   ]
  },
  {
   "cell_type": "code",
   "execution_count": 26,
   "metadata": {
    "collapsed": true
   },
   "outputs": [],
   "source": [
    "\"\"\"\n",
    "Un grafo es euleriano si todos los vertices 'u' tienen grado par,\n",
    "retorna True o False\n",
    "\"\"\"\n",
    "def isEulerian(G):\n",
    "    return all(G.degree(u) % 2 == 0 for u in G)\n",
    "\n",
    "\"\"\"\n",
    "Retorna la lista de vertices 'v' conectados a un vertice 'u'\n",
    "\"\"\"\n",
    "def edgeList(G, u):\n",
    "    return [v for v in G.neighbors(u)]\n",
    "\n",
    "\"\"\"\n",
    "Lo usamos para comprobar que quedan aristas libres desde donde estamos y no estamos atascados,\n",
    "Retorna False si estamos atascados y True si hay camino\n",
    "\"\"\"\n",
    "def freeAristas(G, u, aristasVisitadas):\n",
    "    visited = 0\n",
    "    for v in aristasVisitadas:\n",
    "        if u in v:\n",
    "            visited += 1\n",
    "    return visited == G.degree(u)\n",
    "\n",
    "\"\"\"\n",
    "Retorna un camino euleriano e imprime su circuito\n",
    "\"\"\"\n",
    "def eulerCami(G):\n",
    "    origen = random.choice(list(G.node)) # porque usa la libreria nx y la lista no esta tal cual\n",
    "    nAristas = len(G.edges())\n",
    "    aristasVisitadas = []\n",
    "    circuit = []\n",
    "    path = []\n",
    "    while len(aristasVisitadas) != nAristas:\n",
    "        destino = random.choice(edgeList(G,origen))\n",
    "        origenDestino = (min((origen, destino)),max((origen, destino)))\n",
    "        if freeAristas(G, origen, aristasVisitadas):\n",
    "            aristasVisitadas.pop()\n",
    "            circuit.pop()\n",
    "            path.pop()\n",
    "            origenDestino = (min((origen, destino)),max((origen, destino)))\n",
    "            destino = random.choice(edgeList(G,path[-1]))\n",
    "            origen = path[-2]\n",
    "        if origenDestino not in aristasVisitadas and origenDestino in G.edges():\n",
    "            aristasVisitadas.append(origenDestino)\n",
    "            circuit.append((origen,destino))\n",
    "            path.append(origen)\n",
    "            origen = destino\n",
    "    path.append(path[0])\n",
    "    \n",
    "    print(\"Circuito Euleriano:\",circuit)\n",
    "    return path\n",
    "\n",
    "\"\"\"\n",
    "Si un grafo es euleriano, busca un camino mientras no lo haya encontrado y lo retorna\n",
    "\"\"\"\n",
    "def euler(G):\n",
    "    if isEulerian(G):\n",
    "        return eulerCami(G)\n",
    "    else:\n",
    "        return (\"G No es euleriano\")"
   ]
  },
  {
   "cell_type": "code",
   "execution_count": 27,
   "metadata": {},
   "outputs": [
    {
     "name": "stdout",
     "output_type": "stream",
     "text": [
      "Circuito Euleriano: [(3, 7), (7, 10), (10, 2), (2, 1), (1, 7), (7, 9), (9, 2), (2, 6), (6, 3), (3, 4), (4, 5), (5, 6), (6, 7), (7, 8), (8, 2), (2, 3)]\n"
     ]
    },
    {
     "data": {
      "image/png": "[encoded data removed]",
      "text/plain": [
       "<matplotlib.figure.Figure at 0x7fbf9b9585f8>"
      ]
     },
     "metadata": {},
     "output_type": "display_data"
    }
   ],
   "source": [
    "\n",
    "euler(G21)\n",
    "\n",
    "nx.draw_circular(G21, with_labels=True)"
   ]
  },
  {
   "cell_type": "markdown",
   "metadata": {},
   "source": [
    "## Trobar cicle en graf dirigit, NO VA"
   ]
  },
  {
   "cell_type": "code",
   "execution_count": 7,
   "metadata": {
    "scrolled": true
   },
   "outputs": [
    {
     "name": "stderr",
     "output_type": "stream",
     "text": [
      "C:\\Anaconda\\lib\\site-packages\\networkx\\drawing\\nx_pylab.py:126: MatplotlibDeprecationWarning: pyplot.hold is deprecated.\n",
      "    Future behavior will be consistent with the long-time default:\n",
      "    plot commands add elements without first clearing the\n",
      "    Axes and/or Figure.\n",
      "  b = plt.ishold()\n",
      "C:\\Anaconda\\lib\\site-packages\\networkx\\drawing\\nx_pylab.py:138: MatplotlibDeprecationWarning: pyplot.hold is deprecated.\n",
      "    Future behavior will be consistent with the long-time default:\n",
      "    plot commands add elements without first clearing the\n",
      "    Axes and/or Figure.\n",
      "  plt.hold(b)\n",
      "C:\\Anaconda\\lib\\site-packages\\matplotlib\\__init__.py:917: UserWarning: axes.hold is deprecated. Please remove it from your matplotlibrc and/or style files.\n",
      "  warnings.warn(self.msg_depr_set % key)\n",
      "C:\\Anaconda\\lib\\site-packages\\matplotlib\\rcsetup.py:152: UserWarning: axes.hold is deprecated, will be removed in 3.0\n",
      "  warnings.warn(\"axes.hold is deprecated, will be removed in 3.0\")\n"
     ]
    },
    {
     "data": {
      "image/png": "[encoded data removed]",
      "text/plain": [
       "<matplotlib.figure.Figure at 0x17bae34fb00>"
      ]
     },
     "metadata": {},
     "output_type": "display_data"
    }
   ],
   "source": [
    "IG=nx.DiGraph()\n",
    "\n",
    "IG.add_nodes_from(['A','B','C','D'])\n",
    "\n",
    "IG.add_edge('A','B')\n",
    "IG.add_edge('A','D')\n",
    "IG.add_edge('B','D')\n",
    "IG.add_edge('B','C')\n",
    "IG.add_edge('D','C')\n",
    "IG.add_edge('C','A')\n",
    "nx.draw_circular(IG, with_labels=True)"
   ]
  },
  {
   "cell_type": "code",
   "execution_count": 8,
   "metadata": {
    "collapsed": true
   },
   "outputs": [],
   "source": [
    "WG = nx.DiGraph()\n",
    "WG.add_edges_from(((1,2),(2,3),(3,4),(4,5),(5,6)))"
   ]
  },
  {
   "cell_type": "code",
   "execution_count": 9,
   "metadata": {
    "collapsed": true
   },
   "outputs": [],
   "source": [
    "def lin_metode2(G):\n",
    "    L = []\n",
    "    S = []\n",
    "    for node in G.nodes():\n",
    "        if(G.in_degree(node)==0):\n",
    "            S.append(node) \n",
    "\n",
    "    while len(S)!=0:\n",
    "        node = S[0]\n",
    "        L.append(node)\n",
    "\n",
    "        for node1,node2 in list(G.edges()):\n",
    "            if(node1==node):\n",
    "                G.remove_edge(node1,node2)\n",
    "            if(G.in_degree(node2)==0):\n",
    "                S.append(node2)\n",
    "        del S[0]\n",
    "    if(len(G.edges())!=0):\n",
    "        print(\"Error, el graf té al menys un cicle\")\n",
    "    else:\n",
    "        return L\n",
    "\n"
   ]
  },
  {
   "cell_type": "code",
   "execution_count": 10,
   "metadata": {},
   "outputs": [
    {
     "name": "stdout",
     "output_type": "stream",
     "text": [
      "Error, el graf té al menys un cicle\n"
     ]
    }
   ],
   "source": [
    "lin_metode2(IG)"
   ]
  },
  {
   "cell_type": "code",
   "execution_count": 13,
   "metadata": {
    "collapsed": true
   },
   "outputs": [],
   "source": [
    "def isCyclic(G, u, visited, prev, path): \n",
    "    # Pone en visitado el actual\n",
    "    visited[u]= True\n",
    "    # Recorre los vecinos\n",
    "    for v in list(G.neighbors(u)):\n",
    "        # Si el vecino no está visitado le visitamos \n",
    "        if not visited[v]:\n",
    "            if isCyclic(G,v,visited,u,path):\n",
    "                path.append(v)\n",
    "                return True\n",
    "        # Si un vecino está visitado y su padre no hay un ciclo\n",
    "        elif  prev != v:\n",
    "            path.append(v)\n",
    "            return True\n",
    "    path=[]\n",
    "    return False\n",
    "\n",
    "def detect_cycle(G):\n",
    "    path = []\n",
    "    visited = {}\n",
    "    for u in G.node:\n",
    "        visited[u] = False\n",
    "    for u in G.nodes(): \n",
    "        if not visited[u]: #Don't recur for u if it is already visited \n",
    "            if isCyclic(G,u,visited,-1,path):\n",
    "                path.append(path[0])\n",
    "                path.reverse()\n",
    "                return True, path\n",
    "    return False, path"
   ]
  },
  {
   "cell_type": "code",
   "execution_count": 15,
   "metadata": {},
   "outputs": [
    {
     "data": {
      "text/plain": [
       "(True, ['A', 'B', 'D', 'C', 'A'])"
      ]
     },
     "execution_count": 15,
     "metadata": {},
     "output_type": "execute_result"
    }
   ],
   "source": [
    "detect_cycle(IG)"
   ]
  },
  {
   "cell_type": "code",
   "execution_count": null,
   "metadata": {
    "collapsed": true
   },
   "outputs": [],
   "source": []
  }
 ],
 "metadata": {
  "kernelspec": {
   "display_name": "Python 3",
   "language": "python",
   "name": "python3"
  },
  "language_info": {
   "codemirror_mode": {
    "name": "ipython",
    "version": 3
   },
   "file_extension": ".py",
   "mimetype": "text/x-python",
   "name": "python",
   "nbconvert_exporter": "python",
   "pygments_lexer": "ipython3",
   "version": "3.6.1"
  }
 },
 "nbformat": 4,
 "nbformat_minor": 2
}
