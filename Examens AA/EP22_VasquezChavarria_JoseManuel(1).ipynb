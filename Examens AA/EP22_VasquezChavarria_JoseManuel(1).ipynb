{
 "cells": [
  {
   "cell_type": "markdown",
   "metadata": {},
   "source": [
    "<div style=\"padding:30px; color: white; background-color: #0071CD\">\n",
    "<center>\n",
    "<p>\n",
    "<h1>Algorítimica Avançada</h1>\n",
    "<h2>Exámen práctico II - Laberintos </h2>\n",
    "</center>\n",
    "</p>\n",
    "</div>"
   ]
  },
  {
   "cell_type": "markdown",
   "metadata": {},
   "source": [
    "<div class=\"alert alert-danger\">\n",
    "<center>\n",
    "  <h1>ATENCIÓN!</h1>\n",
    "  \n",
    "  Para realizar la entrega, hay que subir únicamente este fichero renombrado como: __EP22\\_*apellidos*\\_*nombre*.ipynb__\n",
    "</center>"
   ]
  },
  {
   "cell_type": "markdown",
   "metadata": {},
   "source": [
    "<div class=\"alert alert-info\">\n",
    "<center>\n",
    "  <h1>Introducción</h1>\n",
    "</center>"
   ]
  },
  {
   "cell_type": "markdown",
   "metadata": {},
   "source": [
    "En este examen se os dan una serie de ficheros _.txt_ que contienen laberintos, también se os da un fichero __util.py__ que contiene la clase _Maze_. Esta clase sirve para trabajar con los laberintos de forma sencilla. En el siguiente bloque de código podemos ver como trabajar con esta clase:"
   ]
  },
  {
   "cell_type": "code",
   "execution_count": 7,
   "metadata": {},
   "outputs": [
    {
     "name": "stdout",
     "output_type": "stream",
     "text": [
      "+++++++\n",
      "+·    +\n",
      "+++ + +\n",
      "+   + +\n",
      "+ +++++\n",
      "+    s+\n",
      "+++++++\n",
      "\n"
     ]
    }
   ],
   "source": [
    "from maze import Maze\n",
    "\n",
    "# Creamos una instancia de la clase mediante el path al fichero\n",
    "m = Maze('laberintos/maze0.txt')\n",
    "print(m)\n",
    "#print(solve('laberintos/maze2.txt'))"
   ]
  },
  {
   "cell_type": "markdown",
   "metadata": {},
   "source": [
    "Tal y como se puede observar, el laberinto tiene cuatro tipos de casillas; casillas **transitables**, casillas **no transitables**, **entrada** y **salida**. El objetivo es encontrar el mejor camino posible que vaya desde la entrada hasta la salida utilizando un algoritmo de ramificación y poda.\n",
    "\n",
    "Para ello se os ofrecen una serie de utilidades en la clase `Maze` que os permitirán trabajar de forma sencilla con los laberintos. Se ha programado esta clase para que cada instancia represente un estado del laberinto, de tal forma que una instancia de `Maze` tendrá los siguientes atributos públicos:\n",
    "\n",
    "* Maze.entrada - Posición en la que se encuentra la entrada e.g. (5,1)\n",
    "* Maze.salida - Posición en la que se encuentra la salida e.g. (2,4)\n",
    "* Maze.path - Camino recorrido desde la entrada hasta la posición actual\n",
    "* Maze.pos - Posición en la que nos encontramos"
   ]
  },
  {
   "cell_type": "code",
   "execution_count": 8,
   "metadata": {},
   "outputs": [
    {
     "name": "stdout",
     "output_type": "stream",
     "text": [
      "La entrada se encuentra en: (1, 1)\n",
      "La salida se encuentra en: (5, 5)\n",
      "La posición actual es: (1, 1)\n"
     ]
    }
   ],
   "source": [
    "print(\"La entrada se encuentra en: %s\" % str(m.get_entrada()))\n",
    "print(\"La salida se encuentra en: %s\" % str(m.get_salida()))\n",
    "print(\"La posición actual es: %s\" % str(m.get_position()))"
   ]
  },
  {
   "cell_type": "markdown",
   "metadata": {},
   "source": [
    "Dada la posición actual, podemos consultar a la instancia a que posiciones se puede desplazar teniendo en cuenta la posición actual. Utilizando la función `Maze.move(pos)` obtendremos una nueva instancia de la clase con los atributos actualizados.\n",
    "\n",
    "## IMPORTANTE!\n",
    "\n",
    "*La función `Maze.get_moves()` no devuelve las posiciones por las que ya se ha pasado anteriormente.*"
   ]
  },
  {
   "cell_type": "code",
   "execution_count": 9,
   "metadata": {},
   "outputs": [
    {
     "name": "stdout",
     "output_type": "stream",
     "text": [
      "Las posibles posiciones a las que nos podemos desplazar són:\n",
      "[(1, 2)]\n",
      "+++++++\n",
      "+··   +\n",
      "+++ + +\n",
      "+   + +\n",
      "+ +++++\n",
      "+    s+\n",
      "+++++++\n",
      "\n",
      "[(1, 3)]\n",
      "+++++++\n",
      "+···  +\n",
      "+++ + +\n",
      "+   + +\n",
      "+ +++++\n",
      "+    s+\n",
      "+++++++\n",
      "\n",
      "[(2, 3), (1, 4)]\n",
      "+++++++\n",
      "+···  +\n",
      "+++·+ +\n",
      "+   + +\n",
      "+ +++++\n",
      "+    s+\n",
      "+++++++\n",
      "\n"
     ]
    }
   ],
   "source": [
    "print(\"Las posibles posiciones a las que nos podemos desplazar són:\")\n",
    "print(str(m.get_moves()))\n",
    "\n",
    "# Muevete hacia la primera posición disponible\n",
    "m2 = m.move(m.get_moves()[0])\n",
    "print(m2)\n",
    "\n",
    "# Lo hacemos una segunda vez\n",
    "moves = m2.get_moves()\n",
    "print(moves)\n",
    "m3 = m2.move(moves[0])\n",
    "print(m3)\n",
    "\n",
    "# Y una tercera\n",
    "moves = m3.get_moves()\n",
    "print(moves)\n",
    "m4 = m3.move(moves[0])\n",
    "print(m4)\n",
    "\n",
    "# Podemos ver en los prints como se va marcando el camino en cada movimiento."
   ]
  },
  {
   "cell_type": "markdown",
   "metadata": {},
   "source": [
    "También tenemos una función `Maze.manhattan()` que nos devolverá la distáncia de Manhattan desde la posición actual hasta la salida."
   ]
  },
  {
   "cell_type": "code",
   "execution_count": 10,
   "metadata": {},
   "outputs": [
    {
     "name": "stdout",
     "output_type": "stream",
     "text": [
      "7\n",
      "6\n",
      "5\n"
     ]
    }
   ],
   "source": [
    "# Vemos la distancia de Manhattan de los laberintos calculados anteriormente.\n",
    "print(m2.manhattan())\n",
    "print(m3.manhattan())\n",
    "print(m4.manhattan())"
   ]
  },
  {
   "cell_type": "markdown",
   "metadata": {},
   "source": [
    "Y como no podía ser menos, también tenemos la función `Maze.state()` que nos indicará si hemos llegado al final del laberinto `True` o si no hemos llegado `False`."
   ]
  },
  {
   "cell_type": "code",
   "execution_count": 11,
   "metadata": {},
   "outputs": [
    {
     "data": {
      "text/plain": [
       "False"
      ]
     },
     "execution_count": 11,
     "metadata": {},
     "output_type": "execute_result"
    }
   ],
   "source": [
    "m2.state()"
   ]
  },
  {
   "cell_type": "markdown",
   "metadata": {},
   "source": [
    "Finalmente tenemos una serie de utilidades que os pueden ayudar (no es obligatorio utilizarlas): Las funciones **id_2_pos** y **pos_2_id** convierten un id (la posición en formato string) a una tupla de la posición y viceversa."
   ]
  },
  {
   "cell_type": "code",
   "execution_count": 12,
   "metadata": {},
   "outputs": [
    {
     "name": "stdout",
     "output_type": "stream",
     "text": [
      "Posición (2,3) convertida en ID:23\n",
      "ID '23' convertido a posición: (2, 3)\n"
     ]
    }
   ],
   "source": [
    "pos = (2,3)\n",
    "\n",
    "# Si tenemos la posición (2,3) la podemos convertir a un ID de la siguiente forma:\n",
    "_id = m.pos_2_id(pos)\n",
    "print (\"Posición (2,3) convertida en ID:\" + str(_id))\n",
    "\n",
    "# Y para devolverla a una posición válida:\n",
    "print (\"ID '23' convertido a posición: \" + str(m.id_2_pos(_id)))"
   ]
  },
  {
   "cell_type": "markdown",
   "metadata": {},
   "source": [
    "La última función nos permite dibujar un camino:"
   ]
  },
  {
   "cell_type": "markdown",
   "metadata": {},
   "source": [
    "## En resumen...\n",
    "\n",
    "```\n",
    "Maze(path) - Crea un objeto Maze a partir de un fichero txt\n",
    "Maze.get_position() - Devuelve la posición actual\n",
    "Maze.get_entrada() - Devuelve la posición inicial\n",
    "Maze.get_salida() - Devuelve la posición final\n",
    "Maze.state() - Indica si nos encontramos en un estado final.\n",
    "Maze.get_moves() - Devuelve las posiciones adyacentes a las que se puede \n",
    "                            llegar desde la posición pos\n",
    "Maze.move(pos) - Devuelve una copia del objeto original habiendo desplazado la posición \n",
    "                            a pos (En caso de que se pueda). \n",
    "Maze.manhattan() - Devuelve la distáncia de Manhattan entre dos posiciones\n",
    "Maze.pos_2_id(pos) - Transforma una posición en un id\n",
    "Maze.id_2_pos(id) - Transforma un id en una posición\n",
    "```"
   ]
  },
  {
   "cell_type": "markdown",
   "metadata": {},
   "source": [
    "<div class=\"alert alert-info\">\n",
    "<center>\n",
    "  <h1>Código</h1>\n",
    "</center>"
   ]
  },
  {
   "cell_type": "markdown",
   "metadata": {},
   "source": [
    "\n",
    "<div class=\"alert alert-success\" style=\"width:90%; margin:0 auto;\">\n",
    "\n",
    "  <p>\n",
    "  Implementar una función que resuelva un laberinto encontrando el camino mas corto desde la posición de entrada hasta la posición de salida utilizando una estrategia de ramificación y poda.\n",
    "  </p>\n",
    "\n",
    "  <p>\n",
    "    </div>"
   ]
  },
  {
   "cell_type": "markdown",
   "metadata": {},
   "source": [
    "<div class=\"alert alert-danger\" style=\"width:80%; margin:0 auto; padding\">\n",
    "<center><p><h3> Tips and Tricks </h3></p> </center>\n",
    "<p>\n",
    "<ul>\n",
    "<li>\n",
    "Tener cuiadado con los estados repetidos a la hora de ramificar para evitar entrar en bucles.\n",
    "</li>\n",
    "<li>\n",
    "Leer bién las funciones que se os dan implementadas ya que permiten solucionar la mayoria de problemas de tratamiento de datos.\n",
    "</li>\n",
    "\n",
    "\n",
    "</p>\n",
    "</div>\n"
   ]
  },
  {
   "cell_type": "code",
   "execution_count": 40,
   "metadata": {
    "collapsed": true
   },
   "outputs": [],
   "source": [
    "%reset -f\n",
    "from maze import Maze\n",
    "\n",
    "def solve(path):\n",
    "    '''\n",
    "    Función para la resolución de un Laberinto.\n",
    "    \n",
    "    :param path: El path al fichero que contiene el laberinto\n",
    "    :type path: String\n",
    "    :returns: diccionario que contiene 'n_steps', 'path', 'expanded_nodes'.\n",
    "    :rtype: dict\n",
    "    '''\n",
    "    m = Maze(path)\n",
    "    pos_inicial = m.get_entrada()\n",
    "    pos_final = m.get_salida()\n",
    "    pending = m.manhattan()\n",
    "    ###\n",
    "    ### Aquí vuestro código\n",
    "    ###\n",
    "    \n",
    "    # Variables de estado\n",
    "    cotaMaxima = 99999999\n",
    "    nodo = (pending, m)\n",
    "    colaPrioritaria = [nodo]\n",
    "    \n",
    "    while len(colaPrioritaria) > 0:\n",
    "        \n",
    "        nodo = colaPrioritaria.pop(-1)\n",
    "        \n",
    "        # Poda\n",
    "        if len(nodo[1].get_moves()) == 0 and not nodo[1].state():\n",
    "            continue\n",
    "        \n",
    "        # Si es mejor solución, actualizamos variables\n",
    "        if nodo[1].state() and cotaMaxima > nodo[0]:\n",
    "            cotaMaxima = nodo[0]\n",
    "            m = nodo[1]\n",
    "            continue\n",
    "        \n",
    "        # Ramificación\n",
    "        for movement in nodo[1].get_moves():\n",
    "            colaPrioritaria.append((nodo[1].manhattan() - 1,  nodo[1].move(movement)))\n",
    "        \n",
    "        # Preferencia por el camino mínimo\n",
    "        colaPrioritaria.sort(key=lambda x: x[0])\n",
    "    \n",
    "    return m # Retornar el laberinto resuelto con el camino mínimo"
   ]
  },
  {
   "cell_type": "code",
   "execution_count": 41,
   "metadata": {},
   "outputs": [
    {
     "name": "stdout",
     "output_type": "stream",
     "text": [
      "+++++++\n",
      "+···  +\n",
      "+++·+ +\n",
      "+···+ +\n",
      "+·+++++\n",
      "+·····+\n",
      "+++++++\n",
      "\n",
      "+++++++++++++++++++++++++++++++++++++++++++++++++++++++++++++++++++++++++++++++++\n",
      "+·  +···  +·····  +·············  +·····+···············+      ·······+··· ···+ +\n",
      "+·+++·+·+++·+++·+++·+++++++++++·+++·+++·+·+++ +++++++++·+ +++++·+++++·+·+·+·+·+ +\n",
      "+·····+·+···  +·+···+ +·······+·····  +·+·+   +     +  ·+ +·····+···+·+·+···+···+\n",
      "+++++++·+·+++++·+·+++ +·+++++·+++++++++·+·+ +++ +++ +++·+++·+++++·+·+·+·+++++++·+\n",
      "+·······+·+ +···+···+ +·+   +·+·········+·+   + + +   +···+·······+·+···+ +·····+\n",
      "+·+++++++·+ +·+++++·+ +·+++ +·+·+++++++ +·+++ + + +++ +++·+++++++++·+++++ +·+++++\n",
      "+·······+·+ +·······+ +···+  ···+ +     +·+ +       + + +···+···+···+···  +·+   +\n",
      "+ +++++·+·+ +++++++++ +++·+++++++ + +++++·+ +++++++++ + +++·+·+·+·+++·+·+ +·+ + +\n",
      "+     +·+·+         +   +···+ +   + +   +·+     +   + +   +···+·+···+·+·+ +·+ + +\n",
      "+++++ +·+·+ +++ +++ +++ +++·+ + + + +++ +·+ + +++ + + + +++++++·+++·+·+·+++·+++ +\n",
      "+ +   +···+ + + +       +···+ + + +     +·+ +   + +   + +···+···+···+·+···+·····+\n",
      "+ + +++++++ + + +++++++++·+++ + + + +++ +·+ +++ + +++++ +·+·+·+++·+++·+++·+++++·+\n",
      "+ + +         + +·········+     +     + +·····+ +   + +···+···+  ·+ +···+·······+\n",
      "+ + + +++++++++ +·+++++++ +++++++ + +++ +++++·+ +++ + +·+++++++++·+ +++·+++++++++\n",
      "+ + +   +   +   +·+       +·····+ +       +···+   + + +···+  ·····+·····+·····+ +\n",
      "+ + + +++ + + + +·+++++++++·+++·+++++++++ +·+++ +++ + +++·+++·+++++·+++++·+++·+ +\n",
      "+   +     + + + +·········+···+·+·······+ +···+   + +    ·····+   +·····+···+·+ +\n",
      "+ +++ +++++ + + +++++++++·+++·+·+·+++++·+++++·+++ + +++++++++++ + +++++·+++·+·+ +\n",
      "+     +       +         +·····+···    +·······    +         +   +      ·····+···+\n",
      "+++++++++++++++++++++++++++++++++++++++++++++++++++++++++++++++++++++++++++++++++\n",
      "\n",
      "+++++++++++++++++++++++++++++++++++++++++++++++++++++++++++++++++++++++++++++++++++++++++++++++++++++\n",
      "+·    +                     +       +   +           +           +             +     +               +\n",
      "+·+++ +++++ +++++ +++++++++ + +++++ + + + +++ +++++++ + + +++++ +++++++ +++++++ +++ + +++++ +++++++ +\n",
      "+···+ +   +   +   +     +   +     + + +   + +         + + +   +   +     +       +   + +     +     + +\n",
      "+++·+ + + +++++ +++ +++ + +++++++++ + +++++ +++++++++++ +++ + +++ + +++ + +++++++ +++ + +++++ +++ + +\n",
      "+···+   + +   +     + + +           + +           +     +   +   +   +   + +   + + + + +     +   + + +\n",
      "+·+++++++ + + +++ +++ + +++++++++++ + + +++ +++++ + +++++ +++++ +++++ +++ + + + + + + +++++ +++ + + +\n",
      "+·····+   + +   + +   +           + + + +   +   + +       +     +   +   +   + + + +     +   +   + + +\n",
      "+ +++·+ +++ +++ + +++ +++++++ +++ +++ +++ +++ + +++++++++++ +++++ +++++ +++++ + + +++++++ +++ +++ + +\n",
      "+ + +·+ +   + + +     + +   +   +   +   + +   +         + +   +       + +     + +     +   + +   + + +\n",
      "+ + +·+ +++ + + +++++ + + + +++ +++ +++ + + +++++++ +++ + +++ +++++++ + + +++++ +++++ + +++ + + +++ +\n",
      "+ + +·+ +   + +   +     + +   + +     + +   +   +   + +   + +   +     + + + +       +   +   + +     +\n",
      "+ + +·+ + +++ +++ + +++++ +++ +++ +++ + +++++ + + +++ +++ + +++ + +++++ + + + +++++ +++++ + + +++++++\n",
      "+ + +·+ +   +     + +   + +   +   +   +       + + +           + +   +   + +       +       + + +   + +\n",
      "+ + +·+ +++ + +++++ + + + +++ + +++ +++++++++++ + +++++++++++++ + + + +++ +++++++++ +++++++ + + + + +\n",
      "+   +·+     +     + + + +   + +   +       +     + +   +         + + + + +         + +   +   +   +   +\n",
      "+++ +·+++++++++++ +++ + + + + + + +++++++++ +++++ + + + + +++++++++ + + +++++++++ + + + + + +++++++ +\n",
      "+   +·+   +           + + + + + +         +   +   + +   + + + +     + +         + + + +   + + +     +\n",
      "+++++·+ + + +++++++++++ +++ + +++++++++ + +++ + +++ +++++ + + + + +++ + +++ +++++ +++ +++++ + + +++++\n",
      "+·····+ +   + +·····+ +     +   +     + +   + +   + +     + +   +     + +   +     +   +   + + +   + +\n",
      "+·+++++ +++++ +·+++·+ +++++++++ + +++ +++++ + +++ + + +++++ +++++++ +++++ +++ +++++ +++ + + + +++ + +\n",
      "+···+   +     +···+·+       +     +       +       + + +   +       +       +   +     +   + +   +   + +\n",
      "+ +·+ +++ +++ +++·+·+ +++ +++ +++++++++++ +++++++ + + + +++++++++ +++ +++++ +++++++ + + +++++ + +++ +\n",
      "+ +·+   + +   +···+·+   + +   + +·····+   +     + + +   +·······+   + +     +   +   + +     + +   + +\n",
      "+ +·+++ +++ +++·+++·+ + +++ +++ +·+++·+++ + +++ +++ + +++·+++++·+++ +++ +++++ + + +++ +++++ + +++ + +\n",
      "+ +···+     +···+ +·+ +     +   +·+ +···+   +       + +···+   +·  +     +     +   +       +     + + +\n",
      "+ +++·+++++++·+++ +·+++++++ +++ +·+ +++·+++++++++++++ +·+++ +++·+++++++++++++ +++++ +++++++ +++++ + +\n",
      "+   +·+·····+·+   +·+·····+     +·+   +···+·········+ +·+     +·····+···      +···+   +···+ +···+ + +\n",
      "+++ +·+·+++·+·+ + +·+·+++·+++++++·+++ +++·+·+++++++·+++·+++++ +++++·+·+·+++++++·+·+++++·+·+++·+·+ + +\n",
      "+   +···  +···  + +···  +·········      +···      +·····          +···+·········+·······+·····+·····+\n",
      "+++++++++++++++++++++++++++++++++++++++++++++++++++++++++++++++++++++++++++++++++++++++++++++++++++++\n",
      "\n"
     ]
    }
   ],
   "source": [
    "# TEST #\n",
    "print(solve('laberintos/maze0.txt'))\n",
    "print(solve('laberintos/maze1.txt'))\n",
    "print(solve('laberintos/maze2.txt'))"
   ]
  },
  {
   "cell_type": "markdown",
   "metadata": {},
   "source": [
    "<div class=\"alert alert-info\">\n",
    "<center>\n",
    "  <h1>Preguntas</h1>\n",
    "</center>\n",
    "</div>"
   ]
  },
  {
   "cell_type": "markdown",
   "metadata": {},
   "source": [
    "### 1. Como has implementado el algoritmo?\n",
    "\n",
    "Mediante una cola prioritaria y ramificando todos los nodos hijos de un nodo padre, ya que al podar esos nodos hijos que no lleguen a ninguna solución se simplifica mucho el coste. Ramifico mediante la distancia de Manhattan menos una posición, ya que me faltará una posición menos para acabar el problema. Al final implemento una ordenación para simular una cola prioritaria que coge el nodo con mínima distancia\n",
    "\n",
    "### 2. Que criterios utilizas para hacer la ramificación y la poda?\n",
    "\n",
    "Ramifico si es que me quedan movimientos por hacer, podo si es que aún tengo jugadas por hacer y no tendré solución alguna.\n",
    "\n",
    "### 3. Realiza un análisis de complejidad del algoritmo\n",
    "\n",
    "Si el algoritmo no implementase Branch and Bound, entonces la complejidad seŕia O((n-1)!), siendo n el número de nodos que hay en nuestro árbol. Al momento de podar y ramificar siguiendo el criterio anterior, la complejidad se aleja mucho de ser factorial, ya que sigo una probabilidad que es coger la mínima distancia que me queda y quito pasos innecesarios que no llegarán a una solución."
   ]
  },
  {
   "cell_type": "code",
   "execution_count": null,
   "metadata": {
    "collapsed": true
   },
   "outputs": [],
   "source": []
  }
 ],
 "metadata": {
  "kernelspec": {
   "display_name": "Python 3",
   "language": "python",
   "name": "python3"
  },
  "language_info": {
   "codemirror_mode": {
    "name": "ipython",
    "version": 3
   },
   "file_extension": ".py",
   "mimetype": "text/x-python",
   "name": "python",
   "nbconvert_exporter": "python",
   "pygments_lexer": "ipython3",
   "version": "3.6.1"
  }
 },
 "nbformat": 4,
 "nbformat_minor": 1
}
