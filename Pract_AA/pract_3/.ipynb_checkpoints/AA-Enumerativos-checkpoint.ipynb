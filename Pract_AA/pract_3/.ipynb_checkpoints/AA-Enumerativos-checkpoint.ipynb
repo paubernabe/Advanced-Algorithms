{
 "cells": [
  {
   "cell_type": "markdown",
   "metadata": {},
   "source": [
    "<div style=\"padding:30px; color: white; background-color: #0071CD\">\n",
    "<center>\n",
    "<img src=\"img/logoub.jpeg\"></img>\n",
    "<center>\n",
    "<p>\n",
    "<h1>Algorísmica Avançada</h1>\n",
    "<h2>Práctica 3 - Enumerativos </h2>\n",
    "</center>\n",
    "</p>\n",
    "</div>"
   ]
  },
  {
   "cell_type": "markdown",
   "metadata": {},
   "source": [
    "<div class=\"alert alert-info\">\n",
    "<center>\n",
    "  <h1>Introducción</h1>\n",
    "</center>\n",
    "</div>"
   ]
  },
  {
   "cell_type": "markdown",
   "metadata": {},
   "source": [
    "En ésta práctica utilizaremos el concepto de ramificación y poda para la resolución del siguiente problema.\n",
    "\n",
    "La construcción de un artefacto requiere ensamblar $M$ piezas que identiﬁcamos con números entre $1$ y $M$. El coste de ensamblar la pieza $i$ depende del número de piezas ya ensambladas. Los costes, que son valores positivos, se nos proporcionan en una matriz $C$. La celda $c_{ij}$ es el coste de ensamblar la pieza $i$ cuando ya se han ensamblado $j$ piezas. Deseamos calcular el orden de ensamblado de menor coste total, entendido éste como la suma del coste de ensamblaje de cada una de las piezas. "
   ]
  },
  {
   "cell_type": "markdown",
   "metadata": {},
   "source": [
    "<div class=\"alert alert-info\">\n",
    "<center>\n",
    "  <h1>Contenido</h1>\n",
    "  </center><p>\n",
    "    </p></div>\n",
    "\n"
   ]
  },
  {
   "cell_type": "markdown",
   "metadata": {},
   "source": [
    "\n",
    "<div class=\"alert alert-success\" style=\"width:90%; margin:0 auto;\">\n",
    "  <h2><p>Ramificación y poda: Problema del ensamblaje</p></h2>\n",
    "  \n",
    "  <div class=\"row\">\n",
    "  <div>\n",
    "  <p style=\"text-align: justify; padding-right: 30px\">\n",
    "  Implementa mediante ramificación y poda una solución al problema del ensamblaje con tal de encontrar el listado ordenado de piezas cuyo coste total de ensamblaje sea mínimo.\n",
    "  </p>\n",
    "  </div>\n",
    "    </div></div>\n"
   ]
  },
  {
   "cell_type": "markdown",
   "metadata": {},
   "source": [
    "<div class=\"alert alert-danger\" style=\"width:80%; margin:0 auto; padding\">\n",
    "<center><p><h3> Código </h3></p> </center> \n",
    "\n",
    "<p>\n",
    "<h3>INPUT</h3>\n",
    "<ul>\n",
    "<li>C: Matriz de costes de tamaño $M\\times M$, donde M es el número de piezas. El elemento $i,j$ de la matriz representa el coste de ensamblaje para la pieza $i$ tras haber colocado $j$ piezas. \n",
    "</li>\n",
    "</ul>\n",
    "<br>\n",
    "<h3>OUTPUT</h3>\n",
    "Lista de números de $1$ a $M$ ordenados de forma que el coste total de ensamblaje sea mínimo. Ej: [5, 3, 2, 4, 1]\n",
    "</p>\n",
    "\n",
    "</div>"
   ]
  },
  {
   "cell_type": "code",
   "execution_count": 52,
   "metadata": {
    "collapsed": true
   },
   "outputs": [],
   "source": [
    "import heapq\n",
    "import numpy as np\n",
    "#init\n",
    "def branch_bound(C,M):\n",
    "    \"\"\"\n",
    "    Función que obtiene el orden óptimo de las piezas tal que el coste total es mínimo.\n",
    "    Args:\n",
    "        - C: matriz de costes M x M\n",
    "    \"\"\"\n",
    "    #matriz donde podremos seleccionar correctamente los items\n",
    "    matriz=np.empty(shape=(M,M),dtype=bool)\n",
    "    matriz.fill(True)#matriu on controlarem els visitats\n",
    "\n",
    "    cota_sup=cota_superior(C)\n",
    "    heap=[ ] \n",
    "    coste_acumulado=0 \n",
    "    items= [float('inf')]*M \n",
    "    millor_solucio=[] \n",
    "    v=[] \n",
    "    elem=0 \n",
    "    ctr=0  \n",
    "    \n",
    "    '''\n",
    "        -cota_sup: valor inicial on tindrem el valor que no pot passar\n",
    "        -matriz: Matriu numpy on marcarem a False on haguem visitat\n",
    "        -heap: sera la nostra cua de prioritats\n",
    "        -coste_acumulado: cost que anirem acumulant a cada branca\n",
    "        -items: llista inicialitzada a inf, on anirem colocant els elements a la posició més econòmica\n",
    "        -millor_solucio: variable on guardarem una possible millor solucio completa\n",
    "        -v: llista auxiliar utilitzada en el metode get_cost\n",
    "        -elem: serà cada element que podem tractar.\n",
    "        -ctr: es un comptador, la seva funció es donar un ID a cada \"node\"(tupla) de la cua prioritaria,\n",
    "            d'aquesta manera, mai arribarem a comparar np array amb np array, ja que fer-ho dóna errors.\n",
    "    '''\n",
    "    \n",
    "    #inicialitzarem la cua fent la primera ramificació, amb l'element 0\n",
    "    for i in range(M):\n",
    "        cost=get_cost(C,M,elem,i,v.copy())#minimo fila + coste objeto\n",
    "        coste_acumulado=C[elem][i] #coste de la rama, se acumulará posteriormente\n",
    "        it_private=items.copy() #farem una còpia dels items per a cada estat\n",
    "        it_private[i]=elem # i hi afegirem l'element\n",
    "        matriz_n=matriz.copy()\n",
    "        matriz_n=fill_matrix(M,i,elem,matriz_n)#farem copia de la matriu de visitats i canviarem a false els valors visitats\n",
    "        ctr+=1 #sumem 1 al nostre id de cada estat\n",
    "        heap.append((cost,coste_acumulado,elem,it_private,i,ctr,matriz_n))#els posem a la cua\n",
    "        coste_acumulado=0\n",
    "        \n",
    "    heapq.heapify(heap)\n",
    "    \n",
    "    \n",
    "    while heap:\n",
    "        actual, acc, elemento, its, col,_ctr,mat = heapq.heappop(heap)\n",
    "        #expulsem de la cua un \"node\" que serà el nostre estat actual\n",
    "        if actual>cota_sup:\n",
    "            #si el valor que hem obtingut, és més gran que la cota superior, fem la primera poda.\n",
    "            continue\n",
    "        else:\n",
    "            #altrament, comencem a tractar el següent element\n",
    "            _=elemento+1\n",
    "            #si no tenim cap inf als items d'aquest estat i el valor actual es menor que la cota_sup.\n",
    "            if float('inf') not in its and actual<cota_sup:\n",
    "                millor_solucio=its #marquem que de moment, la millor solucio serà els items d'aquest estat\n",
    "                cota_sup=acc #i que la cota superior serà el valor acumulat de les branques\n",
    "            else:\n",
    "                #altrament, iterarem sobre les posicions que no hem visitat encara\n",
    "                for q in range(M):\n",
    "                    #si aquesta posicio no ha estat visitada, tractarem aquest nou cas\n",
    "                    if mat[_][q]:\n",
    "                        _acc=C[_][q]+acc #acumulem el valor de la branca anterior a aquesta branca\n",
    "                        _actual=get_cost(C,M,_,q,v.copy())+_acc #sumem al valor de get_cost la suma anterior\n",
    "                        _its=its.copy() #fem còpia dels items i de la matriu de visitats\n",
    "                        _its[q]=_#posem l'element a la seva posició més òptima\n",
    "                        _mat=mat.copy()\n",
    "                        _mat=fill_matrix(M,q,_,_mat)#omplenem la combinació\n",
    "                        ctr+=1\n",
    "                        heapq.heappush(heap,(_actual,_acc,_,_its,ctr,q,_mat)) #ho posem a la cua\n",
    "    return millor_solucio,cota_sup\n",
    "                    \n",
    "\n",
    "#calcula els costos parcials quan no hem agafat tots els elements\n",
    "def get_cost(C,M,obj,col,visited):\n",
    "    cost=C[obj][col] \n",
    "    j_temporal=0\n",
    "    less=float('inf')\n",
    "\n",
    "    for i in range(obj+1,len(C)):\n",
    "        for j in range(len(C)):\n",
    "            if j not in visited:\n",
    "                if C[i][j]<less and j!=col:\n",
    "                    less=C[i][j]\n",
    "                    j_temporal=j\n",
    "        visited.append(j_temporal)\n",
    "        cost+=less\n",
    "        less=float('inf')\n",
    "\n",
    "    return cost                \n",
    "              \n",
    "#amb aquesta funcio, omplenem de False la columna/fila ja visitats d'aquell estat en concret         \n",
    "def fill_matrix(M,t,elem,matrix):\n",
    "    for i in range(M):\n",
    "        matrix[elem][i]=False\n",
    "        matrix[i][t]=False\n",
    "        \n",
    "    return matrix\n",
    "\n",
    "#Cogemos el menor de cada fila\n",
    "def cota_inferior(C):\n",
    "    inferior=0\n",
    "    for i in C.keys():\n",
    "        less=min(C[i].values())\n",
    "        inferior+=less\n",
    "    return inferior\n",
    "#Cogemos los valores de la diagonal\n",
    "def cota_superior(C):\n",
    "    superior=0\n",
    "    for i in C.keys():\n",
    "        diag=C[i][i]\n",
    "        superior+=diag\n",
    "    return superior"
   ]
  },
  {
   "cell_type": "code",
   "execution_count": 53,
   "metadata": {},
   "outputs": [
    {
     "name": "stdout",
     "output_type": "stream",
     "text": [
      "0 {0: 5, 1: 19, 2: 25, 3: 3, 4: 9, 5: 4, 6: 16, 7: 25, 8: 15, 9: 16}\n",
      "1 {0: 21, 1: 13, 2: 7, 3: 4, 4: 16, 5: 1, 6: 13, 7: 14, 8: 20, 9: 25}\n",
      "2 {0: 25, 1: 1, 2: 23, 3: 15, 4: 9, 5: 24, 6: 8, 7: 19, 8: 4, 9: 11}\n",
      "3 {0: 1, 1: 1, 2: 1, 3: 21, 4: 18, 5: 1, 6: 13, 7: 22, 8: 7, 9: 14}\n",
      "4 {0: 24, 1: 1, 2: 17, 3: 8, 4: 25, 5: 15, 6: 16, 7: 18, 8: 8, 9: 12}\n",
      "5 {0: 8, 1: 22, 2: 8, 3: 25, 4: 15, 5: 10, 6: 1, 7: 14, 8: 18, 9: 21}\n",
      "6 {0: 4, 1: 6, 2: 21, 3: 24, 4: 10, 5: 4, 6: 24, 7: 11, 8: 24, 9: 23}\n",
      "7 {0: 17, 1: 14, 2: 17, 3: 22, 4: 7, 5: 10, 6: 10, 7: 19, 8: 16, 9: 17}\n",
      "8 {0: 13, 1: 19, 2: 2, 3: 16, 4: 8, 5: 24, 6: 13, 7: 14, 8: 22, 9: 6}\n",
      "9 {0: 12, 1: 18, 2: 23, 3: 25, 4: 22, 5: 24, 6: 12, 7: 3, 8: 15, 9: 22}\n",
      "([6, 4, 3, 0, 7, 1, 5, 9, 2, 8], 31)\n",
      "0.0\n"
     ]
    }
   ],
   "source": [
    "import random\n",
    "import time\n",
    "\n",
    "from random import randint\n",
    "random.seed(1)\n",
    "M = 10 # Número de piezas\n",
    "# Matriz de costes generada aleatoriamente\n",
    "C = {}\n",
    "for i in range(M):\n",
    "    C[i] = {}\n",
    "    for j in range(M):\n",
    "        C[i][j] = randint(1, 25)\n",
    "        \n",
    "    print(i,C[i])\n",
    "#print(C)\n",
    "\n",
    "\n",
    "t = time.process_time()\n",
    "\n",
    "\n",
    "solucion = branch_bound(C ,10)\n",
    "print(solucion)\n",
    "elapsed_time = time.process_time() - t\n",
    "print(elapsed_time)"
   ]
  },
  {
   "cell_type": "markdown",
   "metadata": {},
   "source": [
    "<div class=\"alert alert-danger\" style=\"width:80%; margin:0 auto; padding\">\n",
    "<center><p><h3> Comentarios </h3></p> </center> \n",
    "\n",
    "</div>"
   ]
  },
  {
   "cell_type": "markdown",
   "metadata": {},
   "source": [
    "### En esta sección debéis responder a las preguntas siguientes:\n",
    "#### 1. Explica cómo has realizado tu implementación, enfatizando en la heurística empleada.\n",
    "\n",
    "Principalmente sigo la estrategia que se ve en el pdf de enumerativos, como explico en los comentarios, mi idea inicial fue ir recortando o ignorando los objetos y columnas ya visitadas.\n",
    "\n",
    "Primera parte:\n",
    "Sirve para inicializar la cola, solo con el primer elemento, para conseguir la primera ramificación.\n",
    "\n",
    "Segunda parte:\n",
    "\n",
    "Mientras el heap no este vacío, voy desencolando y tratando estados. Si el valor \"actual\"( el que se calcula seleccionando a--A y luego los minimos sin importar si repites fila) supera la cota superior se va a podar ese estado y no vamos a incluir sus derivados a la cola.\n",
    "Si da el caso que la solucion(items) es completa y el valor es menor a la cota superior, pues vamos a dejar \"reservado\" ese estado como la mejor solución. Hasta que llegue otro, o no.\n",
    "\n",
    "Si no es completo, vamos a crear los estados derivados del estado actual, donde no podremos volver a crear estados que ya hemos visitado dentro de ese estado, al tener cada \"nodo\" una matriz de visitados, ahi se indicara cual esta por visitar y cual no. Esos estados los vamos a encolar.\n",
    "\n",
    "Funciones auxiliares:\n",
    "\n",
    "Tengo dos funciones que calculan las cotas, solo uso la cota superior.\n",
    "La funcion get_cost es la que a partir de el elemento en concreto, te ajusta unos limites y te hace la suma de un coste parcial. Como he dicho antes, tenemos a--->A, tanto A como a estaran \"tachados\" y solo va a coger los minimos de las restantes.\n",
    "La funcion fill_matrix es para rellenar de False las combinaciones ya visitadas.\n",
    "\n",
    "\n",
    "\n"
   ]
  },
  {
   "cell_type": "markdown",
   "metadata": {},
   "source": [
    "#### 2. Análisis de complejidad de la implementación\n",
    "\n",
    "Haciendo ramificación y poda mejoramos mucho la complejidad. Pero sigue siendo una búsqueda exhaustiva, es decir la complejidad que vamos a tener que fijar va a ser la del peor caso, aunque se de en una probabilidad muy baja.\n",
    "La complejidad de mi algoritmo es O(n^2)\n"
   ]
  },
  {
   "cell_type": "markdown",
   "metadata": {},
   "source": [
    "<div class=\"alert alert-info\">\n",
    "<center>\n",
    "  <h1>Entrega</h1>\n",
    "</center>\n",
    "\n",
    "<p>\n",
    "La entrega tiene que consistir en un solo fichero **.ipynb** con el nombre: *Apellido1_Apellido2*_*Nombre*_ASS3.ipyn\n",
    "</p>\n",
    "</div>"
   ]
  },
  {
   "cell_type": "code",
   "execution_count": null,
   "metadata": {
    "collapsed": true
   },
   "outputs": [],
   "source": []
  },
  {
   "cell_type": "code",
   "execution_count": null,
   "metadata": {
    "collapsed": true
   },
   "outputs": [],
   "source": []
  }
 ],
 "metadata": {
  "kernelspec": {
   "display_name": "Python 3",
   "language": "python",
   "name": "python3"
  },
  "language_info": {
   "codemirror_mode": {
    "name": "ipython",
    "version": 3
   },
   "file_extension": ".py",
   "mimetype": "text/x-python",
   "name": "python",
   "nbconvert_exporter": "python",
   "pygments_lexer": "ipython3",
   "version": "3.6.1"
  }
 },
 "nbformat": 4,
 "nbformat_minor": 1
}
