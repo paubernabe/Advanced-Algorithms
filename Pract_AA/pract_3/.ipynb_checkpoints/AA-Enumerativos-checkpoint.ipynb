{
 "cells": [
  {
   "cell_type": "markdown",
   "metadata": {},
   "source": [
    "<div style=\"padding:30px; color: white; background-color: #0071CD\">\n",
    "<center>\n",
    "<img src=\"img/logoub.jpeg\"></img>\n",
    "<center>\n",
    "<p>\n",
    "<h1>Algorísmica Avançada</h1>\n",
    "<h2>Práctica 3 - Enumerativos </h2>\n",
    "</center>\n",
    "</p>\n",
    "</div>"
   ]
  },
  {
   "cell_type": "markdown",
   "metadata": {},
   "source": [
    "<div class=\"alert alert-info\">\n",
    "<center>\n",
    "  <h1>Introducción</h1>\n",
    "</center>\n",
    "</div>"
   ]
  },
  {
   "cell_type": "markdown",
   "metadata": {},
   "source": [
    "En ésta práctica utilizaremos el concepto de ramificación y poda para la resolución del siguiente problema.\n",
    "\n",
    "La construcción de un artefacto requiere ensamblar $M$ piezas que identiﬁcamos con números entre $1$ y $M$. El coste de ensamblar la pieza $i$ depende del número de piezas ya ensambladas. Los costes, que son valores positivos, se nos proporcionan en una matriz $C$. La celda $c_{ij}$ es el coste de ensamblar la pieza $i$ cuando ya se han ensamblado $j$ piezas. Deseamos calcular el orden de ensamblado de menor coste total, entendido éste como la suma del coste de ensamblaje de cada una de las piezas. "
   ]
  },
  {
   "cell_type": "markdown",
   "metadata": {},
   "source": [
    "<div class=\"alert alert-info\">\n",
    "<center>\n",
    "  <h1>Contenido</h1>\n",
    "  </center><p>\n",
    "    </p></div>\n",
    "\n"
   ]
  },
  {
   "cell_type": "markdown",
   "metadata": {},
   "source": [
    "\n",
    "<div class=\"alert alert-success\" style=\"width:90%; margin:0 auto;\">\n",
    "  <h2><p>Ramificación y poda: Problema del ensamblaje</p></h2>\n",
    "  \n",
    "  <div class=\"row\">\n",
    "  <div>\n",
    "  <p style=\"text-align: justify; padding-right: 30px\">\n",
    "  Implementa mediante ramificación y poda una solución al problema del ensamblaje con tal de encontrar el listado ordenado de piezas cuyo coste total de ensamblaje sea mínimo.\n",
    "  </p>\n",
    "  </div>\n",
    "    </div></div>\n"
   ]
  },
  {
   "cell_type": "markdown",
   "metadata": {},
   "source": [
    "<div class=\"alert alert-danger\" style=\"width:80%; margin:0 auto; padding\">\n",
    "<center><p><h3> Código </h3></p> </center> \n",
    "\n",
    "<p>\n",
    "<h3>INPUT</h3>\n",
    "<ul>\n",
    "<li>C: Matriz de costes de tamaño $M\\times M$, donde M es el número de piezas. El elemento $i,j$ de la matriz representa el coste de ensamblaje para la pieza $i$ tras haber colocado $j$ piezas. \n",
    "</li>\n",
    "</ul>\n",
    "<br>\n",
    "<h3>OUTPUT</h3>\n",
    "Lista de números de $1$ a $M$ ordenados de forma que el coste total de ensamblaje sea mínimo. Ej: [5, 3, 2, 4, 1]\n",
    "</p>\n",
    "\n",
    "</div>"
   ]
  },
  {
   "cell_type": "code",
   "execution_count": 520,
   "metadata": {},
   "outputs": [],
   "source": [
    "import heapq\n",
    "import numpy as np\n",
    "#init\n",
    "def branch_bound(C,M):\n",
    "    \"\"\"\n",
    "    Función que obtiene el orden óptimo de las piezas tal que el coste total es mínimo.\n",
    "    Args:\n",
    "        - C: matriz de costes M x M\n",
    "    \"\"\"\n",
    "    #matriz donde podremos seleccionar correctamente los items\n",
    "    matriz=np.empty(shape=(M,M),dtype=bool)\n",
    "    matriz.fill(True)\n",
    "    \n",
    "    cota_sup=cota_superior(C)\n",
    "    heap=[ ] #cua de prioritats\n",
    "    coste_acumulado=0 #el coste que acumulamos en cada ramificacion y tenemos el coste de la rama actual\n",
    "    items= [-1]*M #conjunt d'items resultant\n",
    "    \n",
    "    v=[]\n",
    "    \n",
    "    columna=0\n",
    "    \n",
    "    #inicialitzem la cua\n",
    "    for i in range(M):\n",
    "        cost=get_cost(C,M,0,i,v.copy())#minimo fila + coste objeto\n",
    "        coste_acumulado=C[0][i] #coste de la rama, se acumulará posteriormente\n",
    "        \n",
    "        \n",
    "        it_private=items.copy()\n",
    "        it_private[i]=0\n",
    "        matriz_n=matriz.copy()\n",
    "        matriz_n=fill_matrix(M,i,matriz_n)\n",
    "        heap.append((cost,coste_acumulado,it_private.index(0),it_private,matriz_n,i))\n",
    "        coste_acumulado=0\n",
    "\n",
    "\n",
    "    heapq.heapify(heap)\n",
    "    while len(heap)!=0:\n",
    "        \n",
    "        actual, acc, elemento, its, mat, col = heapq.heappop(heap)\n",
    "        \n",
    "        if actual>cota_sup:\n",
    "            continue\n",
    "\n",
    "            for i in range(M):\n",
    "                if mat[][i]: #aqui\n",
    "                    _cost=get_cost(C,M,elemento,v.copy())\n",
    "                    acc+=C[elemento][i]\n",
    "                    n_mat=mat.copy()\n",
    "                    n_mat=fill_matrix(M,i,n_mat)\n",
    "                    n_its=its.copy()\n",
    "                    n_its[i]=elemento\n",
    "                    heap.append((_cost,acc,elemento,n_its,n_mat,i))\n",
    "            heapq.heapify(heap)\n",
    "\n",
    "        \n",
    "            \n",
    "    \n",
    "                    \n",
    "\n",
    "def get_cost(C,M,obj,col,visited):\n",
    "    cost=C[obj][col]\n",
    "    j_temporal=0\n",
    "    for i in range(obj+1,len(C)):\n",
    "        less=float('inf')\n",
    "        for j in range(len(C)):\n",
    "            if j not in visited:\n",
    "                if C[i][j]<less and j!=col:\n",
    "                    less=C[i][j]\n",
    "                    j_temporal=j\n",
    "        visited.append(j_temporal)\n",
    "        cost+=less\n",
    "    return cost                \n",
    "              \n",
    "            \n",
    "def fill_matrix(M,obj,matrix):\n",
    "    for i in range(M):\n",
    "        matrix[i][obj]=False\n",
    "        matrix[obj][i]=False\n",
    "        \n",
    "    return matrix\n",
    "        \n",
    "        \n",
    "\n",
    "#Cogemos el menor de cada fila\n",
    "def cota_inferior(C):\n",
    "    inferior=0\n",
    "    for i in C.keys():\n",
    "        less=min(C[i].values())\n",
    "        inferior+=less\n",
    "    return inferior\n",
    "#Cogemos los valores de la diagonal\n",
    "def cota_superior(C):\n",
    "    superior=0\n",
    "    for i in C.keys():\n",
    "        diag=C[i][i]\n",
    "        superior+=diag\n",
    "    return superior"
   ]
  },
  {
   "cell_type": "code",
   "execution_count": 521,
   "metadata": {},
   "outputs": [
    {
     "name": "stdout",
     "output_type": "stream",
     "text": [
      "[(21, 5, 0, [0, -1, -1, -1], array([[False, False, False, False],\n",
      "       [False,  True,  True,  True],\n",
      "       [False,  True,  True,  True],\n",
      "       [False,  True,  True,  True]], dtype=bool), 0), (21, 6, 1, [-1, 0, -1, -1], array([[ True, False,  True,  True],\n",
      "       [False, False, False, False],\n",
      "       [ True, False,  True,  True],\n",
      "       [ True, False,  True,  True]], dtype=bool), 1), (14, 2, 2, [-1, -1, 0, -1], array([[ True,  True, False,  True],\n",
      "       [ True,  True, False,  True],\n",
      "       [False, False, False, False],\n",
      "       [ True,  True, False,  True]], dtype=bool), 2), (40, 11, 3, [-1, -1, -1, 0], array([[ True,  True,  True, False],\n",
      "       [ True,  True,  True, False],\n",
      "       [ True,  True,  True, False],\n",
      "       [False, False, False, False]], dtype=bool), 3)]\n",
      "21\n",
      "fv 3\n",
      "None\n"
     ]
    }
   ],
   "source": [
    "import random\n",
    "from random import randint\n",
    "random.seed(0)\n",
    "M = 10 # Número de piezas\n",
    "# Matriz de costes generada aleatoriamente\n",
    "C = {}\n",
    "for i in range(M):\n",
    "    C[i] = {}\n",
    "    for j in range(M):\n",
    "        C[i][j] = randint(1, 25)\n",
    "\n",
    "    #print(i,C[i])\n",
    "\n",
    "p={0:{0:11,1:12,2:18,3:40},\n",
    "   1:{0:14,1:15,2:13,3:22},\n",
    "   2:{0:11,1:17,2:19,3:23},\n",
    "   3:{0:17,1:14,2:20,3:28}}\n",
    "xx={0:{0:11,1:14,2:11,3:17},\n",
    "   1:{0:12,1:15,2:17,3:14},\n",
    "   2:{0:18,1:13,2:19,3:20},\n",
    "   3:{0:40,1:22,2:23,3:28}}\n",
    "n={0:{0:5,1:6,2:2,3:11},\n",
    "  1:{0:22,1:1,2:4,3:12},\n",
    "  2:{0:8,1:7,2:12,3:13},\n",
    "  3:{0:14,1:16,2:20,3:3}}\n",
    "N=4\n",
    "solucion = branch_bound(n,N)\n",
    "print(solucion)"
   ]
  },
  {
   "cell_type": "markdown",
   "metadata": {},
   "source": [
    "<div class=\"alert alert-danger\" style=\"width:80%; margin:0 auto; padding\">\n",
    "<center><p><h3> Comentarios </h3></p> </center> \n",
    "\n",
    "</div>"
   ]
  },
  {
   "cell_type": "markdown",
   "metadata": {},
   "source": [
    "### En esta sección debéis responder a las preguntas siguientes:\n",
    "#### 1. Explica cómo has realizado tu implementación, enfatizando en la heurística empleada.\n",
    "#### 2. Análisis de complejidad de la implementación"
   ]
  },
  {
   "cell_type": "markdown",
   "metadata": {},
   "source": [
    "<div class=\"alert alert-info\">\n",
    "<center>\n",
    "  <h1>Entrega</h1>\n",
    "</center>\n",
    "\n",
    "<p>\n",
    "La entrega tiene que consistir en un solo fichero **.ipynb** con el nombre: *Apellido1_Apellido2*_*Nombre*_ASS3.ipyn\n",
    "</p>\n",
    "</div>"
   ]
  },
  {
   "cell_type": "code",
   "execution_count": null,
   "metadata": {
    "collapsed": true
   },
   "outputs": [],
   "source": []
  }
 ],
 "metadata": {
  "kernelspec": {
   "display_name": "Python 3",
   "language": "python",
   "name": "python3"
  },
  "language_info": {
   "codemirror_mode": {
    "name": "ipython",
    "version": 3
   },
   "file_extension": ".py",
   "mimetype": "text/x-python",
   "name": "python",
   "nbconvert_exporter": "python",
   "pygments_lexer": "ipython3",
   "version": "3.6.1"
  }
 },
 "nbformat": 4,
 "nbformat_minor": 1
}
