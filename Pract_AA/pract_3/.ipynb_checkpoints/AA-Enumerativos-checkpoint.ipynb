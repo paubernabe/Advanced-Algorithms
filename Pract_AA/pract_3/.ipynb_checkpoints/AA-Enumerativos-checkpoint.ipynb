{
 "cells": [
  {
   "cell_type": "markdown",
   "metadata": {},
   "source": [
    "<div style=\"padding:30px; color: white; background-color: #0071CD\">\n",
    "<center>\n",
    "<img src=\"img/logoub.jpeg\"></img>\n",
    "<center>\n",
    "<p>\n",
    "<h1>Algorísmica Avançada</h1>\n",
    "<h2>Práctica 3 - Enumerativos </h2>\n",
    "</center>\n",
    "</p>\n",
    "</div>"
   ]
  },
  {
   "cell_type": "markdown",
   "metadata": {},
   "source": [
    "<div class=\"alert alert-info\">\n",
    "<center>\n",
    "  <h1>Introducción</h1>\n",
    "</center>\n",
    "</div>"
   ]
  },
  {
   "cell_type": "markdown",
   "metadata": {},
   "source": [
    "En ésta práctica utilizaremos el concepto de ramificación y poda para la resolución del siguiente problema.\n",
    "\n",
    "La construcción de un artefacto requiere ensamblar $M$ piezas que identiﬁcamos con números entre $1$ y $M$. El coste de ensamblar la pieza $i$ depende del número de piezas ya ensambladas. Los costes, que son valores positivos, se nos proporcionan en una matriz $C$. La celda $c_{ij}$ es el coste de ensamblar la pieza $i$ cuando ya se han ensamblado $j$ piezas. Deseamos calcular el orden de ensamblado de menor coste total, entendido éste como la suma del coste de ensamblaje de cada una de las piezas. "
   ]
  },
  {
   "cell_type": "markdown",
   "metadata": {},
   "source": [
    "<div class=\"alert alert-info\">\n",
    "<center>\n",
    "  <h1>Contenido</h1>\n",
    "  </center><p>\n",
    "    </p></div>\n",
    "\n"
   ]
  },
  {
   "cell_type": "markdown",
   "metadata": {},
   "source": [
    "\n",
    "<div class=\"alert alert-success\" style=\"width:90%; margin:0 auto;\">\n",
    "  <h2><p>Ramificación y poda: Problema del ensamblaje</p></h2>\n",
    "  \n",
    "  <div class=\"row\">\n",
    "  <div>\n",
    "  <p style=\"text-align: justify; padding-right: 30px\">\n",
    "  Implementa mediante ramificación y poda una solución al problema del ensamblaje con tal de encontrar el listado ordenado de piezas cuyo coste total de ensamblaje sea mínimo.\n",
    "  </p>\n",
    "  </div>\n",
    "    </div></div>\n"
   ]
  },
  {
   "cell_type": "markdown",
   "metadata": {},
   "source": [
    "<div class=\"alert alert-danger\" style=\"width:80%; margin:0 auto; padding\">\n",
    "<center><p><h3> Código </h3></p> </center> \n",
    "\n",
    "<p>\n",
    "<h3>INPUT</h3>\n",
    "<ul>\n",
    "<li>C: Matriz de costes de tamaño $M\\times M$, donde M es el número de piezas. El elemento $i,j$ de la matriz representa el coste de ensamblaje para la pieza $i$ tras haber colocado $j$ piezas. \n",
    "</li>\n",
    "</ul>\n",
    "<br>\n",
    "<h3>OUTPUT</h3>\n",
    "Lista de números de $1$ a $M$ ordenados de forma que el coste total de ensamblaje sea mínimo. Ej: [5, 3, 2, 4, 1]\n",
    "</p>\n",
    "\n",
    "</div>"
   ]
  },
  {
   "cell_type": "code",
   "execution_count": 30,
   "metadata": {
    "collapsed": true
   },
   "outputs": [],
   "source": [
    "import heapq\n",
    "import numpy as np\n",
    "#init\n",
    "def branch_bound(C,M):\n",
    "    \"\"\"\n",
    "    Función que obtiene el orden óptimo de las piezas tal que el coste total es mínimo.\n",
    "    Args:\n",
    "        - C: matriz de costes M x M\n",
    "    \"\"\"\n",
    "    #matriz donde podremos seleccionar correctamente los items\n",
    "    matriz=np.empty(shape=(M,M),dtype=bool)\n",
    "    matriz.fill(True)\n",
    "\n",
    "    cota_sup=cota_superior(C)\n",
    "    heap=[ ] #cua de prioritats\n",
    "    coste_acumulado=0 #el coste que acumulamos en cada ramificacion y tenemos el coste de la rama actual\n",
    "    items= [float('inf')]*M #conjunt d'items resultant\n",
    "    millor_solucio=[] \n",
    "    v=[]\n",
    "    elem=0\n",
    "    ctr=0\n",
    "    #inicialitzem la cua\n",
    "    for i in range(M):\n",
    "        cost=get_cost(C,M,elem,i,v.copy())#minimo fila + coste objeto\n",
    "        coste_acumulado=C[elem][i] #coste de la rama, se acumulará posteriormente\n",
    "        it_private=items.copy()\n",
    "        it_private[i]=elem\n",
    "        matriz_n=matriz.copy()\n",
    "        matriz_n=fill_matrix(M,i,elem,matriz_n)\n",
    "        ctr+=1\n",
    "        heap.append((cost,coste_acumulado,elem,it_private,i,ctr,matriz_n))\n",
    "        coste_acumulado=0\n",
    "        \n",
    "    heapq.heapify(heap)\n",
    "    \n",
    "    while heap:\n",
    "        actual, acc, elemento, its, col,_ctr,mat = heapq.heappop(heap)\n",
    "        if actual>cota_sup:\n",
    "            continue\n",
    "        else:\n",
    "            _=elemento+1\n",
    "            if float('inf') not in its and actual<cota_sup: # si hay alguna mejor\n",
    "                millor_solucio=its\n",
    "                cota_sup=acc\n",
    "            else:\n",
    "                for q in range(M):\n",
    "                    if mat[_][q]:\n",
    "                        _acc=C[_][q]+acc\n",
    "                        _actual=get_cost(C,M,_,q,v.copy())+_acc\n",
    "                        _its=its.copy()\n",
    "                        _its[q]=_\n",
    "                        _mat=mat.copy()\n",
    "                        _mat=fill_matrix(M,q,_,_mat)\n",
    "                        ctr+=1\n",
    "                        heapq.heappush(heap,(_actual,_acc,_,_its,ctr,q,_mat))\n",
    "    return millor_solucio,cota_sup\n",
    "                    \n",
    "\n",
    "\n",
    "def get_cost(C,M,obj,col,visited):\n",
    "    cost=C[obj][col] \n",
    "    j_temporal=0\n",
    "    for i in range(obj+1,len(C)):\n",
    "        less=float('inf')\n",
    "        for j in range(len(C)):\n",
    "            if j not in visited:\n",
    "                if C[i][j]<less and j!=col:\n",
    "                    less=C[i][j]\n",
    "                    j_temporal=j\n",
    "        visited.append(j_temporal)\n",
    "        cost+=less\n",
    "    return cost                \n",
    "              \n",
    "            \n",
    "def fill_matrix(M,t,elem,matrix):\n",
    "    for i in range(M):\n",
    "        matrix[elem][i]=False\n",
    "        matrix[i][t]=False\n",
    "        \n",
    "    return matrix\n",
    "\n",
    "#Cogemos el menor de cada fila\n",
    "def cota_inferior(C):\n",
    "    inferior=0\n",
    "    for i in C.keys():\n",
    "        less=min(C[i].values())\n",
    "        inferior+=less\n",
    "    return inferior\n",
    "#Cogemos los valores de la diagonal\n",
    "def cota_superior(C):\n",
    "    superior=0\n",
    "    for i in C.keys():\n",
    "        diag=C[i][i]\n",
    "        superior+=diag\n",
    "    return superior"
   ]
  },
  {
   "cell_type": "code",
   "execution_count": 31,
   "metadata": {},
   "outputs": [
    {
     "name": "stdout",
     "output_type": "stream",
     "text": [
      "0 {0: 13, 1: 25, 2: 14, 3: 2, 4: 9, 5: 17, 6: 16, 7: 13, 8: 10, 9: 16}\n",
      "1 {0: 12, 1: 19, 2: 7, 3: 17, 4: 5, 5: 10, 6: 5, 7: 25, 8: 4, 9: 20}\n",
      "2 {0: 9, 1: 18, 2: 23, 3: 20, 4: 5, 5: 10, 6: 4, 7: 24, 8: 3, 9: 22}\n",
      "3 {0: 11, 1: 16, 2: 18, 3: 4, 4: 12, 5: 14, 6: 11, 7: 20, 8: 21, 9: 7}\n",
      "4 {0: 18, 1: 16, 2: 15, 3: 17, 4: 9, 5: 2, 6: 18, 7: 1, 8: 3, 9: 24}\n",
      "5 {0: 13, 1: 23, 2: 22, 3: 21, 4: 1, 5: 20, 6: 16, 7: 11, 8: 8, 9: 24}\n",
      "6 {0: 11, 1: 23, 2: 3, 3: 7, 4: 19, 5: 8, 6: 8, 7: 5, 8: 18, 9: 15}\n",
      "7 {0: 3, 1: 3, 2: 11, 3: 17, 4: 16, 5: 4, 6: 10, 7: 18, 8: 10, 9: 23}\n",
      "8 {0: 4, 1: 18, 2: 11, 3: 18, 4: 7, 5: 20, 6: 18, 7: 19, 8: 10, 9: 15}\n",
      "9 {0: 3, 1: 20, 2: 13, 3: 11, 4: 19, 5: 8, 6: 10, 7: 6, 8: 7, 9: 6}\n",
      "([8, 7, 6, 0, 5, 4, 1, 9, 2, 3], 36)\n"
     ]
    }
   ],
   "source": [
    "import random\n",
    "from random import randint\n",
    "random.seed(0)\n",
    "M = 10 # Número de piezas\n",
    "# Matriz de costes generada aleatoriamente\n",
    "C = {}\n",
    "for i in range(M):\n",
    "    C[i] = {}\n",
    "    for j in range(M):\n",
    "        C[i][j] = randint(1, 25)\n",
    "        \n",
    "    print(i,C[i])\n",
    "#print(C)\n",
    "\n",
    "\n",
    "\n",
    "\n",
    "solucion = branch_bound(C ,10)\n",
    "print(solucion)\n"
   ]
  },
  {
   "cell_type": "markdown",
   "metadata": {},
   "source": [
    "<div class=\"alert alert-danger\" style=\"width:80%; margin:0 auto; padding\">\n",
    "<center><p><h3> Comentarios </h3></p> </center> \n",
    "\n",
    "</div>"
   ]
  },
  {
   "cell_type": "markdown",
   "metadata": {},
   "source": [
    "### En esta sección debéis responder a las preguntas siguientes:\n",
    "#### 1. Explica cómo has realizado tu implementación, enfatizando en la heurística empleada.\n",
    "#### 2. Análisis de complejidad de la implementación"
   ]
  },
  {
   "cell_type": "markdown",
   "metadata": {},
   "source": [
    "<div class=\"alert alert-info\">\n",
    "<center>\n",
    "  <h1>Entrega</h1>\n",
    "</center>\n",
    "\n",
    "<p>\n",
    "La entrega tiene que consistir en un solo fichero **.ipynb** con el nombre: *Apellido1_Apellido2*_*Nombre*_ASS3.ipyn\n",
    "</p>\n",
    "</div>"
   ]
  },
  {
   "cell_type": "code",
   "execution_count": null,
   "metadata": {
    "collapsed": true
   },
   "outputs": [],
   "source": []
  },
  {
   "cell_type": "code",
   "execution_count": null,
   "metadata": {
    "collapsed": true
   },
   "outputs": [],
   "source": []
  }
 ],
 "metadata": {
  "kernelspec": {
   "display_name": "Python 3",
   "language": "python",
   "name": "python3"
  },
  "language_info": {
   "codemirror_mode": {
    "name": "ipython",
    "version": 3
   },
   "file_extension": ".py",
   "mimetype": "text/x-python",
   "name": "python",
   "nbconvert_exporter": "python",
   "pygments_lexer": "ipython3",
   "version": "3.6.1"
  }
 },
 "nbformat": 4,
 "nbformat_minor": 1
}
