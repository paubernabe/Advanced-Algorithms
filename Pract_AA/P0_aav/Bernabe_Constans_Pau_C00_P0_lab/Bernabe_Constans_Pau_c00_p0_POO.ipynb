{
 "cells": [
  {
   "cell_type": "markdown",
   "metadata": {},
   "source": [
    "<div style=\"padding:30px; color: white; background-color: #0071CD\">\n",
    "<center>\n",
    "<img src=\"img/logoub.jpeg\"></img>\n",
    "<center>\n",
    "<p>\n",
    "<h1>Algorísmica Avançada</h1>\n",
    "<h2>Pràctica 0.1 - Object Oriented Programming in Pyhthon</h2>\n",
    "</center>\n",
    "</p>\n",
    "</div>"
   ]
  },
  {
   "cell_type": "markdown",
   "metadata": {},
   "source": [
    "<div class=\"alert alert-danger\" style=\"margin:0 auto;\">\n",
    "<center><p><h3> DISCLAIMER: PYTHON IS NOT JAVA! </h3></p></center> \n",
    "\n",
    "Es importante recordar varias cosas antes de empezar a hacer Object Oriented Programming con Python:\n",
    "<ul>\n",
    "<li>__Underscore notation__: En Python se utiliza *underscore notation* para definir variables y métodos y *CamelCase notation* para las clases; es decir \n",
    "<ul><li>*MyClass*</li><li>*my_method*</li><li>*my_var* </li></li></ul></li>\n",
    "<li>__Scope__: En Python todas las variables son públicas, no existe el concepto *protected* y *private*. En las buenas prácticas se recomienda que las variables que se suponen privadas lleven un \\_ previo al nombre de la variable, es decir: \n",
    "<ul>\n",
    "<li>\\_private\\_var</li>\n",
    "<li>public\\_var</li>\n",
    "</ul>\n",
    "Análogamente, en los métodos privados se recomienda que el método empieze y acabe con \\_ \n",
    "<ul>\n",
    "<li>\\_my\\_private\\_method\\_()</li>\n",
    "<li><italic>my\\_public\\_method()</italic></li></ul>\n",
    "</div>\n",
    "\n"
   ]
  },
  {
   "cell_type": "markdown",
   "metadata": {},
   "source": [
    "## Recordando conceptos básicos... (Python 3.6)\n",
    "Las tres estructuras básicas de Python son __listas__, __tuplas__ y __diccionarios__. Admiten ser rellenadas con cualquier tipo de dato.\n"
   ]
  },
  {
   "cell_type": "code",
   "execution_count": null,
   "metadata": {
    "collapsed": true
   },
   "outputs": [],
   "source": [
    "mylist = [1, 2, \"watermelon\", [\"whatever\"]]\n",
    "mytuple = (1, 2, 3, \"watermelon\", [\"whatever\"])\n",
    "mydict = {\"key1\": 1, \"key2\": [1,2,3]}"
   ]
  },
  {
   "cell_type": "markdown",
   "metadata": {},
   "source": [
    "Los accesos a tuplas y listas pueden ser por índice o usando slice"
   ]
  },
  {
   "cell_type": "code",
   "execution_count": null,
   "metadata": {
    "collapsed": true
   },
   "outputs": [],
   "source": [
    "mylist[2]\n",
    "print(mylist[0:2])\n",
    "print(mylist[:-1])"
   ]
  },
  {
   "cell_type": "markdown",
   "metadata": {},
   "source": [
    "Y hay que recordar que las tuplas no son mutables!"
   ]
  },
  {
   "cell_type": "code",
   "execution_count": null,
   "metadata": {
    "collapsed": true
   },
   "outputs": [],
   "source": [
    "mytuple[2] = 3"
   ]
  },
  {
   "cell_type": "markdown",
   "metadata": {},
   "source": [
    "Mientras que las listas y los diccionarios sí que lo son."
   ]
  },
  {
   "cell_type": "code",
   "execution_count": null,
   "metadata": {
    "collapsed": true
   },
   "outputs": [],
   "source": [
    "mylist[2] = \"abc\"\n",
    "mydict[\"key3\"] = \"cba\"\n",
    "print(mylist)\n",
    "print(mydict)"
   ]
  },
  {
   "cell_type": "markdown",
   "metadata": {},
   "source": [
    "También hay que recordar que los objetos se relacionan por referencia"
   ]
  },
  {
   "cell_type": "code",
   "execution_count": null,
   "metadata": {
    "collapsed": true
   },
   "outputs": [],
   "source": [
    "a = [1,2,3,4]\n",
    "mydict = {\"key1\": a, \"key2\": a}\n",
    "print(mydict)\n",
    "a.append(5)\n",
    "print(mydict)"
   ]
  },
  {
   "cell_type": "markdown",
   "metadata": {},
   "source": [
    "Por último recordar una de las características más fuertes de Python, lo que se denomina list comprehension y nos permite generar listas dinámicamente y en una sola línea de código"
   ]
  },
  {
   "cell_type": "code",
   "execution_count": null,
   "metadata": {
    "collapsed": true
   },
   "outputs": [],
   "source": [
    "alist = [x for x in range(10)]\n",
    "print(alist)\n",
    "blist = [x for x in alist if x > 4]\n",
    "print(blist)\n",
    "adict = {x: [] for x in blist}\n",
    "print(adict)\n",
    "bdict = {x: [y for y in range (x, 10)] for x in blist}\n",
    "print(bdict)"
   ]
  },
  {
   "cell_type": "markdown",
   "metadata": {},
   "source": [
    "<div class=\"alert alert-danger\">\n",
    "<h1>Problema 1</h1>\n",
    "<p><strong>\n",
    "Implementa una función, utilizando list comprehension, que dada una variable $limit$ y una variable $mult$ te devuelva  todos los multiplos de $mult$ en el rango $limit$.\n",
    "<br><br>\n",
    "<i>myfunc(10, 2) -> [2,4,6,8,10]</i>\n",
    "</strong></p>\n",
    "</div>"
   ]
  },
  {
   "cell_type": "code",
   "execution_count": 35,
   "metadata": {},
   "outputs": [
    {
     "name": "stdout",
     "output_type": "stream",
     "text": [
      "[0, 2, 4, 6, 8, 10]\n"
     ]
    }
   ],
   "source": [
    "def myfunc1(limit, mult):\n",
    "    lista=[mult*i for i in range(limit) if mult*i<=limit]\n",
    "    print(lista)\n",
    "\n",
    "myfunc1(10,2)\n",
    "    "
   ]
  },
  {
   "cell_type": "markdown",
   "metadata": {},
   "source": [
    "<div class=\"alert alert-danger\">\n",
    "<h1>Problema 2</h1>\n",
    "<p><strong>\n",
    "Implementa una función, utilizando list comprehension, que dada una variable $limit$, una variable $mult$ y una variable $exc$ te devuelva  todos los multiplos de $mult$ en el rango $limit$ excepto los que sean también múltiplos de $exc$.\n",
    "<br><br>\n",
    "\n",
    "<i>myfunc(10, 2, 4) -> [2,6,10]</i>\n",
    "</strong></p>\n",
    "</div>"
   ]
  },
  {
   "cell_type": "code",
   "execution_count": 37,
   "metadata": {},
   "outputs": [
    {
     "name": "stdout",
     "output_type": "stream",
     "text": [
      "[2, 6, 10]\n"
     ]
    }
   ],
   "source": [
    "def myfunc2(limit, mult, exc):\n",
    "    \n",
    "    lista=[mult*i for i in range(limit) if mult*i<=limit and mult*i%exc!=0]\n",
    "    print(lista)\n",
    "\n",
    "myfunc2(10,2,4)\n",
    "\n"
   ]
  },
  {
   "cell_type": "markdown",
   "metadata": {},
   "source": [
    "# Object Oriented Programming"
   ]
  },
  {
   "cell_type": "markdown",
   "metadata": {},
   "source": [
    "Primero veamos como se crea una clase en Python. En el siguiente ejemplo vemos un objeto simple con el constructor `__init__` y un método `__str__` que tiene el mismo comportamiento que el `toString()` de Java.\n",
    "\n",
    "Es importante ver cómo siempre que referenciamos un atributo nos referimos a él precedido por `self`. Esto determina que la variable se declara y trabaja a nivel de clase."
   ]
  },
  {
   "cell_type": "code",
   "execution_count": 40,
   "metadata": {},
   "outputs": [
    {
     "name": "stdout",
     "output_type": "stream",
     "text": [
      "Hola John tengo 5\n"
     ]
    }
   ],
   "source": [
    "\"\"\"\n",
    "Esta clase guarda un nombre propio \n",
    "\"\"\"\n",
    "class Klass:\n",
    "    # Constructor\n",
    "    def __init__(self, name,edad):\n",
    "        self.name = name\n",
    "        self.edad=edad\n",
    "   \n",
    "    # toString\n",
    "    def __str__(self):\n",
    "        return \"Hola \" + self.name + \" tengo \" +str(self.edad)\n",
    "        \n",
    "klass = Klass(\"John\",5)\n",
    "print(klass)"
   ]
  },
  {
   "cell_type": "markdown",
   "metadata": {},
   "source": [
    "Una particularidad de los objetos en Python es que podemos definir un método que se comporte como un atributo utilizando el decorador `@property`. Esto es muy útil ya que nos permite crear máscaras para los valores internos y nos permite que la representación.\n",
    "\n",
    "Es una buena práctica utilizar este método para dar visibilidad a los atributos desde el exterior, en lugar de poner a la vista la representación interna. Mediante este método podemos controlar los accesos que se hacen al objeto."
   ]
  },
  {
   "cell_type": "code",
   "execution_count": 2,
   "metadata": {},
   "outputs": [
    {
     "data": {
      "text/plain": [
       "'aa'"
      ]
     },
     "execution_count": 2,
     "metadata": {},
     "output_type": "execute_result"
    }
   ],
   "source": [
    "class Klass:\n",
    "    def __init__(self):\n",
    "        self._value = {1:\"aa\", 21:\"bb\", 31:\"cc\"}\n",
    "        \n",
    "    @property\n",
    "    def val(self):\n",
    "        return self._value\n",
    "    \n",
    "kls = Klass()\n",
    "kls.val[1]"
   ]
  },
  {
   "cell_type": "markdown",
   "metadata": {},
   "source": [
    "De esta forma, Python nos ofrece una forma de crear correctamente los Setters y Getters de una propiedad del objeto."
   ]
  },
  {
   "cell_type": "code",
   "execution_count": null,
   "metadata": {
    "collapsed": true
   },
   "outputs": [],
   "source": [
    "class PositiveValues:\n",
    "    def __init__(self):\n",
    "        self._value = 0\n",
    "        \n",
    "    @property\n",
    "    def value(self):\n",
    "        return self._value\n",
    "            \n",
    "    @value.setter\n",
    "    def value(self, value):\n",
    "        if value > 0:\n",
    "            self._value = value\n",
    "        \n",
    "pv = PositiveValues()\n",
    "print(pv.value)\n",
    "pv.value = 8\n",
    "print(pv.value)\n",
    "pv.value = -3\n",
    "print(pv.value)"
   ]
  },
  {
   "cell_type": "markdown",
   "metadata": {},
   "source": [
    "Esto también nos permite crear propiedades ad-hoc sin tener que mantenerlas en memoria o irlas actualizando cada vez que realizamos cambios en el objeto. Supongamos que tenemos una pizzeria y que tenemos una carta de pizzas, normalmente querremos ver la pizza por el nombre, pero, qué pasa si queremos saber que pizzas son las que tienen un ingrediente en concreto?"
   ]
  },
  {
   "cell_type": "code",
   "execution_count": 41,
   "metadata": {
    "scrolled": true
   },
   "outputs": [
    {
     "name": "stdout",
     "output_type": "stream",
     "text": [
      "[<__main__.Repartidor object at 0x7fe7d1297128>, <__main__.Repartidor object at 0x7fe7d12970b8>, <__main__.Repartidor object at 0x7fe7d1297198>]\n",
      "['Margarita', 'Pepperoni', 'Ojo de Buey']\n",
      "['Ojo de Buey']\n",
      "['Tomate', 'Ternera', 'Huevo Frito', 'Mozzarella']\n"
     ]
    }
   ],
   "source": [
    "\n",
    "\n",
    "class Pizzeria:\n",
    "    def __init__(self,repartidores):\n",
    "        pizza_card_factory = dict\n",
    "        self._pizza_card = pizza_card_factory()\n",
    "        self.repartidores=repartidores\n",
    "        \n",
    "        @property\n",
    "        def addrep (self):\n",
    "            lista=[]\n",
    "            for i in self.repartidores:\n",
    "                lista.append(i.nom)\n",
    "            return lista\n",
    "        \n",
    "        def addmoto(self,marca):\n",
    "            lista=[]\n",
    "            for i in self.repartidores:\n",
    "                if marca==i.marca:\n",
    "                    lista.append(i.nom)\n",
    "            return lista\n",
    "            \n",
    "\n",
    "        \n",
    "        \n",
    "        \n",
    "    @property\n",
    "    def pizza(self):\n",
    "        return self._pizza_card\n",
    "    \n",
    "    @property\n",
    "    def ingredient(self):\n",
    "        ingredients = {}\n",
    "        for pizza, value in self._pizza_card.items():\n",
    "            for ingredient in value:\n",
    "                if not ingredient in ingredients.keys():\n",
    "                    ingredients[ingredient] = [pizza]\n",
    "                else:\n",
    "                    ingredients[ingredient].append(pizza)\n",
    "        return ingredients\n",
    "    \n",
    "    def add_pizza(self, pizza, ingredients):\n",
    "        self._pizza_card[pizza] = ingredients\n",
    "        \n",
    "        \n",
    "pablo=Repartidor(\"Pau\",\"honda\")\n",
    "manel=Repartidor(\"manel\",\"kawasaki\")\n",
    "nur=Repartidor(\"Nuria\",\"yamaha\")\n",
    "\n",
    "\n",
    "pizz = Pizzeria([pablo,manel,nur])\n",
    "pizz.add_pizza(\"Margarita\", [\"Tomate\", \"Jamon York\", \"Mozzarella\"])\n",
    "pizz.add_pizza(\"Pepperoni\", [\"Tomate\", \"Pepperoni\", \"Mozzarella\"])\n",
    "pizz.add_pizza(\"Ojo de Buey\", [\"Tomate\", \"Ternera\", \"Huevo Frito\", \"Mozzarella\"])\n",
    "\n",
    "print (pizz.repartidores)\n",
    "\n",
    "\n",
    "print(pizz.ingredient[\"Tomate\"])\n",
    "print(pizz.ingredient[\"Ternera\"])\n",
    "print(pizz.pizza[\"Ojo de Buey\"])"
   ]
  },
  {
   "cell_type": "markdown",
   "metadata": {},
   "source": [
    "<div class=\"alert alert-danger\">\n",
    "<h1>Problema 3</h1>\n",
    "<p><strong>\n",
    "Implementa una clase Repartidor que tenga como atributos el nombre del repartidor y la marca de la moto que tiene. Añade a la clase pizzeria un atributo $repartidor$ que devuelva una lista de los nombres de los repartidores y un atributo que sea $moto$ que devuelva el nombre de los repartidores con una marca en concreto de moto.\n",
    "</strong></p>\n",
    "</div>\n"
   ]
  },
  {
   "cell_type": "code",
   "execution_count": 33,
   "metadata": {},
   "outputs": [],
   "source": [
    "class Repartidor:\n",
    "    #constructor\n",
    "    def __init__(self,nom,marca):\n",
    "        self.nom=nom\n",
    "        self.marca=marca\n",
    "        \n",
    "    def __str__(self):\n",
    "        return str(self.nom) + \" \"+ str(self.marca)\n",
    "    \n",
    "    \n",
    "   "
   ]
  },
  {
   "cell_type": "markdown",
   "metadata": {},
   "source": [
    "Ahora veamos en profundidad que métodos podemos sobreescribir dentro del datamodel de Python y que nos resultarán de utilidad para hacer que nuestras clases se comporten como nosotros queremos.\n",
    "\n",
    "El primer método es **\\__getitem\\__**. Éste método emula el comportamiento de clase de una lista:"
   ]
  },
  {
   "cell_type": "code",
   "execution_count": 1,
   "metadata": {},
   "outputs": [
    {
     "name": "stdout",
     "output_type": "stream",
     "text": [
      "4\n"
     ]
    }
   ],
   "source": [
    "\"\"\"\n",
    "Mi clase lista\n",
    "\"\"\"\n",
    "class MyList:\n",
    "    def __init__(self):\n",
    "        self._list = []\n",
    "        \n",
    "    def set_list(self, _list):\n",
    "        self._list = _list\n",
    "        \n",
    "    def __getitem__(self, k):\n",
    "        return self._list[k]\n",
    "\n",
    "mylist = MyList()\n",
    "mylist.set_list([1,2,3,4])\n",
    "\"\"\"\n",
    "Podemos acceder al indice al que se llama\n",
    "\"\"\"\n",
    "print(mylist[3])\n"
   ]
  },
  {
   "cell_type": "code",
   "execution_count": null,
   "metadata": {
    "collapsed": true
   },
   "outputs": [],
   "source": [
    "\"\"\"\n",
    "Mi clase diccionario\n",
    "\"\"\"\n",
    "class MyDict:\n",
    "    def __init__(self):\n",
    "        self._dict = dict()\n",
    "        \n",
    "    def set_dict(self, _dict):\n",
    "        self._dict = _dict\n",
    "        \n",
    "    def __getitem__(self, k):\n",
    "        return self._dict[k]\n",
    "    \n",
    "mydict = MyDict()\n",
    "mydict.set_dict({\n",
    "        \"a\": [1,2,3],\n",
    "        \"b\": [4,5,6],\n",
    "        \"c\": [7,8,9]\n",
    "    })\n",
    "\n",
    "print(mydict[\"a\"])"
   ]
  },
  {
   "cell_type": "code",
   "execution_count": null,
   "metadata": {
    "collapsed": true
   },
   "outputs": [],
   "source": [
    "\"\"\"\n",
    "Mi clase diccionario\n",
    "\"\"\"\n",
    "class MyDict:\n",
    "    def __init__(self):\n",
    "        self._dict = {}\n",
    "        \n",
    "    def set_dict(self, _list):\n",
    "        self._list = _dict\n",
    "        \n",
    "    def __getitem__(self, key):\n",
    "        return self._dict[key]\n",
    "    \n",
    "    def __setitem__(self, key, value):\n",
    "        self._dict[key] = value\n",
    "    \n",
    "    def __delitem__(self, key):\n",
    "        del self._dict[key]\n",
    "    \n",
    "    def __str__(self):\n",
    "        return str(self._dict)\n",
    "\n",
    "    \n",
    "mydict = MyDict()\n",
    "print(\"1. Mostramos el valor inicial del diccionario\")\n",
    "print(mydict)\n",
    "\n",
    "print(\"2. Añadimos un valor\")\n",
    "mydict[\"test\"] = \"This is a test\"\n",
    "print(mydict)\n",
    "print(mydict[\"test\"])\n",
    "\n",
    "print(\"3. Eliminamos el valor añadido\")\n",
    "del mydict[\"test\"]\n",
    "print(mydict)"
   ]
  },
  {
   "cell_type": "markdown",
   "metadata": {},
   "source": [
    "Más información sobre el modelo de datos de Python\n",
    "\n",
    "https://docs.python.org/3/reference/datamodel.html"
   ]
  },
  {
   "cell_type": "markdown",
   "metadata": {},
   "source": [
    "# Class Inheritance"
   ]
  },
  {
   "cell_type": "markdown",
   "metadata": {},
   "source": [
    "Como cualquier lenguaje de programación que se precie, Python soporta la heréncia de clases y la multiherencia. No profundizaremos en este tema, sólo se incluye por completitud."
   ]
  },
  {
   "cell_type": "code",
   "execution_count": null,
   "metadata": {
    "collapsed": true
   },
   "outputs": [],
   "source": [
    "class Person:\n",
    "    @property\n",
    "    def name(self):\n",
    "        return self._name\n",
    "    \n",
    "    @property\n",
    "    def surname(self):\n",
    "        return self._surname\n",
    "\n",
    "    @property\n",
    "    def full_name(self):\n",
    "        return self._name + \" \" + self._surname\n",
    "        \n",
    "        \n",
    "class Employee(Person):\n",
    "    def __init__(self, uid, name, surname):\n",
    "        self._name = name\n",
    "        self._surname = surname\n",
    "        self._uid = uid\n",
    "        \n",
    "    @property\n",
    "    def uid(self):\n",
    "        return self._uid\n",
    "    \n",
    "    @uid.setter\n",
    "    def uid(self, val):\n",
    "        print(\"HOla\")\n",
    "        self._uid = val\n",
    "        \n",
    "a = Employee(1123456, \"John\", \"Doe\")\n",
    "print(a.full_name)\n",
    "print(a.uid)"
   ]
  },
  {
   "cell_type": "markdown",
   "metadata": {},
   "source": [
    "También admite sobreescritura de métodos en las subclases"
   ]
  },
  {
   "cell_type": "code",
   "execution_count": null,
   "metadata": {
    "collapsed": true
   },
   "outputs": [],
   "source": [
    "class SuperClass:\n",
    "    def my_substraction_method(self, a, b):\n",
    "        return a-b\n",
    "        \n",
    "    def my_addition_method(self, a, b):\n",
    "        return a+b\n",
    "    \n",
    "class SubClass(SuperClass):\n",
    "    def my_addition_method(self, a, b):\n",
    "        return (a+b)/100.\n",
    "    \n",
    "    \n",
    "parent = SuperClass()\n",
    "print(parent.my_substraction_method(10, 2))\n",
    "print(parent.my_addition_method(10, 2))\n",
    "\n",
    "child = SubClass()\n",
    "print(child.my_substraction_method(10, 2))\n",
    "print(child.my_addition_method(10, 2))\n"
   ]
  },
  {
   "cell_type": "markdown",
   "metadata": {},
   "source": [
    "Y por supuesto, multiheréncia."
   ]
  },
  {
   "cell_type": "code",
   "execution_count": null,
   "metadata": {
    "collapsed": true
   },
   "outputs": [],
   "source": [
    "class First:\n",
    "    def add(self, a, b):\n",
    "        return a+b\n",
    "        \n",
    "class Second:\n",
    "    def substract(self, a, b):\n",
    "        return a - b\n",
    "\n",
    "class Third(First, Second):\n",
    "    pass\n",
    "        \n",
    "print(Third().add(1,2))\n",
    "print(Third().substract(1,2))"
   ]
  },
  {
   "cell_type": "markdown",
   "metadata": {},
   "source": [
    "Por último, una pequeña aclaración sobre el orden de resolución de métodos. Cuando dos superclases disponen del mismo método, cual se ejecuta?"
   ]
  },
  {
   "cell_type": "code",
   "execution_count": null,
   "metadata": {
    "collapsed": true
   },
   "outputs": [],
   "source": [
    "class First:\n",
    "    def add(self, a, b):\n",
    "        return a+b\n",
    "        \n",
    "class Second:\n",
    "    def add(self, a, b):\n",
    "        return a - b\n",
    "\n",
    "class Third(First, Second):\n",
    "    pass\n",
    "        \n",
    "print(Third().add(1,2))"
   ]
  },
  {
   "cell_type": "markdown",
   "metadata": {},
   "source": [
    "En el caso anterior es trivial, pero se pueden dar situaciones en las que no es tan obvio que forma de resolver los métodos se utiliza. En tiempo de compilación Python añade a la clase el atributo **\\_\\_mro\\_\\_** (Method Resolution Order) que nos indica en que orden se irán a buscar los métodos."
   ]
  },
  {
   "cell_type": "code",
   "execution_count": 41,
   "metadata": {},
   "outputs": [
    {
     "ename": "NameError",
     "evalue": "name 'Third' is not defined",
     "output_type": "error",
     "traceback": [
      "\u001b[1;31m---------------------------------------------------------------------------\u001b[0m",
      "\u001b[1;31mNameError\u001b[0m                                 Traceback (most recent call last)",
      "\u001b[1;32m<ipython-input-41-3a36379f9843>\u001b[0m in \u001b[0;36m<module>\u001b[1;34m()\u001b[0m\n\u001b[1;32m----> 1\u001b[1;33m \u001b[0mThird\u001b[0m\u001b[1;33m.\u001b[0m\u001b[0m__mro__\u001b[0m\u001b[1;33m\u001b[0m\u001b[0m\n\u001b[0m",
      "\u001b[1;31mNameError\u001b[0m: name 'Third' is not defined"
     ]
    }
   ],
   "source": [
    "Third.__mro__"
   ]
  },
  {
   "cell_type": "code",
   "execution_count": null,
   "metadata": {
    "collapsed": true
   },
   "outputs": [],
   "source": []
  }
 ],
 "metadata": {
  "kernelspec": {
   "display_name": "Python 3",
   "language": "python",
   "name": "python3"
  },
  "language_info": {
   "codemirror_mode": {
    "name": "ipython",
    "version": 3
   },
   "file_extension": ".py",
   "mimetype": "text/x-python",
   "name": "python",
   "nbconvert_exporter": "python",
   "pygments_lexer": "ipython3",
   "version": "3.6.3"
  }
 },
 "nbformat": 4,
 "nbformat_minor": 1
}
