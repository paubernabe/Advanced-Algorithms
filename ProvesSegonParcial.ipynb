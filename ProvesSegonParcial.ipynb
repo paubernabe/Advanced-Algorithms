{
 "cells": [
  {
   "cell_type": "markdown",
   "metadata": {},
   "source": [
    "### N Queen Problem"
   ]
  },
  {
   "cell_type": "code",
   "execution_count": 15,
   "metadata": {
    "collapsed": true
   },
   "outputs": [],
   "source": [
    "import numpy as np\n",
    "#init\n",
    "def Queen(s):\n",
    "    tauler=np.zeros(shape=(s,s))\n",
    "    k=s\n",
    "    result=queen_rec(s,k,tauler)\n",
    "    if result:\n",
    "        return result\n",
    "    return \"Nothing really matters\"\n",
    "       \n",
    "def queen_rec(s,k,tauler):\n",
    "    if k==s:\n",
    "        return tauler\n",
    "    \n",
    "    for i in range(8):\n",
    "    \n",
    "    \n",
    "    \n",
    "\n",
    "\n",
    "def atacked(s,k,tauler):\n",
    "    \n",
    "    "
   ]
  },
  {
   "cell_type": "code",
   "execution_count": 16,
   "metadata": {},
   "outputs": [],
   "source": [
    "Queen(8)"
   ]
  },
  {
   "cell_type": "code",
   "execution_count": 17,
   "metadata": {},
   "outputs": [
    {
     "name": "stdout",
     "output_type": "stream",
     "text": [
      "[(1, 1), (2, 5), (3, 8), (4, 6), (5, 3), (6, 7), (7, 2), (8, 4)]\n"
     ]
    }
   ],
   "source": [
    "BOARD_SIZE = 8\n",
    " \n",
    "def under_attack(col, queens):\n",
    "    return col in queens or \\\n",
    "           any(abs(col - x) == len(queens)-i for i,x in enumerate(queens))\n",
    " \n",
    "def solve(n):\n",
    "    solutions = [[]]\n",
    "    for row in range(n):\n",
    "        solutions = (solution+[i+1]\n",
    "                       for solution in solutions \n",
    "                       for i in range(BOARD_SIZE)\n",
    "                       if not under_attack(i+1, solution))\n",
    "    return solutions\n",
    " \n",
    "answers = solve(BOARD_SIZE)\n",
    "first_answer = next(answers)\n",
    "print(list(enumerate(first_answer, start=1)))"
   ]
  },
  {
   "cell_type": "code",
   "execution_count": null,
   "metadata": {
    "collapsed": true
   },
   "outputs": [],
   "source": []
  }
 ],
 "metadata": {
  "kernelspec": {
   "display_name": "Python 3",
   "language": "python",
   "name": "python3"
  },
  "language_info": {
   "codemirror_mode": {
    "name": "ipython",
    "version": 3
   },
   "file_extension": ".py",
   "mimetype": "text/x-python",
   "name": "python",
   "nbconvert_exporter": "python",
   "pygments_lexer": "ipython3",
   "version": "3.6.1"
  }
 },
 "nbformat": 4,
 "nbformat_minor": 2
}
