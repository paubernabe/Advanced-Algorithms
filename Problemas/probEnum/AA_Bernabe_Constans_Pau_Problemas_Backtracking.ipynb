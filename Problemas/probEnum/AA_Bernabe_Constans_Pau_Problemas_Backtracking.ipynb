{
 "cells": [
  {
   "cell_type": "markdown",
   "metadata": {},
   "source": [
    "<div style=\"padding:30px; color: white; background-color: #0071CD\">\n",
    "<center>\n",
    "    <img src=\"img/logoub.jpeg\"></img>\n",
    "<p>\n",
    "<h1>Algorísmica Avançada</h1>\n",
    "<h2>Problemas Enumerativos A</h2>\n",
    "</center>\n",
    "</p>\n",
    "</div>"
   ]
  },
  {
   "cell_type": "markdown",
   "metadata": {},
   "source": [
    "<div class=\"alert alert-info\">\n",
    "<center>\n",
    "  <h1>Backtracking</h1>\n",
    "</center>\n",
    "</div>"
   ]
  },
  {
   "cell_type": "markdown",
   "metadata": {},
   "source": [
    "<div class=\"alert alert-success\" style=\"width:90%; margin:0 auto;\">\n",
    "<h2><p>1. Sudoku</p></h2>\n",
    "<p>\n",
    "En este ejercicio queremos diseñar un \"solucionador\" de sudokus utilizando estrategias de backtracking. Para ello se os da la clase Sudoku que hace las veces de modelo y contiene funciones útiles que os permitirán centraros en el desarrollo del algoritmo.\n",
    "</p><p>\n",
    "El problema del sudoku consiste, basicamente en rellenar un tablero con números del 1 al 9 (ambos incluidos). Para insertar los numeros de forma válida en el tablero se tienen que cumplir tres condiciones:\n",
    "</p>\n",
    "<ul>\n",
    "    <li> El número no se encuentra repetido en la misma __fila__</li>\n",
    "<li> El número no se encuentra repetido en la misma __columna__</li>\n",
    "<li> El número no se encuentra repetido en el mismo __bloque__*</li>\n",
    "</ul>\n",
    "<p>\n",
    "* _Un bloque es cada una de las sub-divisiones 3x3 del tablero._</p>\n",
    "</div>"
   ]
  },
  {
   "cell_type": "code",
   "execution_count": 1,
   "metadata": {},
   "outputs": [
    {
     "name": "stdout",
     "output_type": "stream",
     "text": [
      "1- Crear un sudoku\n",
      "+-------+-------+-------+\n",
      "| 2     |   8   | 3     |\n",
      "|   6   |   7   |   8 4 |\n",
      "|   3   | 5     | 2   9 |\n",
      "+-------+-------+-------+\n",
      "|       | 1   5 | 4   8 |\n",
      "|       |       |       |\n",
      "| 4   2 | 7   6 |       |\n",
      "+-------+-------+-------+\n",
      "| 3   1 |     7 |   4   |\n",
      "| 7 2   |   4   |   6   |\n",
      "|     4 |   1   |     3 |\n",
      "+-------+-------+-------+\n",
      "\n",
      "2- Obtén los números válidos en (0,1)\n",
      "[1 4 5 7 9]\n",
      "[]\n",
      "3 - Obtén las posiciones vacías\n",
      "[(0, 1), (0, 2), (0, 3), (0, 5), (0, 7), (0, 8), (1, 0), (1, 2), (1, 3), (1, 5), (1, 6), (2, 0), (2, 2), (2, 4), (2, 5), (2, 7), (3, 0), (3, 1), (3, 2), (3, 4), (3, 7), (4, 0), (4, 1), (4, 2), (4, 3), (4, 4), (4, 5), (4, 6), (4, 7), (4, 8), (5, 1), (5, 4), (5, 6), (5, 7), (5, 8), (6, 1), (6, 3), (6, 4), (6, 6), (6, 8), (7, 2), (7, 3), (7, 5), (7, 6), (7, 8), (8, 0), (8, 1), (8, 3), (8, 5), (8, 6), (8, 7)]\n",
      "4 - Añade un 7 a la posición (0,1)\n",
      "+-------+-------+-------+\n",
      "| 2     |   8   | 3     |\n",
      "|   6   |   7   |   8 4 |\n",
      "|   3   | 5     | 2   9 |\n",
      "+-------+-------+-------+\n",
      "|       | 1   5 | 4   8 |\n",
      "|       |       |       |\n",
      "| 4   2 | 7   6 |       |\n",
      "+-------+-------+-------+\n",
      "| 3   1 |     7 |   4   |\n",
      "| 7 2   |   4   |   6   |\n",
      "|     4 |   1   |     3 |\n",
      "+-------+-------+-------+\n",
      "\n",
      "+-------+-------+-------+\n",
      "| 2 7   |   8   | 3     |\n",
      "|   6   |   7   |   8 4 |\n",
      "|   3   | 5     | 2   9 |\n",
      "+-------+-------+-------+\n",
      "|       | 1   5 | 4   8 |\n",
      "|       |       |       |\n",
      "| 4   2 | 7   6 |       |\n",
      "+-------+-------+-------+\n",
      "| 3   1 |     7 |   4   |\n",
      "| 7 2   |   4   |   6   |\n",
      "|     4 |   1   |     3 |\n",
      "+-------+-------+-------+\n",
      "\n",
      "Invalid number!\n"
     ]
    }
   ],
   "source": [
    "from sudoku import Sudoku\n",
    "\n",
    "# Para cargar el sudoku introducimos la ruta al archivo. En la carpeta './sudokus' tenéis un buén número\n",
    "# de ejemplos con los que podéis jugar\n",
    "\n",
    "print(\"1- Crear un sudoku\")\n",
    "s2 = Sudoku('sudoku/s2')\n",
    "print(s2)\n",
    "\n",
    "# Dada una posición definida como una tupla de dos elementos (x,y) en el rango [0,8], podemos obtener los\n",
    "# elementos validos para una posición vacía\n",
    "\n",
    "print(\"2- Obtén los números válidos en (0,1)\")\n",
    "print(s2.get_valid((0,1)))\n",
    "\n",
    "# En caso que se trate de una posición que ya contiene un número devolverá una lista vacía\n",
    "print(s2.get_valid((0,0)))\n",
    "\n",
    "# También podemos obtener la lista de todos los elementos vacios\n",
    "print(\"3 - Obtén las posiciones vacías\")\n",
    "print(s2.get_empty())\n",
    "\n",
    "# Finalmente, nos permite insertar un numero en una posición dada.\n",
    "print(\"4 - Añade un 7 a la posición (0,1)\")\n",
    "s3 = s2.set_number((0,1),7)\n",
    "print(s2)\n",
    "print(s3)\n",
    "\n",
    "# En caso de que no se pueda insertar el numero en esa posición nos devolverá un mensaje de error:\n",
    "s2.set_number((0,1),2)"
   ]
  },
  {
   "cell_type": "markdown",
   "metadata": {},
   "source": [
    "Implementa un algoritmo que utilice backtracking y que solucione el juego del Sudoku:"
   ]
  },
  {
   "cell_type": "code",
   "execution_count": 2,
   "metadata": {
    "collapsed": true
   },
   "outputs": [],
   "source": [
    "\n",
    "\n",
    "def sudoku_solver(s):\n",
    "    \"\"\"\n",
    "    Función que resuelve el sudoku mediante backtracking. El retorno es el mismo objeto Sudoku solucionado.\n",
    "    \"\"\"\n",
    "    if  len(s.get_empty())==0:\n",
    "        return s\n",
    "    \n",
    "        \n",
    "    for i,y in s.get_empty():\n",
    "        for j in s.get_valid((i,y)):\n",
    "            \n",
    "            solucio_parcial=sudoku_solver(s.set_number((i,y),j))\n",
    "                    \n",
    "            if solucio_parcial:\n",
    "                return solucio_parcial\n",
    "        return False\n",
    "\n",
    "\n",
    "            \n",
    "\n",
    "    "
   ]
  },
  {
   "cell_type": "code",
   "execution_count": 3,
   "metadata": {},
   "outputs": [
    {
     "name": "stdout",
     "output_type": "stream",
     "text": [
      "2.5625\n",
      "+-------+-------+-------+\n",
      "| 4 6 2 | 8 3 1 | 9 5 7 |\n",
      "| 7 9 5 | 4 2 6 | 1 8 3 |\n",
      "| 3 8 1 | 7 9 5 | 4 2 6 |\n",
      "+-------+-------+-------+\n",
      "| 1 7 3 | 9 8 4 | 2 6 5 |\n",
      "| 6 5 9 | 3 1 2 | 7 4 8 |\n",
      "| 2 4 8 | 5 6 7 | 3 1 9 |\n",
      "+-------+-------+-------+\n",
      "| 9 2 6 | 1 7 8 | 5 3 4 |\n",
      "| 8 3 4 | 2 5 9 | 6 7 1 |\n",
      "| 5 1 7 | 6 4 3 | 8 9 2 |\n",
      "+-------+-------+-------+\n",
      "\n"
     ]
    }
   ],
   "source": [
    "sudoku = Sudoku('sudoku/s3')\n",
    "import time\n",
    "t = time.process_time()\n",
    "sol = sudoku_solver(sudoku)\n",
    "elapsed_time = time.process_time() - t\n",
    "print(elapsed_time)\n",
    "print(sol)"
   ]
  },
  {
   "cell_type": "markdown",
   "metadata": {},
   "source": [
    "Si tu implementación realiza una búsqueda exhaustiva, ¿podría realizarse alguna optimización al algoritmo que logre encontrar la solución en menos tiempo? En caso afirmativo, impleméntala. En caso negativo, explica por qué crees que no se puede mejorar."
   ]
  },
  {
   "cell_type": "code",
   "execution_count": 4,
   "metadata": {
    "collapsed": true
   },
   "outputs": [],
   "source": [
    "def sudoku_solver_opt(s):\n",
    "    \"\"\"\n",
    "    Función que resuelve el sudoku mediante backtracking. El retorno es el mismo objeto Sudoku solucionado.\n",
    "    \"\"\"\n",
    "    \n",
    "    if  len(s.get_empty())==0:\n",
    "        return s\n",
    "    \n",
    "    \n",
    "    \n",
    "    tmp=best_square(s)\n",
    "    for y in s.get_valid((tmp[0],tmp[1])):\n",
    "\n",
    "        solucio_parcial=sudoku_solver_opt(s.set_number((tmp[0],tmp[1]),y))\n",
    "                    \n",
    "        if solucio_parcial:\n",
    "            return solucio_parcial\n",
    "    return False\n",
    "\n",
    "        \n",
    "\n",
    "def best_square(s):\n",
    "    menor_long=1000\n",
    "    index_i=0\n",
    "    index_j=0\n",
    "    for i,j in s.get_empty():\n",
    "        menor=len((s.get_valid((i,j))))\n",
    "        if menor<menor_long:\n",
    "            menor_long=menor\n",
    "            index_i=i\n",
    "            index_j=j\n",
    "    return [index_i,index_j]"
   ]
  },
  {
   "cell_type": "code",
   "execution_count": 5,
   "metadata": {},
   "outputs": [
    {
     "name": "stdout",
     "output_type": "stream",
     "text": [
      "0.171875\n",
      "+-------+-------+-------+\n",
      "| 4 6 2 | 8 3 1 | 9 5 7 |\n",
      "| 7 9 5 | 4 2 6 | 1 8 3 |\n",
      "| 3 8 1 | 7 9 5 | 4 2 6 |\n",
      "+-------+-------+-------+\n",
      "| 1 7 3 | 9 8 4 | 2 6 5 |\n",
      "| 6 5 9 | 3 1 2 | 7 4 8 |\n",
      "| 2 4 8 | 5 6 7 | 3 1 9 |\n",
      "+-------+-------+-------+\n",
      "| 9 2 6 | 1 7 8 | 5 3 4 |\n",
      "| 8 3 4 | 2 5 9 | 6 7 1 |\n",
      "| 5 1 7 | 6 4 3 | 8 9 2 |\n",
      "+-------+-------+-------+\n",
      "\n"
     ]
    }
   ],
   "source": [
    "sudoku = Sudoku('sudoku/s3')\n",
    "import time\n",
    "t = time.process_time()\n",
    "sol = sudoku_solver_opt(sudoku)\n",
    "elapsed_time = time.process_time() - t\n",
    "print(elapsed_time)\n",
    "print(sol)"
   ]
  },
  {
   "cell_type": "markdown",
   "metadata": {},
   "source": [
    "## Analiza el coste de tu/s implementación/es:"
   ]
  },
  {
   "cell_type": "markdown",
   "metadata": {},
   "source": [
    "Como podemos apreciar, en el primer sudoku usamos una estrategia exhaustiva con un doble bucle for anidado, eso se ve reflejado en nuestro tiempo de ejecución que roza los 3 segundos. El coste es O(n^2)\n",
    "\n",
    "En cambio, haciendo una modificacion al algoritmo, este va a poner prioridad a las listas de validos más cortas. La mejora se puede apreciar en el resultado 0,18 segundos. Además usamos un for, no dos en el problema. El coste es O(n)"
   ]
  },
  {
   "cell_type": "markdown",
   "metadata": {},
   "source": [
    "<div class=\"alert alert-success\" style=\"width:90%; margin:0 auto;\">\n",
    "<h2><p>2. Cartas</p></h2>\n",
    "<p>\n",
    "Supongamos que tenemos un conjunto de parejas de cartas del mismo valor. En particular, tenemos parejas de cartas hasta N. Por ejemplo, para $N=3$ tendríamos una pareja de 1s, una de 2s y una de 3s (un total de 6 cartas). Lo que queremos es encontrar la manera de ordenarlas para que entre las dos cartas de valor $n_i$ haya exactamente $n_i$ cartas. En el ejemplo con $N=3$ tendríamos la siguiente solución:\n",
    "</p>\n",
    "<center> <b>   3 - 1 - 2 - 1- 3 - 2 </b></center>\n",
    "<p>\n",
    "Podemos observar que entre los 3 hay tres cartas, entre los 2 hay dos y entre los 1 solo hay una. Dependiendo del tamaño de N el problema podría no tener solución. Por ejemplo $N=5$ o $N=6$. Se pide la implementación de un algoritmo que, mediante backtracking, devuelva una lista con la configuración encontrada dado un valor N. En caso de no haber solución, debe devolver una lista vacía.\n",
    "</p> <p>\n",
    "Es importante destacar que tendréis que prestar especial atención a la complejidad de vuestra solución, dado que el problema crece de forma no polinómica y para un valor $N>12$ podría tardar horas. Hay diferentes aproximaciones para resolverlo. Bien hecho, $N=12$ debería tardar escasos segundos. Si haces varias versiones, puedes entregarlas junto con la comparativa de complejidad correspondiente.</p>\n",
    "</div>"
   ]
  },
  {
   "cell_type": "markdown",
   "metadata": {},
   "source": [
    "### USANDO LISTA COPIA"
   ]
  },
  {
   "cell_type": "code",
   "execution_count": 6,
   "metadata": {
    "collapsed": true
   },
   "outputs": [],
   "source": [
    "#funcio recursiva\n",
    "def deck_rec(N,sol):\n",
    "    \n",
    "    ix=first_zero_occ(sol) #index que utilitzarem per a insertar el nostre element\n",
    "    if 0 not in sol:\n",
    "        return sol\n",
    "\n",
    "\n",
    "    for i in range(N,0,-1):\n",
    "        rel_position=ix+i+1   #posicion donde se va a tener que encotrar la otra pareja\n",
    "\n",
    "        if i not in sol and rel_position<len(sol) :\n",
    "            sol_parcial=sol.copy()\n",
    "            if sol_parcial[ix]==0 and sol_parcial[rel_position]==0:\n",
    "                sol_parcial[ix]=i\n",
    "                sol_parcial[rel_position]=i\n",
    "                pos=deck_rec(N,sol_parcial)\n",
    "                \n",
    "                if len(pos)!=0:\n",
    "                    return pos\n",
    "                    \n",
    "                deck_rec(N,sol_parcial)\n",
    "\n",
    "\n",
    "    \n",
    "    return []\n",
    "\n",
    "#retorna el primer index de la llista on trobem un 0\n",
    "def first_zero_occ(sol):\n",
    "    for i in range(len(sol)-1):\n",
    "        if sol[i]==0:\n",
    "            return i\n",
    "    return -1\n",
    "        \n",
    "\n",
    "#init\n",
    "def deck(N):\n",
    "    \n",
    "    sol = [0]*N*2\n",
    "    sol=deck_rec(N,sol)\n",
    "    if sol:\n",
    "        return sol\n",
    "    return [] \n",
    "\n"
   ]
  },
  {
   "cell_type": "code",
   "execution_count": 7,
   "metadata": {},
   "outputs": [
    {
     "name": "stdout",
     "output_type": "stream",
     "text": [
      "[3, 1, 2, 1, 3, 2]\n",
      "[]\n",
      "[]\n",
      "[7, 4, 1, 5, 1, 6, 4, 3, 7, 5, 2, 3, 6, 2]\n",
      "[12, 10, 11, 6, 4, 5, 9, 7, 8, 4, 6, 5, 10, 12, 11, 7, 9, 8, 3, 1, 2, 1, 3, 2]\n"
     ]
    }
   ],
   "source": [
    "print(deck(3))\n",
    "print(deck(5))\n",
    "print(deck(6))\n",
    "print(deck(7))\n",
    "print(deck(12))"
   ]
  },
  {
   "cell_type": "markdown",
   "metadata": {},
   "source": [
    "### SIN LISTA COPIA"
   ]
  },
  {
   "cell_type": "code",
   "execution_count": 8,
   "metadata": {
    "collapsed": true
   },
   "outputs": [],
   "source": [
    "\n",
    "#funcio recursiva\n",
    "def deck_rec2(N,sol):\n",
    "    ix=first_zero_occ2(sol) #index que utilitzarem per a insertar el nostre element\n",
    "    if 0 not in sol:\n",
    "        return sol\n",
    "\n",
    "\n",
    "    for i in range(N,0,-1):\n",
    "        rel_position=ix+i+1   #posicion donde se va a tener que encotrar la otra pareja\n",
    "\n",
    "        if i not in sol and rel_position<len(sol) :\n",
    "            if sol[ix]==0 and sol[rel_position]==0:\n",
    "                sol[ix]=i\n",
    "                sol[rel_position]=i\n",
    "                pos=deck_rec2(N,sol)\n",
    "                \n",
    "                if len(pos)!=0:\n",
    "                    return pos\n",
    "                    \n",
    "                sol[ix]=0\n",
    "                sol[rel_position]=0\n",
    "\n",
    "\n",
    "    \n",
    "    return []\n",
    "\n",
    "#retorna el primer index de la llista on trobem un 0\n",
    "def first_zero_occ2(sol):\n",
    "    for i in range(len(sol)-1):\n",
    "        if sol[i]==0:\n",
    "            return i\n",
    "    return -1\n",
    "        \n",
    "\n",
    "#init\n",
    "def deck2(N):\n",
    "    \n",
    "    sol = [0]*N*2\n",
    "    sol=deck_rec2(N,sol)\n",
    "    if sol:\n",
    "        return sol\n",
    "    return [] \n"
   ]
  },
  {
   "cell_type": "code",
   "execution_count": 9,
   "metadata": {},
   "outputs": [
    {
     "name": "stdout",
     "output_type": "stream",
     "text": [
      "[3, 1, 2, 1, 3, 2]\n",
      "[]\n",
      "[]\n",
      "[7, 4, 1, 5, 1, 6, 4, 3, 7, 5, 2, 3, 6, 2]\n",
      "[12, 10, 11, 6, 4, 5, 9, 7, 8, 4, 6, 5, 10, 12, 11, 7, 9, 8, 3, 1, 2, 1, 3, 2]\n"
     ]
    }
   ],
   "source": [
    "print(deck2(3))\n",
    "print(deck2(5))\n",
    "print(deck2(6))\n",
    "print(deck2(7))\n",
    "print(deck2(12))"
   ]
  },
  {
   "cell_type": "markdown",
   "metadata": {},
   "source": [
    "## Analiza el coste de tu/s implementación/es:"
   ]
  },
  {
   "cell_type": "markdown",
   "metadata": {},
   "source": [
    "Mis dos implementaciones son iguales, la diferencia es en que una uso una copia de la lista de la solucion parcial y en la otra no uso lista, corrijo poniendo 0 donde el algoritmo no es correcto.\n",
    "El coste de la implementacion es O(n)"
   ]
  },
  {
   "cell_type": "code",
   "execution_count": null,
   "metadata": {
    "collapsed": true
   },
   "outputs": [],
   "source": []
  }
 ],
 "metadata": {
  "kernelspec": {
   "display_name": "Python 3",
   "language": "python",
   "name": "python3"
  },
  "language_info": {
   "codemirror_mode": {
    "name": "ipython",
    "version": 3
   },
   "file_extension": ".py",
   "mimetype": "text/x-python",
   "name": "python",
   "nbconvert_exporter": "python",
   "pygments_lexer": "ipython3",
   "version": "3.6.1"
  }
 },
 "nbformat": 4,
 "nbformat_minor": 1
}
