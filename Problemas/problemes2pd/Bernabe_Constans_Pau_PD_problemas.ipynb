{
 "cells": [
  {
   "cell_type": "markdown",
   "metadata": {},
   "source": [
    "<div style=\"padding:30px; color: white; background-color: #0071CD\">\n",
    "<center>\n",
    "<img src=\"img/logoub.jpeg\">\n",
    "<center>\n",
    "<p>\n",
    "<h1>Algorísmica Avançada</h1>\n",
    "<h2>Problemas 2.B - Programació Dinàmica </h2>\n",
    "</center>\n",
    "</p>\n",
    "</div>"
   ]
  },
  {
   "cell_type": "markdown",
   "metadata": {},
   "source": [
    "<div class=\"alert alert-success\" style=\"width:90%; margin:0 auto;\">\n",
    "\n",
    "  <h2><p>1- El problema de la mochila</p></h2>\n",
    "  \n",
    "  <p> En esta primera sección trabajaremos con el problema de la mochila que ya vimos en la práctica de Greedy. Refrequemos un poco:\n",
    "</p>\n",
    "    Nos encontramos en una habitación en la que hay $N$ objetos con pesos $w_1, w_2, w_3 ... w_N$ y tenemos una mochila que puede soportar una carga máxima de $W$.\n",
    "<br>\n",
    "    En este caso se pide que realicéis una implementación de Programación Dinámica para resolver el problema de la mochila con valor:\n",
    "    \n",
    " **mochila_valor:** Cada objeto tendrá asignado un valor $v_1, v_2, v_3 ... v_N$. Buscamos llenar la mochila maximizando el valor total de la mochila pero sin superar la capacidad máxima. Es decir queremos encontrar la combinación de objetos $b$ tal que $\\arg_{b} \\max{\\sum_{i=0}^{N}{v_i · b_i}}$ con la condición de que $\\sum_{i=0}^{N}{(w_i · b_i)}\\leq W$.\n",
    "     \n",
    "Trabajaremos dos variantes de este problema. En uno, dispondremos de una cantidad ilimitada de objetos de cada tipo y, en la otra, de una cantidad limitada $c_1, c_2, c_3 ... c_N$.\n"
   ]
  },
  {
   "cell_type": "code",
   "execution_count": 5,
   "metadata": {
    "collapsed": true
   },
   "outputs": [],
   "source": [
    "import random as rd\n",
    "\n",
    "# Genera un conjunto de objetos de prueba en forma de una lista de listas, \n",
    "# cada una de las cuales representa un elemento [peso,valor] o [peso,valor,cantidad]\n",
    "def random_objects(infinite=True):\n",
    "    objects = []\n",
    "    if infinite:\n",
    "        for p,v in zip(rd.sample(range(1, 50), k=10), rd.sample(range(1, 100), k=10)):\n",
    "            objects.append([p,v])\n",
    "    else:\n",
    "        for p,v,c in zip(rd.sample(range(1, 50), k=10), rd.sample(range(1, 100), k=10),rd.sample(range(1, 15), k=10)):\n",
    "            objects.append([p,v,c])\n",
    "    return objects"
   ]
  },
  {
   "cell_type": "code",
   "execution_count": 6,
   "metadata": {},
   "outputs": [
    {
     "data": {
      "text/plain": [
       "[[34, 85, 7],\n",
       " [45, 47, 2],\n",
       " [31, 3, 8],\n",
       " [36, 77, 10],\n",
       " [23, 98, 9],\n",
       " [29, 16, 13],\n",
       " [3, 96, 6],\n",
       " [41, 69, 14],\n",
       " [11, 19, 11],\n",
       " [40, 54, 5]]"
      ]
     },
     "execution_count": 6,
     "metadata": {},
     "output_type": "execute_result"
    }
   ],
   "source": [
    "random_objects(False)"
   ]
  },
  {
   "cell_type": "code",
   "execution_count": 262,
   "metadata": {
    "collapsed": true
   },
   "outputs": [],
   "source": [
    "''' \n",
    "Implementa aquí la solución de PD que resuelve el problema de la mochila con cantidad de objetos limitados\n",
    "@input: Lista de listas con la forma [peso,valor,cantidad] representando los objetos que podemos escoger.\n",
    "@output: Lista de listas con la forma [peso,valor,cantidad] representando los objetos escogidos.\n",
    "'''\n",
    "\n",
    "W=12\n",
    "def dynamic_knapsac(D):\n",
    "    matriz=np.zeros(shape=(len(D)+1, W+2))\n",
    "    \n",
    "    \n",
    "    \n",
    "    \n",
    "\n",
    "''' \n",
    "Implementa aquí la solución de PD que resuelve el problema de la mochila con cantidad de objetos limitados\n",
    "@input: Lista de listas con la forma [peso,valor,cantidad] representando los objetos que podemos escoger.\n",
    "@output: Lista de listas con la forma [peso,valor,cantidad] representando los objetos escogidos.\n",
    "'''\n",
    "def inf_dynamic_kapsac(D):\n",
    "    pass"
   ]
  },
  {
   "cell_type": "code",
   "execution_count": 263,
   "metadata": {},
   "outputs": [
    {
     "name": "stdout",
     "output_type": "stream",
     "text": [
      "[[28, 11, 3], [48, 47, 13], [18, 92, 9], [23, 85, 2], [10, 53, 1], [27, 57, 14], [17, 79, 10], [44, 82, 5], [5, 12, 7], [19, 38, 4]]\n",
      "[[  0.   0.   1.   2.   3.   4.   5.   6.   7.   8.   9.  10.  11.  12.]\n",
      " [ 28.   0.   0.   0.   0.   0.   0.   0.   0.   0.   0.   0.   0.   0.]\n",
      " [ 48.   0.   0.   0.   0.   0.   0.   0.   0.   0.   0.   0.   0.   0.]\n",
      " [ 18.   0.   0.   0.   0.   0.   0.   0.   0.   0.   0.   0.   0.   0.]\n",
      " [ 23.   0.   0.   0.   0.   0.   0.   0.   0.   0.   0.   0.   0.   0.]\n",
      " [ 10.   0.   0.   0.   0.   0.   0.   0.   0.   0.   0.   0.   0.   0.]\n",
      " [ 27.   0.   0.   0.   0.   0.   0.   0.   0.   0.   0.   0.   0.   0.]\n",
      " [ 17.   0.   0.   0.   0.   0.   0.   0.   0.   0.   0.   0.   0.   0.]\n",
      " [ 44.   0.   0.   0.   0.   0.   0.   0.   0.   0.   0.   0.   0.   0.]\n",
      " [  5.   0.   0.   0.   0.   0.   0.   0.   0.   0.   0.   0.   0.   0.]\n",
      " [ 19.   0.   0.   0.   0.   0.   0.   0.   0.   0.   0.   0.   0.   0.]]\n"
     ]
    }
   ],
   "source": [
    "dynamic_knapsac(random_objects(False))\n"
   ]
  },
  {
   "cell_type": "markdown",
   "metadata": {},
   "source": [
    "<div class=\"alert alert-warning\" style=\"width:80%; margin:0 auto; padding\">\n",
    "<center><p><h3> Cuestiones</h3></p> </center> </div>"
   ]
  },
  {
   "cell_type": "markdown",
   "metadata": {},
   "source": [
    "<ul>\n",
    "    <li>¿En qué casos se encuentra solución óptima al problema?</li>\n",
    "    <li>Explica las soluciones planteadas y analiza su complejidad.</li>\n",
    "</ul>"
   ]
  },
  {
   "cell_type": "markdown",
   "metadata": {},
   "source": [
    "__Escribe aquí tus respuestas__\n",
    "\n",
    "<h4> Pregunta 1 </h4>\n",
    "\n",
    "<h4> Pregunta 2 </h4>"
   ]
  },
  {
   "cell_type": "markdown",
   "metadata": {},
   "source": [
    "<div class=\"alert alert-success\" style=\"width:90%; margin:0 auto;\">\n",
    "\n",
    "  <h2><p>2 - Algoritmo Floyd-Warshall</p></h2>\n",
    "  \n",
    "  <p> El algoritmo Floyd-Warshall es un algoritmo de programación dinámica que se emplea para encontrar el camino mínimo en un grafo con pesos (que no tenga ciclos negativos).</p>\n"
   ]
  },
  {
   "cell_type": "code",
   "execution_count": 282,
   "metadata": {
    "collapsed": true
   },
   "outputs": [],
   "source": [
    "import networkx as nx\n",
    "import matplotlib.pyplot as plt\n",
    "plot = 0\n",
    "\n",
    "# Creates random graph (non-tree)\n",
    "def random_graph(num_v = 15, num_e = 20):\n",
    "    graph = nx.generators.gnm_random_graph(num_v,num_e)\n",
    "    for edge in graph.edges():\n",
    "        graph.add_edge(edge[0],edge[1],weight=round(rd.random(),3))\n",
    "    return graph\n",
    "\n",
    "# Show Graph\n",
    "def draw_graph(G,size=7):\n",
    "    global plot\n",
    "    plt.figure(plot,(size,size))\n",
    "    pos = nx.spring_layout(G)\n",
    "    nx.draw_networkx(G,with_labels=True,pos=pos)\n",
    "    plot += 1\n",
    "\n",
    "# Show Graph with highlighted path (path must be a list of edges)\n",
    "def draw_path(G,path):\n",
    "    global plot\n",
    "    plt.figure(plot,(size,size))\n",
    "    # Get distribution of graph elements\n",
    "    pos = nx.spring_layout(G) \n",
    "    nx.draw_networkx(G,pos)\n",
    "    # Get edges not in path\n",
    "    other_edges = [e for e in G.edges() if e not in path]\n",
    "    # Get weights for display\n",
    "    labels_path = {edge:G.edges[edge[0],edge[1]]['weight'] for edge in path}\n",
    "    labels_other = {edge:G.edges[edge[0],edge[1]]['weight'] for edge in other_edges}\n",
    "    # Path in blue\n",
    "    nx.draw_networkx_edges(G,pos,edgelist=path,edge_color='blue',width=5)\n",
    "    nx.draw_networkx_edge_labels(G,pos,edge_labels=labels_path,edgelist=path)\n",
    "    # Rest of the edges in red\n",
    "    nx.draw_networkx_edges(G,pos,edgelist=other,edge_color='red')\n",
    "    nx.draw_networkx_edge_labels(G,pos,edge_labels=labels_other,edgelist=other_edges)\n",
    "    # Increment plot counter\n",
    "    plot += 1    "
   ]
  },
  {
   "cell_type": "code",
   "execution_count": 293,
   "metadata": {
    "collapsed": true
   },
   "outputs": [],
   "source": [
    "''' \n",
    "Implementa aquí el algoritmo Floyd Warshall\n",
    "'''\n",
    "import numpy as np\n",
    "#reconstruimos el camino\n",
    "def make_Path(temp,o,d):\n",
    "\n",
    "    if temp[o][d]==None:\n",
    "        path=[0]\n",
    "    \n",
    "    n=o\n",
    "    path=[]\n",
    "    while o!=d:\n",
    "        o=temp[o][d]\n",
    "\n",
    "        path.append((n,o))\n",
    "        n=o\n",
    "    return draw_path(G,path)\n",
    "        \n",
    "        \n",
    "    \n",
    "\n",
    "\n",
    "def floyd_warshall(G,origen):\n",
    "    matriz=np.empty((len(G.nodes()),len(G.nodes())))\n",
    "    temp=np.empty((len(G.nodes()),len(G.nodes())),dtype=int)\n",
    "\n",
    "    matriz.fill(np.Infinity)\n",
    "    \n",
    "    for u in range(len(G.nodes())):\n",
    "        matriz[u][u]=0.0\n",
    "        \n",
    "        \n",
    "    for v,w in list(G.edges()):\n",
    "        matriz[v][w]=G[v][w]['weight']\n",
    "        matriz[w][v]=G[w][v]['weight']\n",
    "        temp[v][w]=w\n",
    "\n",
    "  \n",
    "\n",
    "    \n",
    "    \n",
    "    for k in list(G.nodes()):\n",
    "        for i in list(G.nodes()):\n",
    "            for j in list(G.nodes()):\n",
    "                if matriz[i][j]>matriz[i][k]+matriz[k][j]:\n",
    "                    matriz[i][j]=matriz[i][k]+matriz[k][j]\n",
    "                    temp[i][j]=temp[i][k]\n",
    "    \n",
    "    \n",
    "    print(matriz)\n",
    "    return make_Path(temp,origen,14)\n",
    "    \n",
    "    "
   ]
  },
  {
   "cell_type": "code",
   "execution_count": 294,
   "metadata": {},
   "outputs": [
    {
     "name": "stdout",
     "output_type": "stream",
     "text": [
      "[[ 0.     1.682    inf  2.018  1.375  0.359  0.756  1.812    inf  1.156\n",
      "   1.847  1.135  0.946  0.763  2.072]\n",
      " [ 1.682  0.       inf  0.382  1.025  1.375  0.926  0.663    inf  0.578\n",
      "   0.698  1.34   1.481  1.637  0.436]\n",
      " [   inf    inf  0.       inf    inf    inf    inf    inf    inf    inf\n",
      "     inf    inf    inf    inf    inf]\n",
      " [ 2.018  0.382    inf  0.     0.643  1.659  1.308  0.281    inf  0.96\n",
      "   0.316  0.958  1.099  1.255  0.054]\n",
      " [ 1.375  1.025    inf  0.643  0.     1.016  1.811  0.924    inf  1.603\n",
      "   0.959  0.984  0.456  0.612  0.697]\n",
      " [ 0.359  1.375    inf  1.659  1.016  0.     1.115  1.453    inf  0.797\n",
      "   1.488  0.776  1.305  0.404  1.713]\n",
      " [ 0.756  0.926    inf  1.308  1.811  1.115  0.     1.504    inf  1.504\n",
      "   1.539  0.827  1.702  1.199  1.362]\n",
      " [ 1.812  0.663    inf  0.281  0.924  1.453  1.504  0.       inf  0.786\n",
      "   0.035  0.677  1.38   1.049  0.335]\n",
      " [   inf    inf    inf    inf    inf    inf    inf    inf  0.       inf\n",
      "     inf    inf    inf    inf    inf]\n",
      " [ 1.156  0.578    inf  0.96   1.603  0.797  1.504  0.786    inf  0.     0.821\n",
      "   1.463  2.059  1.201  1.014]\n",
      " [ 1.847  0.698    inf  0.316  0.959  1.488  1.539  0.035    inf  0.821  0.\n",
      "   0.712  1.415  1.084  0.37 ]\n",
      " [ 1.135  1.34     inf  0.958  0.984  0.776  0.827  0.677    inf  1.463\n",
      "   0.712  0.     1.44   0.372  1.012]\n",
      " [ 0.946  1.481    inf  1.099  0.456  1.305  1.702  1.38     inf  2.059\n",
      "   1.415  1.44   0.     1.068  1.153]\n",
      " [ 0.763  1.637    inf  1.255  0.612  0.404  1.199  1.049    inf  1.201\n",
      "   1.084  0.372  1.068  0.     1.309]\n",
      " [ 2.072  0.436    inf  0.054  0.697  1.713  1.362  0.335    inf  1.014\n",
      "   0.37   1.012  1.153  1.309  0.   ]]\n"
     ]
    },
    {
     "ename": "NameError",
     "evalue": "name 'size' is not defined",
     "output_type": "error",
     "traceback": [
      "\u001b[1;31m---------------------------------------------------------------------------\u001b[0m",
      "\u001b[1;31mNameError\u001b[0m                                 Traceback (most recent call last)",
      "\u001b[1;32m<ipython-input-294-b659d8abbfff>\u001b[0m in \u001b[0;36m<module>\u001b[1;34m()\u001b[0m\n\u001b[0;32m      2\u001b[0m \u001b[0mG\u001b[0m\u001b[1;33m=\u001b[0m\u001b[0mrandom_graph\u001b[0m\u001b[1;33m(\u001b[0m\u001b[1;33m)\u001b[0m\u001b[1;33m\u001b[0m\u001b[0m\n\u001b[0;32m      3\u001b[0m \u001b[0mdraw_graph\u001b[0m\u001b[1;33m(\u001b[0m\u001b[0mG\u001b[0m\u001b[1;33m)\u001b[0m\u001b[1;33m\u001b[0m\u001b[0m\n\u001b[1;32m----> 4\u001b[1;33m \u001b[0mfloyd_warshall\u001b[0m\u001b[1;33m(\u001b[0m\u001b[0mG\u001b[0m\u001b[1;33m,\u001b[0m\u001b[1;36m0\u001b[0m\u001b[1;33m)\u001b[0m\u001b[1;33m\u001b[0m\u001b[0m\n\u001b[0m",
      "\u001b[1;32m<ipython-input-293-debe44c1bd45>\u001b[0m in \u001b[0;36mfloyd_warshall\u001b[1;34m(G, origen)\u001b[0m\n\u001b[0;32m     50\u001b[0m \u001b[1;33m\u001b[0m\u001b[0m\n\u001b[0;32m     51\u001b[0m     \u001b[0mprint\u001b[0m\u001b[1;33m(\u001b[0m\u001b[0mmatriz\u001b[0m\u001b[1;33m)\u001b[0m\u001b[1;33m\u001b[0m\u001b[0m\n\u001b[1;32m---> 52\u001b[1;33m     \u001b[1;32mreturn\u001b[0m \u001b[0mmake_Path\u001b[0m\u001b[1;33m(\u001b[0m\u001b[0mtemp\u001b[0m\u001b[1;33m,\u001b[0m\u001b[0morigen\u001b[0m\u001b[1;33m,\u001b[0m\u001b[1;36m14\u001b[0m\u001b[1;33m)\u001b[0m\u001b[1;33m\u001b[0m\u001b[0m\n\u001b[0m\u001b[0;32m     53\u001b[0m \u001b[1;33m\u001b[0m\u001b[0m\n\u001b[0;32m     54\u001b[0m \u001b[1;33m\u001b[0m\u001b[0m\n",
      "\u001b[1;32m<ipython-input-293-debe44c1bd45>\u001b[0m in \u001b[0;36mmake_Path\u001b[1;34m(temp, o, d)\u001b[0m\n\u001b[0;32m     16\u001b[0m         \u001b[0mpath\u001b[0m\u001b[1;33m.\u001b[0m\u001b[0mappend\u001b[0m\u001b[1;33m(\u001b[0m\u001b[1;33m(\u001b[0m\u001b[0mn\u001b[0m\u001b[1;33m,\u001b[0m\u001b[0mo\u001b[0m\u001b[1;33m)\u001b[0m\u001b[1;33m)\u001b[0m\u001b[1;33m\u001b[0m\u001b[0m\n\u001b[0;32m     17\u001b[0m         \u001b[0mn\u001b[0m\u001b[1;33m=\u001b[0m\u001b[0mo\u001b[0m\u001b[1;33m\u001b[0m\u001b[0m\n\u001b[1;32m---> 18\u001b[1;33m     \u001b[1;32mreturn\u001b[0m \u001b[0mdraw_path\u001b[0m\u001b[1;33m(\u001b[0m\u001b[0mG\u001b[0m\u001b[1;33m,\u001b[0m\u001b[0mpath\u001b[0m\u001b[1;33m)\u001b[0m\u001b[1;33m\u001b[0m\u001b[0m\n\u001b[0m\u001b[0;32m     19\u001b[0m \u001b[1;33m\u001b[0m\u001b[0m\n\u001b[0;32m     20\u001b[0m \u001b[1;33m\u001b[0m\u001b[0m\n",
      "\u001b[1;32m<ipython-input-282-c66c4bbca235>\u001b[0m in \u001b[0;36mdraw_path\u001b[1;34m(G, path)\u001b[0m\n\u001b[0;32m     21\u001b[0m \u001b[1;32mdef\u001b[0m \u001b[0mdraw_path\u001b[0m\u001b[1;33m(\u001b[0m\u001b[0mG\u001b[0m\u001b[1;33m,\u001b[0m\u001b[0mpath\u001b[0m\u001b[1;33m)\u001b[0m\u001b[1;33m:\u001b[0m\u001b[1;33m\u001b[0m\u001b[0m\n\u001b[0;32m     22\u001b[0m     \u001b[1;32mglobal\u001b[0m \u001b[0mplot\u001b[0m\u001b[1;33m\u001b[0m\u001b[0m\n\u001b[1;32m---> 23\u001b[1;33m     \u001b[0mplt\u001b[0m\u001b[1;33m.\u001b[0m\u001b[0mfigure\u001b[0m\u001b[1;33m(\u001b[0m\u001b[0mplot\u001b[0m\u001b[1;33m,\u001b[0m\u001b[1;33m(\u001b[0m\u001b[0msize\u001b[0m\u001b[1;33m,\u001b[0m\u001b[0msize\u001b[0m\u001b[1;33m)\u001b[0m\u001b[1;33m)\u001b[0m\u001b[1;33m\u001b[0m\u001b[0m\n\u001b[0m\u001b[0;32m     24\u001b[0m     \u001b[1;31m# Get distribution of graph elements\u001b[0m\u001b[1;33m\u001b[0m\u001b[1;33m\u001b[0m\u001b[0m\n\u001b[0;32m     25\u001b[0m     \u001b[0mpos\u001b[0m \u001b[1;33m=\u001b[0m \u001b[0mnx\u001b[0m\u001b[1;33m.\u001b[0m\u001b[0mspring_layout\u001b[0m\u001b[1;33m(\u001b[0m\u001b[0mG\u001b[0m\u001b[1;33m)\u001b[0m\u001b[1;33m\u001b[0m\u001b[0m\n",
      "\u001b[1;31mNameError\u001b[0m: name 'size' is not defined"
     ]
    },
    {
     "data": {
      "image/png": "[encoded data removed]",
      "text/plain": [
       "<matplotlib.figure.Figure at 0x23d7ed8fc88>"
      ]
     },
     "metadata": {},
     "output_type": "display_data"
    }
   ],
   "source": [
    "%matplotlib inline\n",
    "G=random_graph()\n",
    "draw_graph(G)\n",
    "floyd_warshall(G,0)"
   ]
  },
  {
   "cell_type": "markdown",
   "metadata": {},
   "source": [
    "<div class=\"alert alert-warning\" style=\"width:80%; margin:0 auto; padding\">\n",
    "<center><p><h3> Cuestiones</h3></p> </center> </div>"
   ]
  },
  {
   "cell_type": "markdown",
   "metadata": {},
   "source": [
    "<ul>\n",
    "    <li>Analiza la complejidad del algoritmo.</li>\n",
    "    El algoritmo tendrá una complejidad de V^3, ya que visitamos todos los nodos 3 veces\n",
    "</ul>"
   ]
  },
  {
   "cell_type": "markdown",
   "metadata": {},
   "source": [
    "<div class=\"alert alert-success\" style=\"width:90%; margin:0 auto;\">\n",
    "\n",
    "  <h2><p>3 - Distancia de edición</p></h2>\n",
    "  \n",
    "  <p> Dadas dos cadenas S1 y S2, este algoritmo trata de encontrar la \"distancia\" entre ellas. Basamos la distancia en el número de transformaciones necesarias para convertir la cadena S1 en la cadena S2 (o viceversa). Se consideran tres transformaciones distintas: inserción, eliminación y sustitución.</p>\n",
    "  \n",
    "  <img src='img/min_Edit_Distance_DP_Table.png'>"
   ]
  },
  {
   "cell_type": "code",
   "execution_count": 1,
   "metadata": {
    "collapsed": true
   },
   "outputs": [],
   "source": [
    "'''\n",
    "Implementa aquí el algoritmo de distancia de edición\n",
    "bajar=añadir\n",
    "diagonal= c queda/substituir\n",
    "izquierda=eliminar\n",
    "\n",
    "'''\n",
    "import numpy as np\n",
    "def distancia_edicion(s1,s2):\n",
    "    matriz=np.zeros(shape=(len(s1)+1,len(s2)+1))\n",
    "    \n",
    "    for k in range(len(s1)+1):\n",
    "        matriz[k][0]=k\n",
    "    \n",
    "    for x in range(len(s2)+1):\n",
    "        matriz[0][x]=x\n",
    "    \n",
    "    for i in range(1,len(s1)+1):\n",
    "        for j in range(1,len(s2)+1):\n",
    "            \n",
    "            if s1[i-1]==s2[j-1]:\n",
    "                matriz[i][j]=matriz[i-1][j-1]\n",
    "            else:\n",
    "\n",
    "                matriz[i][j]=min(matriz[i-1][j-1],matriz[i][j-1],matriz[i-1][j]) + 1\n",
    "   \n",
    "    print(matriz)\n",
    "    return matriz[len(s1)][len(s2)]  "
   ]
  },
  {
   "cell_type": "code",
   "execution_count": 9,
   "metadata": {},
   "outputs": [
    {
     "name": "stdout",
     "output_type": "stream",
     "text": [
      "[[ 0.  1.  2.  3.  4.  5.  6.  7.  8.]\n",
      " [ 1.  1.  2.  3.  4.  5.  6.  7.  8.]\n",
      " [ 2.  1.  2.  2.  3.  4.  5.  6.  7.]\n",
      " [ 3.  2.  1.  2.  3.  4.  5.  6.  7.]\n",
      " [ 4.  3.  2.  1.  2.  3.  4.  5.  6.]\n",
      " [ 5.  4.  3.  2.  2.  3.  4.  5.  6.]\n",
      " [ 6.  5.  4.  3.  3.  3.  3.  4.  5.]\n",
      " [ 7.  6.  5.  4.  4.  4.  4.  3.  4.]\n",
      " [ 8.  7.  6.  5.  5.  5.  5.  4.  3.]]\n",
      "3.0\n",
      "[[ 0.  1.  2.  3.  4.  5.  6.]\n",
      " [ 1.  0.  1.  2.  3.  4.  5.]\n",
      " [ 2.  1.  0.  1.  2.  3.  4.]\n",
      " [ 3.  2.  1.  0.  1.  2.  3.]\n",
      " [ 4.  3.  2.  1.  1.  2.  3.]\n",
      " [ 5.  4.  3.  2.  2.  1.  2.]\n",
      " [ 6.  5.  4.  3.  3.  2.  2.]\n",
      " [ 7.  6.  5.  4.  4.  3.  2.]]\n",
      "2.0\n",
      "[[ 0.  1.  2.  3.  4.  5.]\n",
      " [ 1.  1.  2.  3.  4.  5.]\n",
      " [ 2.  2.  2.  3.  4.  5.]\n",
      " [ 3.  3.  3.  3.  4.  5.]\n",
      " [ 4.  4.  4.  4.  4.  5.]\n",
      " [ 5.  5.  5.  5.  5.  5.]]\n",
      "5.0\n",
      "[[ 0.  1.  2.  3.  4.  5.]\n",
      " [ 1.  1.  2.  3.  4.  5.]\n",
      " [ 2.  2.  2.  3.  4.  5.]\n",
      " [ 3.  3.  3.  3.  4.  5.]\n",
      " [ 4.  4.  4.  4.  4.  5.]\n",
      " [ 5.  5.  5.  4.  5.  5.]\n",
      " [ 6.  6.  6.  5.  5.  6.]]\n",
      "6.0\n"
     ]
    }
   ],
   "source": [
    "print(distancia_edicion('relevant', 'elephant'))\n",
    "print(distancia_edicion('surgery', 'survey'))\n",
    "print(distancia_edicion('abcde', 'vwxyz'))"
   ]
  },
  {
   "cell_type": "markdown",
   "metadata": {},
   "source": [
    "<div class=\"alert alert-warning\" style=\"width:80%; margin:0 auto; padding\">\n",
    "<center><p><h3> Cuestiones</h3></p> </center> </div>"
   ]
  },
  {
   "cell_type": "markdown",
   "metadata": {},
   "source": [
    "<ul>\n",
    "    <li>Analiza la complejidad del algoritmo.</li>\n",
    "    El algoritmo tendrá una complejidad de O(n^2), ya que debemos recorrer una matriz de dos dimensiones\n",
    "</ul>"
   ]
  },
  {
   "cell_type": "code",
   "execution_count": null,
   "metadata": {
    "collapsed": true
   },
   "outputs": [],
   "source": []
  }
 ],
 "metadata": {
  "kernelspec": {
   "display_name": "Python 3",
   "language": "python",
   "name": "python3"
  },
  "language_info": {
   "codemirror_mode": {
    "name": "ipython",
    "version": 3
   },
   "file_extension": ".py",
   "mimetype": "text/x-python",
   "name": "python",
   "nbconvert_exporter": "python",
   "pygments_lexer": "ipython3",
   "version": "3.6.1"
  }
 },
 "nbformat": 4,
 "nbformat_minor": 2
}
