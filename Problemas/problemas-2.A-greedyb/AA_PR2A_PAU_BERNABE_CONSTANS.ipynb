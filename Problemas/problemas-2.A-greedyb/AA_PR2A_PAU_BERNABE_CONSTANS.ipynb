{
 "cells": [
  {
   "cell_type": "markdown",
   "metadata": {},
   "source": [
    "<div style=\"padding:30px; color: white; background-color: #0071CD\">\n",
    "<center>\n",
    "<img src=\"img/logoub.jpeg\">\n",
    "<center>\n",
    "<p>\n",
    "<h1>Algorísmica Avançada</h1>\n",
    "<h2>Problemas 2.A - Greedy </h2>\n",
    "</center>\n",
    "</p>\n",
    "</div>"
   ]
  },
  {
   "cell_type": "markdown",
   "metadata": {},
   "source": [
    "\n",
    "<div class=\"alert alert-success\" style=\"width:90%; margin:0 auto;\">\n",
    "  <h2><p>0 - Problema de selección de actividades</p></h2>\n",
    "  \n",
    "  <p>\n",
    "  El problema de selección de actividades nos plantea la tarea de escoger una combinación de actividades que no se solapen dado un intervalo de tiempo. El objetivo final es poder realizar el mayor número de actividades, asumiendo que sólo es posible realizar una actividad simultáneamente.\n",
    "  </p>\n",
    "  \n",
    "  <p>\n",
    "   Dadas N actividades, cada una de ellas representadas por un tiempo de inicio $s_i$ y un tiempo de fin $f_i$. Dos actividades no se solapan si se cumple que $s_i \\geq f_j$ o $s_j \\geq f_i$. El problema de selección de actividades consiste en encontrar el mayor conjunto de entre las posibles soluciones de actividades que no se solapen.\n",
    "  </p>\n"
   ]
  },
  {
   "cell_type": "markdown",
   "metadata": {},
   "source": [
    "<div class=\"alert alert-danger\" style=\"width:80%; margin:0 auto; padding\">\n",
    "<center><p><h3> Código </h3></p> </center> \n",
    "\n",
    "<p>\n",
    "<h3>INPUT</h3>\n",
    "<ul>\n",
    "<li>__A__: Lista de actividades en forma de tupla (_inicio_, _fin_).</li>\n",
    "</ul>\n",
    "<br>\n",
    "<h3>OUTPUT</h3>\n",
    "<ul>\n",
    "<li>__S__: Lista de actividades que forman la solución.</li>\n",
    "<ul>\n",
    "\n",
    "</p>\n",
    "\n",
    "</div>"
   ]
  },
  {
   "cell_type": "code",
   "execution_count": 168,
   "metadata": {
    "collapsed": true
   },
   "outputs": [],
   "source": [
    "def activity_selection_problem(A):\n",
    "    A.sort(key=lambda t:t[1])\n",
    "    S=[]\n",
    "    print(A)\n",
    "    \n",
    "    \n",
    "    while len(A)!=0:\n",
    "        \n",
    "        activitat=A.pop(0)\n",
    "        \n",
    "        if len(S)==0:\n",
    "            S.append(activitat)\n",
    "        \n",
    "        else:\n",
    "            \n",
    "            if activitat[0]>=S[-1][1] or activitat[1]<=S[-1][0]:\n",
    "                S.append(activitat)\n",
    "                    \n",
    "    return S\n",
    "            \n",
    "    \n",
    "        \n",
    "    \n",
    "    "
   ]
  },
  {
   "cell_type": "code",
   "execution_count": 169,
   "metadata": {},
   "outputs": [
    {
     "name": "stdout",
     "output_type": "stream",
     "text": [
      "[('08:54', '10:34'), ('09:15', '11:35'), ('10:15', '11:46'), ('12:04', '12:21'), ('10:05', '12:22'), ('11:50', '13:31'), ('13:03', '13:39'), ('12:24', '13:57'), ('11:43', '14:09'), ('12:40', '14:19'), ('13:23', '14:21'), ('12:56', '15:36'), ('14:06', '15:36'), ('15:24', '16:49'), ('14:58', '16:50'), ('16:33', '18:22'), ('16:44', '18:32'), ('16:54', '18:48'), ('17:13', '19:53'), ('19:36', '20:00')]\n"
     ]
    },
    {
     "data": {
      "text/plain": [
       "[('08:54', '10:34'),\n",
       " ('12:04', '12:21'),\n",
       " ('13:03', '13:39'),\n",
       " ('14:06', '15:36'),\n",
       " ('16:33', '18:22'),\n",
       " ('19:36', '20:00')]"
      ]
     },
     "execution_count": 169,
     "metadata": {},
     "output_type": "execute_result"
    }
   ],
   "source": [
    "from util import randomActivities\n",
    "\n",
    "A = randomActivities(8, 20)\n",
    "activity_selection_problem(A)"
   ]
  },
  {
   "cell_type": "markdown",
   "metadata": {},
   "source": [
    "<div class=\"alert alert-warning\">\n",
    "<h1>Pregunta 1</h1>\n",
    "<p><strong>\n",
    "¿Las soluciones que encontremos con este algoritmo serán óptimas?\n",
    "</strong></p>\n",
    "</div>"
   ]
  },
  {
   "cell_type": "markdown",
   "metadata": {},
   "source": [
    "Si ordenamos por la hora que abaca de menor a mayor, será la más optima que podemos encontrar.\n",
    "\n",
    "La complejidad sera O(n) ya que debemos chequear todos los elementos de la lista A"
   ]
  },
  {
   "cell_type": "markdown",
   "metadata": {},
   "source": [
    "\n",
    "<div class=\"alert alert-success\" style=\"width:90%; margin:0 auto;\">\n",
    "  <h2><p>1 - Problema del cambio</p></h2>\n",
    "  \n",
    "  <p>\n",
    "  Dada una cantidad de dinero $V$ a devolver, cual debería ser el cambio si queremos que el número total de monedas y billetes a utilizar sea el mínimo posible. Asumimos que tenemos una cantidad ilimitada de monedas y billetes de cada tipo.\n",
    "  </p>\n"
   ]
  },
  {
   "cell_type": "markdown",
   "metadata": {},
   "source": [
    "<div class=\"alert alert-danger\" style=\"width:80%; margin:0 auto; padding\">\n",
    "<center><p><h3> Código </h3></p> </center> \n",
    "\n",
    "<p>\n",
    "<h3>INPUT</h3>\n",
    "<ul>\n",
    "<li>__V__: Cantidad de dinero a devolver.</li>\n",
    "</ul>\n",
    "<br>\n",
    "<h3>OUTPUT</h3>\n",
    "<ul>\n",
    "<li>__C__: Cambio devuelto. Debe ser una lista de tuplas de la forma (valor, cantidad)</li>\n",
    "<ul>\n",
    "\n",
    "</p>\n",
    "\n",
    "</div>"
   ]
  },
  {
   "cell_type": "code",
   "execution_count": 171,
   "metadata": {
    "collapsed": true
   },
   "outputs": [],
   "source": [
    "def coin_change_problem(V):\n",
    "    dinero,C=[0.01,0.02,0.05,0.1,0.2,0.5,1,2,5,10,20,50,100,200,500],[]\n",
    "    money = dict()\n",
    "    dinero.reverse()\n",
    "    print(V)\n",
    "    count=0\n",
    "    for i in dinero:\n",
    "        while i<=V:\n",
    "            V=V-i\n",
    "            if i not in money:\n",
    "                money[i] = 1\n",
    "            else:\n",
    "                money[i] += 1\n",
    "        C = [(k,v) for (k,v) in money.items()]\n",
    "            \n",
    "            \n",
    "    return C\n",
    "                \n",
    "            "
   ]
  },
  {
   "cell_type": "code",
   "execution_count": 172,
   "metadata": {},
   "outputs": [
    {
     "name": "stdout",
     "output_type": "stream",
     "text": [
      "467.0216759810402\n"
     ]
    },
    {
     "data": {
      "text/plain": [
       "[(200, 2), (50, 1), (10, 1), (5, 1), (2, 1), (0.02, 1)]"
      ]
     },
     "execution_count": 172,
     "metadata": {},
     "output_type": "execute_result"
    }
   ],
   "source": [
    "import random\n",
    "\n",
    "V = (random.uniform(0.01, 1000))\n",
    "coin_change_problem(V)\n",
    "\n",
    "#La complejidad es O(n*c)\n",
    "#donde n es el numero de monedas, en nuestro caso la lista que tenemos y c es el valor de dinero que se va a generar"
   ]
  },
  {
   "cell_type": "markdown",
   "metadata": {},
   "source": [
    "<div class=\"alert alert-warning\">\n",
    "<h1>Pregunta 2</h1>\n",
    "<p><strong>\n",
    "¿Qué cambios habría que realizar al algoritmo si no asumimos una cantidad ilimitada de cada tipo de moneda/billete?\n",
    "</strong></p>\n",
    "</div>"
   ]
  },
  {
   "cell_type": "code",
   "execution_count": 13,
   "metadata": {
    "collapsed": true
   },
   "outputs": [],
   "source": [
    "def coin_change_problem2(V):\n",
    "    C=[]\n",
    "    dinero=[0.01,0.02,0.05,0.1,0.2,0.5,1,2,5,10,20,50,100,200,500]\n",
    "    dinero.reverse()\n",
    "    dinero2={i:random.randint(0,10) for i in dinero}\n",
    "    money=dict()\n",
    "    print(V)\n",
    "    count=0\n",
    "    for i in dinero:\n",
    "        while i<=V and dinero2[i]!=0:\n",
    "            V=V-i\n",
    "            dinero2[i]-=1\n",
    "            \n",
    "            if i not in money:\n",
    "                money[i] = 1\n",
    "            else:\n",
    "                money[i] += 1\n",
    "        C = [(k,v) for (k,v) in money.items()]\n",
    "    \n",
    "    \n",
    "            \n",
    "    return C\n",
    "    "
   ]
  },
  {
   "cell_type": "code",
   "execution_count": 14,
   "metadata": {},
   "outputs": [
    {
     "name": "stdout",
     "output_type": "stream",
     "text": [
      "107.32374651272988\n"
     ]
    },
    {
     "data": {
      "text/plain": [
       "[(100, 1), (5, 1), (2, 1), (0.2, 1), (0.1, 1), (0.01, 2)]"
      ]
     },
     "execution_count": 14,
     "metadata": {},
     "output_type": "execute_result"
    }
   ],
   "source": [
    "import random\n",
    "\n",
    "V = random.uniform(0.01, 1000)\n",
    "\n",
    "coin_change_problem2(V)"
   ]
  },
  {
   "cell_type": "markdown",
   "metadata": {},
   "source": [
    "\n",
    "<div class=\"alert alert-success\" style=\"width:90%; margin:0 auto;\">\n",
    "  <h2><p>2 - Problema del vendedor ambulante</p></h2>\n",
    "  \n",
    "  <p>\n",
    "  Dada una lista de ciudades y las distancias entre cada par de ellas, ¿cuál es la ruta más corta posible que visita cada ciudad exactamente una vez y al finalizar regresa a la ciudad origen?\n",
    "  </p>"
   ]
  },
  {
   "cell_type": "markdown",
   "metadata": {},
   "source": [
    "<div class=\"alert alert-danger\" style=\"width:80%; margin:0 auto; padding\">\n",
    "<center><p><h3> Código </h3></p> </center> \n",
    "\n",
    "<p>\n",
    "<h3>INPUT</h3>\n",
    "<ul>\n",
    "<li>__cities__: Lista de ciudades en forma de tuplas (ciudad, latitud, longitud).</li>\n",
    "</ul>\n",
    "<br>\n",
    "<h3>OUTPUT</h3>\n",
    "<ul>\n",
    "<li>__path__: Camino encontrado en forma de lista de ciudades</li>\n",
    "<ul>\n",
    "\n",
    "</p>\n",
    "\n",
    "</div>"
   ]
  },
  {
   "cell_type": "code",
   "execution_count": 1,
   "metadata": {
    "collapsed": true
   },
   "outputs": [],
   "source": [
    "import random\n",
    "def travelling_salesman_problem(cities):\n",
    "    travel=[]\n",
    "    distances={}\n",
    "    visited={}\n",
    "\n",
    "    for i in range(len(cities)):\n",
    "        distances[i]= {}\n",
    "        visited[i]=False\n",
    "        for j in range(len(cities)):\n",
    "            distances[i][j]=((distance(cities[i][1],cities[i][2],cities[j][1],cities[j][2])))\n",
    "            \n",
    "    for i in distances:\n",
    "\n",
    "        distances[i]=sorted(distances[i].items(), key=lambda x: x[1])\n",
    "    \n",
    "    origen=random.randint(0,len(distances))\n",
    "    idx=0\n",
    "    while len(travel)<len(cities):\n",
    "        if visited[distances[origen][idx][0]]==False:\n",
    "            visited[distances[origen][idx][0]]=True\n",
    "            travel.append(distances[origen][idx])\n",
    "            origen=distances[origen][idx][0]\n",
    "\n",
    "            idx=0\n",
    "        else:\n",
    "            idx+=1\n",
    "    return travel\n",
    "        \n",
    "     \n",
    "\n",
    "    \n",
    "def distance(lt1,lg1,lt2,lg2):\n",
    "    lat_total=(lt2-lt1)**2\n",
    "    log_total=(lg2-lg1)**2\n",
    "    return (lat_total+log_total)**0.5\n",
    "    \n",
    "    "
   ]
  },
  {
   "cell_type": "code",
   "execution_count": 2,
   "metadata": {},
   "outputs": [
    {
     "data": {
      "text/plain": [
       "[(3, 0.0),\n",
       " (28, 7.3833879526598345),\n",
       " (87, 6.738523978848369),\n",
       " (97, 5.219733515217589),\n",
       " (69, 3.636965502190086),\n",
       " (74, 0.9731099462090144),\n",
       " (27, 6.339288026342865),\n",
       " (31, 4.896794231730266),\n",
       " (34, 1.9849870604699125),\n",
       " (50, 3.883805771647639),\n",
       " (64, 5.490248871491241),\n",
       " (7, 5.73729641557827),\n",
       " (46, 11.110554752900772),\n",
       " (25, 6.098080486209464),\n",
       " (52, 2.7435893745945927),\n",
       " (35, 15.879873116599878),\n",
       " (47, 9.292551581315934),\n",
       " (71, 12.26021092512082),\n",
       " (83, 1.5143618053892869),\n",
       " (8, 5.087149662012097),\n",
       " (14, 7.260422317559687),\n",
       " (5, 8.23323443136629),\n",
       " (29, 5.246742058640325),\n",
       " (65, 11.660462282970501),\n",
       " (61, 2.800179355099475),\n",
       " (60, 8.112325347381514),\n",
       " (48, 6.84229802528775),\n",
       " (85, 15.614751977733658),\n",
       " (30, 7.0262306072327645),\n",
       " (63, 7.789617737676208),\n",
       " (54, 11.70732020960723),\n",
       " (11, 6.168328881988138),\n",
       " (39, 14.067872709062893),\n",
       " (0, 11.206380045149197),\n",
       " (55, 3.6687864942787676),\n",
       " (80, 6.256952995083501),\n",
       " (23, 15.559914198598623),\n",
       " (16, 12.795532632894533),\n",
       " (68, 35.496015586176775),\n",
       " (24, 23.825084037062094),\n",
       " (53, 4.087438925732016),\n",
       " (67, 7.822167319002441),\n",
       " (45, 6.492324040752484),\n",
       " (40, 3.980794243427639),\n",
       " (4, 4.649143887283449),\n",
       " (93, 10.602335809718427),\n",
       " (81, 8.63993931102867),\n",
       " (18, 6.74386631064648),\n",
       " (17, 5.016689661132425),\n",
       " (95, 5.268309785560466),\n",
       " (2, 10.31403366352282),\n",
       " (38, 6.498309801573998),\n",
       " (6, 8.937435592944674),\n",
       " (1, 14.852694421306971),\n",
       " (15, 2.4364082039558594),\n",
       " (44, 9.786862564621845),\n",
       " (98, 5.147229422213002),\n",
       " (70, 9.844509181981758),\n",
       " (79, 11.218822549702832),\n",
       " (89, 2.144264104694232),\n",
       " (51, 6.19508813422507),\n",
       " (90, 16.805712263781366),\n",
       " (20, 14.99994618992234),\n",
       " (82, 3.14063201673592),\n",
       " (19, 3.3572753053965783),\n",
       " (73, 2.6185118882664162),\n",
       " (41, 0.8007412478736695),\n",
       " (94, 9.29085329597891),\n",
       " (57, 22.49945088120599),\n",
       " (58, 8.764506920480784),\n",
       " (62, 1.715321235401859),\n",
       " (12, 2.9969468037369507),\n",
       " (22, 5.6454094850759455),\n",
       " (99, 14.18593457230241),\n",
       " (13, 3.239493234322004),\n",
       " (84, 12.119032715957484),\n",
       " (42, 26.760988890388756),\n",
       " (9, 12.000311972504532),\n",
       " (88, 6.544733983674405),\n",
       " (91, 0.1546534248599383),\n",
       " (26, 2.9446072290575707),\n",
       " (77, 4.949138667336334),\n",
       " (96, 10.12354673759959),\n",
       " (59, 11.799397726567948),\n",
       " (78, 10.605868853834703),\n",
       " (72, 14.871426020793761),\n",
       " (49, 6.732917102520779),\n",
       " (86, 7.3105076678515735),\n",
       " (33, 15.775859537202324),\n",
       " (21, 35.45828787403654),\n",
       " (66, 62.035981487566275),\n",
       " (92, 1.6369767846218177),\n",
       " (37, 4.057933573845196),\n",
       " (10, 6.71038640341709),\n",
       " (43, 10.36340440691503),\n",
       " (56, 4.664455292335089),\n",
       " (75, 6.627794399490127),\n",
       " (36, 6.3803605547971705),\n",
       " (76, 7.228370993080804),\n",
       " (32, 68.89040593039218)]"
      ]
     },
     "execution_count": 2,
     "metadata": {},
     "output_type": "execute_result"
    }
   ],
   "source": [
    "import random\n",
    "\n",
    "cities = [(_, random.uniform(-50, 50), random.uniform(-50, 50)) for _ in range(100)]\n",
    "\n",
    "travelling_salesman_problem(cities)"
   ]
  },
  {
   "cell_type": "markdown",
   "metadata": {},
   "source": [
    "<div class=\"alert alert-warning\">\n",
    "<h1>Pregunta 3</h1>\n",
    "<p><strong>\n",
    "¿Los caminos que encontremos con este algoritmo serán óptimos?\n",
    "</strong></p>\n",
    "</div>"
   ]
  },
  {
   "cell_type": "markdown",
   "metadata": {},
   "source": [
    "Encontrar caminos de esta forma no será nunca optimo, ya que tendremos una complejidad cuadrática. Solo que de esta forma, haciendo un algoritmo greedy, nos aproximamos a la mejor opción para un camino óptimo\n",
    "\n",
    "Es un algoritmo NP y segun fuentes he visto que su complejidad es O(2^n*n^2)"
   ]
  },
  {
   "cell_type": "markdown",
   "metadata": {},
   "source": [
    "\n",
    "<div class=\"alert alert-success\" style=\"width:90%; margin:0 auto;\">\n",
    "  <h2><p>3 - Fracciones Egipcias</p></h2>\n",
    "  \n",
    "  <p>\n",
    "  Toda fracción positiva puede ser expresada como la suma de fracciones unitarias. Una fracción unitaria es aquella cuyo numerador es $1$ y el denominador es un entero positivo. \n",
    "  </p>\n",
    "  \n",
    "  <p>\n",
    "   Ejemplos:\n",
    "    <ul>\n",
    "        <li>$2/3 = 1/2 + 1/6$</li>\n",
    "        <li>$6/14 = 1/3 + 1/11 + 1/231$</li>\n",
    "        <li>$12/13 = 1/2 + 1/3 + 1/12 + 1/156$</li>\n",
    "    </ul>\n",
    "  </p>"
   ]
  },
  {
   "cell_type": "markdown",
   "metadata": {},
   "source": [
    "<div class=\"alert alert-danger\" style=\"width:80%; margin:0 auto; padding\">\n",
    "<center><p><h3> Código </h3></p> </center> \n",
    "\n",
    "<p>\n",
    "<h3>INPUT</h3>\n",
    "<ul>\n",
    "<li>__numerator__: Numerador.</li>\n",
    "<li>__denominator__: Denominador.</li>\n",
    "</ul>\n",
    "<br>\n",
    "<h3>OUTPUT</h3>\n",
    "<ul>\n",
    "<li>Sin output. Debe mostrar en pantalla la solución de esta forma: '1/2 + 1/3 + ...'</li>\n",
    "<ul>\n",
    "\n",
    "</p>\n",
    "\n",
    "</div>"
   ]
  },
  {
   "cell_type": "code",
   "execution_count": 74,
   "metadata": {
    "collapsed": true
   },
   "outputs": [],
   "source": [
    "import math\n",
    "def egyptian_fractions(n, d):\n",
    "    \n",
    "    fracc=[]\n",
    "    while(n%d!=0):\n",
    "        \n",
    "        tmp=(d//n)+1#aproximem al major nombre\n",
    "        if n/d>1/tmp:\n",
    "            fracc.append(tmp)\n",
    "            n=tmp*n-d\n",
    "            d=tmp*d\n",
    "        else:\n",
    "            break\n",
    "        \n",
    "            \n",
    "        \n",
    "    for i in fracc:\n",
    "        print(\"1 /\",i)\n",
    "\n",
    "        \n",
    "        \n",
    "    \n",
    "    \n",
    "    "
   ]
  },
  {
   "cell_type": "code",
   "execution_count": 75,
   "metadata": {},
   "outputs": [
    {
     "name": "stdout",
     "output_type": "stream",
     "text": [
      "0.13459119496855346\n",
      "1 / 8\n",
      "1 / 105\n",
      "1 / 14841\n",
      "1 / 220240441\n"
     ]
    }
   ],
   "source": [
    "import random\n",
    "\n",
    "n = random.randint(1, 1000)\n",
    "d = random.randint(1, 1000)\n",
    "print(n/d)\n",
    "egyptian_fractions(n, d)"
   ]
  },
  {
   "cell_type": "code",
   "execution_count": null,
   "metadata": {
    "collapsed": true
   },
   "outputs": [],
   "source": []
  },
  {
   "cell_type": "code",
   "execution_count": null,
   "metadata": {
    "collapsed": true
   },
   "outputs": [],
   "source": []
  }
 ],
 "metadata": {
  "kernelspec": {
   "display_name": "Python 3",
   "language": "python",
   "name": "python3"
  },
  "language_info": {
   "codemirror_mode": {
    "name": "ipython",
    "version": 3
   },
   "file_extension": ".py",
   "mimetype": "text/x-python",
   "name": "python",
   "nbconvert_exporter": "python",
   "pygments_lexer": "ipython3",
   "version": "3.6.1"
  }
 },
 "nbformat": 4,
 "nbformat_minor": 2
}
